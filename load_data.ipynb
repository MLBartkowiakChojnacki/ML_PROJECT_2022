{
  "cells": [
    {
      "cell_type": "markdown",
      "metadata": {
        "id": "view-in-github",
        "colab_type": "text"
      },
      "source": [
        "<a href=\"https://colab.research.google.com/github/MLBartkowiakChojnacki/ML_PROJECT_2022/blob/loading-data/load_data.ipynb\" target=\"_parent\"><img src=\"https://colab.research.google.com/assets/colab-badge.svg\" alt=\"Open In Colab\"/></a>"
      ]
    },
    {
      "cell_type": "code",
      "source": [
        "from google.colab import drive\n",
        "drive.mount('/content/drive')"
      ],
      "metadata": {
        "colab": {
          "base_uri": "https://localhost:8080/"
        },
        "id": "dZN-jGndhiwy",
        "outputId": "aab4818a-ecd7-475b-f44a-ca15f6424434"
      },
      "execution_count": null,
      "outputs": [
        {
          "output_type": "stream",
          "name": "stdout",
          "text": [
            "Mounted at /content/drive\n"
          ]
        }
      ]
    },
    {
      "cell_type": "code",
      "execution_count": null,
      "metadata": {
        "id": "4YHhyaa-go43"
      },
      "outputs": [],
      "source": [
        "import pandas as pd\n",
        "\n",
        "#rows_num = pd.read_csv('C:/Users/Marta/Desktop/project/train_data.csv', nrows = 1)\n",
        "rows_num = pd.read_csv('/content/drive/MyDrive/train_data.csv', nrows = 1)\n",
        "features = []\n",
        "col_num = len(rows_num.columns)\n",
        "\n",
        "for n in range (0, col_num):\n",
        "    features.append('feature_{}'.format(str(n)))"
      ]
    },
    {
      "cell_type": "code",
      "execution_count": null,
      "metadata": {
        "id": "6FnXOkeHgo47"
      },
      "outputs": [],
      "source": [
        "X = pd.read_csv('/content/drive/MyDrive/train_data.csv', names = features)\n",
        "#X = pd.read_csv('C:/Users/Marta/Desktop/project/train_data.csv', names = features)\n",
        "X.to_pickle('pickles/X.pkl')"
      ]
    },
    {
      "cell_type": "code",
      "execution_count": null,
      "metadata": {
        "id": "F9Ab1Axzgo48"
      },
      "outputs": [],
      "source": [
        "y = pd.read_csv('/content/drive/MyDrive/train_labels.csv', names = ['target'])\n",
        "#y = pd.read_csv('C:/Users/Marta/Desktop/project/train_labels.csv', names = ['target'])\n",
        "y.to_pickle('pickles/y.pkl')"
      ]
    }
  ],
  "metadata": {
    "interpreter": {
      "hash": "2e3cc47668b018802626e3a416c19566715ed21c2b0a730c77eabf314b853671"
    },
    "kernelspec": {
      "display_name": "Python 3.10.4 ('python_in_ml')",
      "language": "python",
      "name": "python3"
    },
    "language_info": {
      "codemirror_mode": {
        "name": "ipython",
        "version": 3
      },
      "file_extension": ".py",
      "mimetype": "text/x-python",
      "name": "python",
      "nbconvert_exporter": "python",
      "pygments_lexer": "ipython3",
      "version": "3.10.4"
    },
    "orig_nbformat": 4,
    "colab": {
      "name": "load_data.ipynb",
      "provenance": [],
      "include_colab_link": true
    }
  },
  "nbformat": 4,
  "nbformat_minor": 0
}