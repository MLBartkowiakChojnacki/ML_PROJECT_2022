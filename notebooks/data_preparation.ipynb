{
 "cells": [
  {
   "cell_type": "code",
   "execution_count": 33,
   "metadata": {},
   "outputs": [],
   "source": [
    "from sklearn.model_selection import StratifiedKFold\n",
    "from sklearn.neighbors import KNeighborsClassifier\n",
    "import numpy as np\n",
    "import pandas as pd\n",
    "\n",
    "data_directory_vsc = 'C:/Users/Marta/Desktop/Studia/CDV/IV semestr 2022L/Wykorzystanie Pythona w uczeniu maszynowym/ml_project/project/ML_PROJECT_2022/data'\n",
    "data_directory_colab = '/content/project/data'\n",
    "\n",
    "\n",
    "X = pd.read_pickle('{}/raw/X_sel.pkl'.format(data_directory_vsc))\n",
    "y = np.ravel(pd.read_pickle('{}/raw/y.pkl'.format(data_directory_vsc)))"
   ]
  },
  {
   "cell_type": "code",
   "execution_count": 34,
   "metadata": {},
   "outputs": [
    {
     "name": "stdout",
     "output_type": "stream",
     "text": [
      "Fold nb: 0\n",
      "X train shape: (3375, 241)\n",
      "Class sizes: [ 338 3037]\n",
      "Score: 0.9146666666666666\n",
      "X test shape: (375, 241)\n",
      "Class sizes: [ 37 338]\n",
      "Score: 0.896\n",
      "Fold nb: 1\n",
      "X train shape: (3375, 241)\n",
      "Class sizes: [ 338 3037]\n",
      "Score: 0.9158518518518518\n",
      "X test shape: (375, 241)\n",
      "Class sizes: [ 37 338]\n",
      "Score: 0.88\n",
      "Fold nb: 2\n",
      "X train shape: (3375, 241)\n",
      "Class sizes: [ 338 3037]\n",
      "Score: 0.917037037037037\n",
      "X test shape: (375, 241)\n",
      "Class sizes: [ 37 338]\n",
      "Score: 0.896\n",
      "Fold nb: 3\n",
      "X train shape: (3375, 241)\n",
      "Class sizes: [ 338 3037]\n",
      "Score: 0.9185185185185185\n",
      "X test shape: (375, 241)\n",
      "Class sizes: [ 37 338]\n",
      "Score: 0.8933333333333333\n",
      "Fold nb: 4\n",
      "X train shape: (3375, 241)\n",
      "Class sizes: [ 338 3037]\n",
      "Score: 0.9146666666666666\n",
      "X test shape: (375, 241)\n",
      "Class sizes: [ 37 338]\n",
      "Score: 0.9013333333333333\n",
      "Fold nb: 5\n",
      "X train shape: (3375, 241)\n",
      "Class sizes: [ 337 3038]\n",
      "Score: 0.9155555555555556\n",
      "X test shape: (375, 241)\n",
      "Class sizes: [ 38 337]\n",
      "Score: 0.888\n",
      "Fold nb: 6\n",
      "X train shape: (3375, 241)\n",
      "Class sizes: [ 337 3038]\n",
      "Score: 0.914962962962963\n",
      "X test shape: (375, 241)\n",
      "Class sizes: [ 38 337]\n",
      "Score: 0.8933333333333333\n",
      "Fold nb: 7\n",
      "X train shape: (3375, 241)\n",
      "Class sizes: [ 337 3038]\n",
      "Score: 0.9134814814814814\n",
      "X test shape: (375, 241)\n",
      "Class sizes: [ 38 337]\n",
      "Score: 0.896\n",
      "Fold nb: 8\n",
      "X train shape: (3375, 241)\n",
      "Class sizes: [ 337 3038]\n",
      "Score: 0.9155555555555556\n",
      "X test shape: (375, 241)\n",
      "Class sizes: [ 38 337]\n",
      "Score: 0.8933333333333333\n",
      "Fold nb: 9\n",
      "X train shape: (3375, 241)\n",
      "Class sizes: [ 337 3038]\n",
      "Score: 0.917037037037037\n",
      "X test shape: (375, 241)\n",
      "Class sizes: [ 38 337]\n",
      "Score: 0.88\n"
     ]
    }
   ],
   "source": [
    "splits = 10\n",
    "skf = StratifiedKFold(n_splits=splits, shuffle=True, random_state=42)\n",
    "\n",
    "\n",
    "for fold_nb, (train_index, test_index) in enumerate(skf.split(X, y)):\n",
    "    X_train, X_test = X.iloc[train_index], X.iloc[test_index]\n",
    "    y_train, y_test = y[train_index], y[test_index]\n",
    "    knn = KNeighborsClassifier(n_neighbors=3) \n",
    "    knn.fit(X_train, y_train)\n",
    "    print(\"Fold nb: {}\".format(fold_nb))\n",
    "    print('X train shape: {}'.format(np.shape(X_train)))\n",
    "    print('Class sizes: {}'.format(np.bincount(y_train)))\n",
    "    print('Score: {}'.format(knn.score(X_train, y_train)))\n",
    "    print('X test shape: {}'.format(np.shape(X_test)))\n",
    "    print('Class sizes: {}'.format(np.bincount(y_test)))\n",
    "    print('Score: {}'.format(knn.score(X_test, y_test)))"
   ]
  },
  {
   "cell_type": "code",
   "execution_count": 5,
   "metadata": {},
   "outputs": [],
   "source": [
    "from sklearn.preprocessing import StandardScaler\n",
    "from sklearn.linear_model import LogisticRegression\n",
    "from sklearn.pipeline import Pipeline\n",
    "\n",
    "steps = list()\n",
    "steps.append(('scaler', StandardScaler()))\n",
    "steps.append(('model', LogisticRegression()))\n",
    "pipeline = Pipeline(steps=steps)\n"
   ]
  }
 ],
 "metadata": {
  "interpreter": {
   "hash": "39050fd8cc4c22f6490bdf197f27ef40698f8c053aaa90441856e399e2244469"
  },
  "kernelspec": {
   "display_name": "Python 3.9.12 ('base')",
   "language": "python",
   "name": "python3"
  },
  "language_info": {
   "codemirror_mode": {
    "name": "ipython",
    "version": 3
   },
   "file_extension": ".py",
   "mimetype": "text/x-python",
   "name": "python",
   "nbconvert_exporter": "python",
   "pygments_lexer": "ipython3",
   "version": "3.9.12"
  },
  "orig_nbformat": 4
 },
 "nbformat": 4,
 "nbformat_minor": 2
}
