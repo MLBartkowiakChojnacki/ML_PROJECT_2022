{
  "nbformat": 4,
  "nbformat_minor": 0,
  "metadata": {
    "colab": {
      "name": "ML_PROJECT_2022_DIM_RED.ipynb",
      "provenance": [],
      "authorship_tag": "ABX9TyNnT/efQL2DUy+/qLETrjy5",
      "include_colab_link": true
    },
    "kernelspec": {
      "name": "python3",
      "display_name": "Python 3"
    },
    "language_info": {
      "name": "python"
    }
  },
  "cells": [
    {
      "cell_type": "markdown",
      "metadata": {
        "id": "view-in-github",
        "colab_type": "text"
      },
      "source": [
        "<a href=\"https://colab.research.google.com/github/MLBartkowiakChojnacki/ML_PROJECT_2022/blob/DIMENSIONALITY_REDUCTION/notebooks/ML_PROJECT_2022_DIM_RED.ipynb\" target=\"_parent\"><img src=\"https://colab.research.google.com/assets/colab-badge.svg\" alt=\"Open In Colab\"/></a>"
      ]
    },
    {
      "cell_type": "markdown",
      "source": [
        "#FEATURE SELECTION TRAINING"
      ],
      "metadata": {
        "id": "T6-ZSGXHTzD4"
      }
    },
    {
      "cell_type": "markdown",
      "source": [
        "##ANOVA F-test Feature Selection\n",
        "The scikit-learn machine library provides an implementation of the ANOVA F-test in the function\n",
        "\n",
        "\n",
        "```\n",
        "f classif()\n",
        "```\n",
        "\n",
        " "
      ],
      "metadata": {
        "id": "xM_os8lrdnX9"
      }
    },
    {
      "cell_type": "code",
      "source": [
        "import pandas as pd\n",
        "from sklearn.model_selection import train_test_split\n"
      ],
      "metadata": {
        "id": "Cj8cz7POT25b"
      },
      "execution_count": 33,
      "outputs": []
    },
    {
      "cell_type": "code",
      "source": [
        "# load the dataset\n",
        "def load_dataset(filename):\n",
        "  # load the dataset\n",
        "  data = pd.read_csv(filename, header=None)\n",
        "  # retrieve array\n",
        "  dataset = data.values\n",
        "  # split into input and output variables\n",
        "  X = dataset[:, :-1]\n",
        "  y = dataset[:,-1]\n",
        "  return X, y\n",
        "\n",
        "X, y = load_dataset('https://raw.githubusercontent.com/jbrownlee/Datasets/master/pima-indians-diabetes.csv')"
      ],
      "metadata": {
        "id": "qnbyqPoHVk30"
      },
      "execution_count": null,
      "outputs": []
    },
    {
      "cell_type": "code",
      "source": [
        "X.shape"
      ],
      "metadata": {
        "colab": {
          "base_uri": "https://localhost:8080/"
        },
        "id": "r1tYuRyZUge9",
        "outputId": "08298310-e992-48e1-fe98-b8f116340235"
      },
      "execution_count": 30,
      "outputs": [
        {
          "output_type": "execute_result",
          "data": {
            "text/plain": [
              "(768, 8)"
            ]
          },
          "metadata": {},
          "execution_count": 30
        }
      ]
    },
    {
      "cell_type": "code",
      "source": [
        "y.shape"
      ],
      "metadata": {
        "colab": {
          "base_uri": "https://localhost:8080/"
        },
        "id": "tLMnDlAEUtJX",
        "outputId": "18bc842a-f0eb-42e7-a63b-ce641f9d01d9"
      },
      "execution_count": 31,
      "outputs": [
        {
          "output_type": "execute_result",
          "data": {
            "text/plain": [
              "(768,)"
            ]
          },
          "metadata": {},
          "execution_count": 31
        }
      ]
    },
    {
      "cell_type": "code",
      "source": [
        "X_train, X_test, y_train, y_test = train_test_split(X, y, test_size=0.33, random_state=1)"
      ],
      "metadata": {
        "id": "5UULjdKkVYmt"
      },
      "execution_count": 34,
      "outputs": []
    },
    {
      "cell_type": "code",
      "source": [
        "# example of anova f-test feature selection for numerical data\n",
        "from pandas import read_csv\n",
        "from sklearn.model_selection import train_test_split\n",
        "from sklearn.feature_selection import SelectKBest\n",
        "from sklearn.feature_selection import f_classif\n",
        "from matplotlib import pyplot\n",
        "# load the dataset\n",
        "def load_dataset(filename):\n",
        "  # load the dataset as a pandas DataFrame\n",
        "  data = read_csv(filename, header=None)\n",
        "  # retrieve numpy array\n",
        "  dataset = data.values\n",
        "  # split into input (X) and output (y) variables\n",
        "  X = dataset[:, :-1]\n",
        "  y = dataset[:,-1]\n",
        "  return X, y\n",
        "\n",
        "# feature selection\n",
        "def select_features(X_train, y_train, X_test):\n",
        "  # configure to select all features\n",
        "  fs = SelectKBest(score_func=f_classif, k='all')\n",
        "  # learn relationship from training data\n",
        "  fs.fit(X_train, y_train)\n",
        "  # transform train input data\n",
        "  X_train_fs = fs.transform(X_train)\n",
        "  # transform test input data\n",
        "  X_test_fs = fs.transform(X_test)\n",
        "  return X_train_fs, X_test_fs, fs\n",
        "# load the dataset\n",
        "X, y = load_dataset('https://raw.githubusercontent.com/jbrownlee/Datasets/master/pima-indians-diabetes.csv')\n",
        "# split into train and test sets\n",
        "X_train, X_test, y_train, y_test = train_test_split(X, y, test_size=0.33, random_state=1)\n",
        "# feature selection\n",
        "X_train_fs, X_test_fs, fs = select_features(X_train, y_train, X_test)\n",
        "# what are scores for the features\n",
        "for i in range(len(fs.scores_)):\n",
        "  print('Feature %d: %f' % (i, fs.scores_[i]))\n",
        "# plot the scores\n",
        "pyplot.bar([i for i in range(len(fs.scores_))], fs.scores_)\n",
        "pyplot.show()"
      ],
      "metadata": {
        "colab": {
          "base_uri": "https://localhost:8080/",
          "height": 404
        },
        "id": "dhX1fPYXaWVN",
        "outputId": "0eea0a39-ec86-4030-b47e-a9925cadfb04"
      },
      "execution_count": 36,
      "outputs": [
        {
          "output_type": "stream",
          "name": "stdout",
          "text": [
            "Feature 0: 16.527385\n",
            "Feature 1: 131.325562\n",
            "Feature 2: 0.042371\n",
            "Feature 3: 1.415216\n",
            "Feature 4: 12.778966\n",
            "Feature 5: 49.209523\n",
            "Feature 6: 13.377142\n",
            "Feature 7: 25.126440\n"
          ]
        },
        {
          "output_type": "display_data",
          "data": {
            "text/plain": [
              "<Figure size 432x288 with 1 Axes>"
            ],
            "image/png": "[encoded data removed]"
          },
          "metadata": {
            "needs_background": "light"
          }
        }
      ]
    },
    {
      "cell_type": "markdown",
      "source": [
        "##Mutual Information Feature Selection\n",
        "The scikit-learn machine learning library provides\n",
        "an implementation of mutual information for feature selection with numeric input and categorical\n",
        "output variables via the function \n",
        "`mutual_info_classif()`\n",
        ". \n",
        "Like \n",
        "`f_classif()`\n",
        "it can be used\n",
        "in the SelectKBest feature selection strategy (and other strategies)."
      ],
      "metadata": {
        "id": "0OBOr3ladiR6"
      }
    },
    {
      "cell_type": "code",
      "source": [
        "# example of mutual information feature selection for numerical input data\n",
        "from pandas import read_csv\n",
        "from sklearn.model_selection import train_test_split\n",
        "from sklearn.feature_selection import SelectKBest\n",
        "from sklearn.feature_selection import mutual_info_classif\n",
        "from matplotlib import pyplot\n",
        "# load the dataset\n",
        "def load_dataset(filename):\n",
        "# load the dataset as a pandas DataFrame\n",
        "  data = read_csv(filename, header=None)\n",
        "  # retrieve numpy array\n",
        "  dataset = data.values\n",
        "  # split into input (X) and output (y) variables\n",
        "  X = dataset[:, :-1]\n",
        "  y = dataset[:,-1]\n",
        "  return X, y\n",
        "# feature selection\n",
        "def select_features(X_train, y_train, X_test):\n",
        "  # configure to select all features\n",
        "  fs = SelectKBest(score_func=mutual_info_classif, k='all')\n",
        "  # learn relationship from training data\n",
        "  fs.fit(X_train, y_train)\n",
        "  # transform train input data\n",
        "  X_train_fs = fs.transform(X_train)\n",
        "  # transform test input data\n",
        "  X_test_fs = fs.transform(X_test)\n",
        "  return X_train_fs, X_test_fs, fs\n",
        "# load the dataset\n",
        "X, y = load_dataset('https://raw.githubusercontent.com/jbrownlee/Datasets/master/pima-indians-diabetes.csv')\n",
        "# split into train and test sets\n",
        "X_train, X_test, y_train, y_test = train_test_split(X, y, test_size=0.33, random_state=1)\n",
        "# feature selection\n",
        "X_train_fs, X_test_fs, fs = select_features(X_train, y_train, X_test)\n",
        "# what are scores for the features\n",
        "for i in range(len(fs.scores_)):\n",
        "  print('Feature %d: %f' % (i, fs.scores_[i]))\n",
        "# plot the scores\n",
        "pyplot.bar([i for i in range(len(fs.scores_))], fs.scores_)\n",
        "pyplot.show()"
      ],
      "metadata": {
        "colab": {
          "base_uri": "https://localhost:8080/",
          "height": 404
        },
        "id": "c1aoITuReayy",
        "outputId": "836cd181-8e59-41cb-c639-5046ec6e786d"
      },
      "execution_count": 42,
      "outputs": [
        {
          "output_type": "stream",
          "name": "stdout",
          "text": [
            "Feature 0: 0.024239\n",
            "Feature 1: 0.102582\n",
            "Feature 2: 0.030731\n",
            "Feature 3: 0.006934\n",
            "Feature 4: 0.053357\n",
            "Feature 5: 0.076066\n",
            "Feature 6: 0.017017\n",
            "Feature 7: 0.040614\n"
          ]
        },
        {
          "output_type": "display_data",
          "data": {
            "text/plain": [
              "<Figure size 432x288 with 1 Axes>"
            ],
            "image/png": "[encoded data removed]"
          },
          "metadata": {
            "needs_background": "light"
          }
        }
      ]
    },
    {
      "cell_type": "markdown",
      "source": [
        "##Modeling with selected features"
      ],
      "metadata": {
        "id": "Nje9bcI8f99h"
      }
    },
    {
      "cell_type": "markdown",
      "source": [
        "###Model built using all features\n",
        "First we create base line with all features and then compare with model based\n",
        "on features selected with ANOVA and mutual information."
      ],
      "metadata": {
        "id": "SPaM_-DagA9Q"
      }
    },
    {
      "cell_type": "code",
      "source": [
        "# evaluation of a model using all input features\n",
        "from pandas import read_csv\n",
        "from sklearn.model_selection import train_test_split\n",
        "from sklearn.linear_model import LogisticRegression\n",
        "from sklearn.metrics import accuracy_score\n",
        "# load the dataset\n",
        "def load_dataset(filename):\n",
        "  # load the dataset as a pandas DataFrame\n",
        "  data = read_csv(filename, header=None)\n",
        "  # retrieve numpy array\n",
        "  dataset = data.values\n",
        "  # split into input (X) and output (y) variables\n",
        "  X = dataset[:, :-1]\n",
        "  y = dataset[:,-1]\n",
        "  return X, y\n",
        "# load the dataset\n",
        "X, y = load_dataset('https://raw.githubusercontent.com/jbrownlee/Datasets/master/pima-indians-diabetes.csv')\n",
        "# split into train and test sets\n",
        "X_train, X_test, y_train, y_test = train_test_split(X, y, test_size=0.33, random_state=1)\n",
        "# fit the model\n",
        "model = LogisticRegression(solver='liblinear')\n",
        "model.fit(X_train, y_train)\n",
        "# evaluate the model\n",
        "yhat = model.predict(X_test)\n",
        "# evaluate predictions\n",
        "accuracy = accuracy_score(y_test, yhat)\n",
        "print('Accuracy: %.2f' % (accuracy*100))"
      ],
      "metadata": {
        "colab": {
          "base_uri": "https://localhost:8080/"
        },
        "id": "cFWUenV7gEQs",
        "outputId": "03e161ee-1239-4ae3-ae8f-32cf9a8b34af"
      },
      "execution_count": 45,
      "outputs": [
        {
          "output_type": "stream",
          "name": "stdout",
          "text": [
            "Accuracy: 77.56\n"
          ]
        }
      ]
    },
    {
      "cell_type": "markdown",
      "source": [
        "###Model Built Using ANOVA F-test Features"
      ],
      "metadata": {
        "id": "2XXNveMfhRHf"
      }
    },
    {
      "cell_type": "code",
      "source": [
        "# evaluation of a model using 4 features chosen with anova f-test\n",
        "from pandas import read_csv\n",
        "from sklearn.model_selection import train_test_split\n",
        "from sklearn.feature_selection import SelectKBest\n",
        "from sklearn.feature_selection import f_classif\n",
        "from sklearn.linear_model import LogisticRegression\n",
        "from sklearn.metrics import accuracy_score\n",
        "# load the dataset\n",
        "def load_dataset(filename):\n",
        "  # load the dataset as a pandas DataFrame\n",
        "  data = read_csv(filename, header=None)\n",
        "  # retrieve numpy array\n",
        "  dataset = data.values\n",
        "  # split into input (X) and output (y) variables\n",
        "  X = dataset[:, :-1]\n",
        "  y = dataset[:,-1]\n",
        "  return X, y\n",
        "\n",
        "# feature selection\n",
        "def select_features(X_train, y_train, X_test):\n",
        "  # configure to select a subset of features\n",
        "  fs = SelectKBest(score_func=f_classif, k=4)\n",
        "  # learn relationship from training data\n",
        "  fs.fit(X_train, y_train)\n",
        "  # transform train input data\n",
        "  X_train_fs = fs.transform(X_train)\n",
        "  # transform test input data\n",
        "  X_test_fs = fs.transform(X_test)\n",
        "  return X_train_fs, X_test_fs, fs\n",
        "# load the dataset\n",
        "X, y = load_dataset('https://raw.githubusercontent.com/jbrownlee/Datasets/master/pima-indians-diabetes.csv')\n",
        "# split into train and test sets\n",
        "X_train, X_test, y_train, y_test = train_test_split(X, y, test_size=0.33, random_state=1)\n",
        "# feature selection\n",
        "X_train_fs, X_test_fs, fs = select_features(X_train, y_train, X_test)\n",
        "# fit the model\n",
        "model = LogisticRegression(solver='liblinear')\n",
        "model.fit(X_train_fs, y_train)\n",
        "# evaluate the model\n",
        "yhat = model.predict(X_test_fs)\n",
        "# evaluate predictions\n",
        "accuracy = accuracy_score(y_test, yhat)\n",
        "print('Accuracy: %.2f' % (accuracy*100))"
      ],
      "metadata": {
        "colab": {
          "base_uri": "https://localhost:8080/"
        },
        "id": "9E8fXTHqhSO9",
        "outputId": "5d36132d-dd55-4fcb-cb97-55fed1abccdb"
      },
      "execution_count": 57,
      "outputs": [
        {
          "output_type": "stream",
          "name": "stdout",
          "text": [
            "Accuracy: 78.74\n"
          ]
        }
      ]
    },
    {
      "cell_type": "markdown",
      "source": [
        "###Model Built Using Mutual Information Features"
      ],
      "metadata": {
        "id": "oZUXpPPbiHeZ"
      }
    },
    {
      "cell_type": "code",
      "source": [
        "# evaluation of a model using 4 features chosen with mutual information\n",
        "from pandas import read_csv\n",
        "from sklearn.model_selection import train_test_split\n",
        "from sklearn.feature_selection import SelectKBest\n",
        "from sklearn.feature_selection import mutual_info_classif\n",
        "from sklearn.linear_model import LogisticRegression\n",
        "from sklearn.metrics import accuracy_score\n",
        "# load the dataset\n",
        "def load_dataset(filename):\n",
        "  # load the dataset as a pandas DataFrame\n",
        "  data = read_csv(filename, header=None)\n",
        "  # retrieve numpy array\n",
        "  dataset = data.values\n",
        "  # split into input (X) and output (y) variables\n",
        "  X = dataset[:, :-1]\n",
        "  y = dataset[:,-1]\n",
        "  return X, y\n",
        "# feature selection\n",
        "def select_features(X_train, y_train, X_test):\n",
        "  # configure to select a subset of features\n",
        "  fs = SelectKBest(score_func=mutual_info_classif, k=4)\n",
        "  # learn relationship from training data\n",
        "  fs.fit(X_train, y_train)\n",
        "  # transform train input data\n",
        "  X_train_fs = fs.transform(X_train)\n",
        "  # transform test input data\n",
        "  X_test_fs = fs.transform(X_test)\n",
        "  return X_train_fs, X_test_fs, fs\n",
        "# load the dataset\n",
        "X, y = load_dataset('https://raw.githubusercontent.com/jbrownlee/Datasets/master/pima-indians-diabetes.csv')\n",
        "# split into train and test sets\n",
        "X_train, X_test, y_train, y_test = train_test_split(X, y, test_size=0.33, random_state=1)\n",
        "# feature selection\n",
        "X_train_fs, X_test_fs, fs = select_features(X_train, y_train, X_test)\n",
        "# fit the model\n",
        "model = LogisticRegression(solver='liblinear')\n",
        "model.fit(X_train_fs, y_train)\n",
        "# evaluate the model\n",
        "yhat = model.predict(X_test_fs)\n",
        "# evaluate predictions\n",
        "accuracy = accuracy_score(y_test, yhat)\n",
        "print('Accuracy: %.2f' % (accuracy*100))"
      ],
      "metadata": {
        "colab": {
          "base_uri": "https://localhost:8080/"
        },
        "id": "aaXKR85oiI-e",
        "outputId": "3756a2c8-2156-49e9-c90f-2cc01e71829a"
      },
      "execution_count": 69,
      "outputs": [
        {
          "output_type": "stream",
          "name": "stdout",
          "text": [
            "Accuracy: 77.17\n"
          ]
        }
      ]
    },
    {
      "cell_type": "markdown",
      "source": [
        "###Tune the Number of Selected Features"
      ],
      "metadata": {
        "id": "y91Ekr3QmTGC"
      }
    },
    {
      "cell_type": "code",
      "source": [
        "# compare different numbers of features selected using anova f-test\n",
        "from pandas import read_csv\n",
        "from sklearn.model_selection import RepeatedStratifiedKFold\n",
        "from sklearn.feature_selection import SelectKBest\n",
        "from sklearn.feature_selection import f_classif\n",
        "from sklearn.linear_model import LogisticRegression\n",
        "from sklearn.pipeline import Pipeline\n",
        "from sklearn.model_selection import GridSearchCV\n",
        "# load the dataset\n",
        "def load_dataset(filename):\n",
        "  # load the dataset as a pandas DataFrame\n",
        "  data = read_csv(filename, header=None)\n",
        "  # retrieve numpy array\n",
        "  dataset = data.values\n",
        "  # split into input (X) and output (y) variables\n",
        "  X = dataset[:, :-1]\n",
        "  y = dataset[:,-1]\n",
        "  return X, y\n",
        "# define dataset\n",
        "X, y = load_dataset('https://raw.githubusercontent.com/jbrownlee/Datasets/master/pima-indians-diabetes.csv')\n",
        "# define the evaluation method\n",
        "cv = RepeatedStratifiedKFold(n_splits=10, n_repeats=3, random_state=1)\n",
        "# define the pipeline to evaluate\n",
        "model = LogisticRegression(solver='liblinear')\n",
        "fs = SelectKBest(score_func=f_classif)\n",
        "pipeline = Pipeline(steps=[('anova',fs), ('lr', model)])\n",
        "# define the grid\n",
        "grid = dict()\n",
        "grid['anova__k'] = [i+1 for i in range(X.shape[1])]\n",
        "# define the grid search\n",
        "search = GridSearchCV(pipeline, grid, scoring='accuracy', n_jobs=-1, cv=cv)\n",
        "# perform the search\n",
        "results = search.fit(X, y)\n",
        "# summarize best\n",
        "print('Best Mean Accuracy: %.3f' % results.best_score_)\n",
        "print('Best Config: %s' % results.best_params_)"
      ],
      "metadata": {
        "colab": {
          "base_uri": "https://localhost:8080/"
        },
        "id": "YdOGf6k8mURA",
        "outputId": "2da53c4f-b0d9-4333-d17c-c3def114899e"
      },
      "execution_count": 74,
      "outputs": [
        {
          "output_type": "stream",
          "name": "stdout",
          "text": [
            "Best Mean Accuracy: 0.770\n",
            "Best Config: {'anova__k': 5}\n"
          ]
        }
      ]
    },
    {
      "cell_type": "code",
      "source": [
        "# compare different numbers of features selected using anova f-test\n",
        "from numpy import mean\n",
        "from numpy import std\n",
        "from pandas import read_csv\n",
        "from sklearn.model_selection import cross_val_score\n",
        "from sklearn.model_selection import RepeatedStratifiedKFold\n",
        "from sklearn.feature_selection import SelectKBest\n",
        "from sklearn.feature_selection import f_classif\n",
        "from sklearn.linear_model import LogisticRegression\n",
        "from sklearn.pipeline import Pipeline\n",
        "from matplotlib import pyplot\n",
        "# load the dataset\n",
        "def load_dataset(filename):\n",
        "  # load the dataset as a pandas DataFrame\n",
        "  data = read_csv(filename, header=None)\n",
        "  # retrieve numpy array\n",
        "  dataset = data.values\n",
        "  # split into input (X) and output (y) variables\n",
        "  X = dataset[:, :-1]\n",
        "  y = dataset[:,-1]\n",
        "  return X, y\n",
        "# evaluate a given model using cross-validation\n",
        "def evaluate_model(model):\n",
        "  cv = RepeatedStratifiedKFold(n_splits=10, n_repeats=3, random_state=1)\n",
        "  scores = cross_val_score(model, X, y, scoring='accuracy', cv=cv, n_jobs=-1)\n",
        "  return scores\n",
        "# define dataset\n",
        "X, y = load_dataset('https://raw.githubusercontent.com/jbrownlee/Datasets/master/pima-indians-diabetes.csv')\n",
        "# define number of features to evaluate\n",
        "num_features = [i+1 for i in range(X.shape[1])]\n",
        "# enumerate each number of features\n",
        "results = list()\n",
        "for k in num_features:\n",
        "  # create pipeline\n",
        "  model = LogisticRegression(solver='liblinear')\n",
        "  fs = SelectKBest(score_func=f_classif, k=k)\n",
        "  pipeline = Pipeline(steps=[('anova',fs), ('lr', model)])\n",
        "  # evaluate the model\n",
        "  scores = evaluate_model(pipeline)\n",
        "  results.append(scores)\n",
        "  # summarize the results\n",
        "  print('>%d %.3f (%.3f)' % (k, mean(scores), std(scores)))\n",
        "# plot model performance for comparison\n",
        "pyplot.boxplot(results, labels=num_features, showmeans=True)\n",
        "pyplot.show()\n"
      ],
      "metadata": {
        "colab": {
          "base_uri": "https://localhost:8080/",
          "height": 404
        },
        "id": "EiG1T1hFnAZg",
        "outputId": "02ef6e17-4e30-45f8-e330-276a9442c448"
      },
      "execution_count": 75,
      "outputs": [
        {
          "output_type": "stream",
          "name": "stdout",
          "text": [
            ">1 0.748 (0.048)\n",
            ">2 0.756 (0.042)\n",
            ">3 0.761 (0.044)\n",
            ">4 0.759 (0.042)\n",
            ">5 0.770 (0.041)\n",
            ">6 0.766 (0.042)\n",
            ">7 0.770 (0.042)\n",
            ">8 0.768 (0.040)\n"
          ]
        },
        {
          "output_type": "display_data",
          "data": {
            "text/plain": [
              "<Figure size 432x288 with 1 Axes>"
            ],
            "image/png": "[encoded data removed]"
          },
          "metadata": {
            "needs_background": "light"
          }
        }
      ]
    },
    {
      "cell_type": "markdown",
      "source": [
        "#DIMENSIONALITY REDUCTION TRAINING\n",
        "https://machinelearningmastery.com/dimensionality-reduction-algorithms-with-python/\n",
        "\n"
      ],
      "metadata": {
        "id": "2F_SxRTH83mR"
      }
    },
    {
      "cell_type": "code",
      "execution_count": 1,
      "metadata": {
        "colab": {
          "base_uri": "https://localhost:8080/"
        },
        "id": "VtV4uTHD8lre",
        "outputId": "d2f58991-521d-4716-d3f4-caea026cb192"
      },
      "outputs": [
        {
          "output_type": "stream",
          "name": "stdout",
          "text": [
            "(1000, 20) (1000,)\n"
          ]
        }
      ],
      "source": [
        "# synthetic classification dataset\n",
        "from sklearn.datasets import make_classification\n",
        "# define dataset\n",
        "X, y = make_classification(n_samples=1000, n_features=20, n_informative=10, n_redundant=10, random_state=7)\n",
        "# summarize the dataset\n",
        "print(X.shape, y.shape)"
      ]
    },
    {
      "cell_type": "code",
      "source": [
        "X"
      ],
      "metadata": {
        "colab": {
          "base_uri": "https://localhost:8080/"
        },
        "id": "PcKaqghGCrNy",
        "outputId": "ce9caae8-6955-4cc4-a861-5172c26efed6"
      },
      "execution_count": 3,
      "outputs": [
        {
          "output_type": "execute_result",
          "data": {
            "text/plain": [
              "array([[ 0.08054814,  0.82273313, -1.21175254, ...,  2.88260938,\n",
              "         1.79160028, -4.29708787],\n",
              "       [-2.3302999 , -4.86608574, -3.88291317, ..., -0.14561581,\n",
              "        -0.55489384,  0.61420772],\n",
              "       [-1.19714954,  1.5556314 , -0.61871573, ...,  1.73481788,\n",
              "         0.13067403, -3.13351468],\n",
              "       ...,\n",
              "       [ 0.61415067, -3.04457734, -3.15540898, ..., -0.3321506 ,\n",
              "        -2.76644911,  0.81460546],\n",
              "       [ 3.34221924, -1.33613258, -0.34013763, ..., -3.95225071,\n",
              "         1.33439536, -0.69139029],\n",
              "       [-1.49207892,  2.75225738, -1.22655776, ..., -3.10146388,\n",
              "         2.34534351, -1.32021006]])"
            ]
          },
          "metadata": {},
          "execution_count": 3
        }
      ]
    },
    {
      "cell_type": "code",
      "source": [
        "y"
      ],
      "metadata": {
        "colab": {
          "base_uri": "https://localhost:8080/"
        },
        "id": "c9KrOLjRCwSd",
        "outputId": "05db1ebf-221a-4469-f1d8-a74c13d6e042"
      },
      "execution_count": 4,
      "outputs": [
        {
          "output_type": "execute_result",
          "data": {
            "text/plain": [
              "array([0, 0, 0, 1, 0, 1, 0, 1, 0, 0, 0, 0, 0, 1, 0, 0, 0, 1, 1, 1, 0, 0,\n",
              "       1, 1, 0, 0, 1, 0, 0, 1, 0, 1, 1, 1, 0, 0, 1, 1, 0, 1, 0, 1, 0, 0,\n",
              "       1, 0, 0, 0, 0, 0, 0, 1, 1, 0, 0, 1, 0, 1, 1, 1, 1, 1, 1, 0, 1, 1,\n",
              "       0, 1, 1, 0, 1, 0, 0, 0, 0, 0, 1, 1, 0, 1, 0, 0, 0, 1, 1, 1, 1, 1,\n",
              "       1, 0, 1, 0, 1, 1, 0, 0, 0, 1, 1, 1, 1, 0, 0, 1, 0, 0, 0, 1, 0, 0,\n",
              "       1, 0, 0, 0, 1, 0, 1, 0, 0, 0, 1, 0, 0, 0, 0, 0, 0, 0, 1, 1, 1, 1,\n",
              "       1, 1, 0, 1, 1, 0, 0, 1, 1, 1, 0, 1, 1, 1, 1, 0, 0, 1, 1, 1, 0, 0,\n",
              "       1, 0, 1, 0, 0, 0, 1, 1, 1, 0, 0, 1, 1, 0, 0, 1, 1, 0, 1, 0, 0, 0,\n",
              "       1, 1, 1, 0, 0, 1, 0, 1, 1, 0, 1, 1, 0, 0, 0, 0, 0, 1, 1, 1, 0, 1,\n",
              "       0, 0, 1, 0, 0, 0, 1, 0, 0, 0, 1, 1, 1, 0, 1, 1, 0, 0, 1, 0, 1, 0,\n",
              "       1, 1, 0, 0, 0, 1, 0, 1, 1, 1, 1, 0, 0, 1, 1, 1, 0, 0, 1, 1, 0, 0,\n",
              "       1, 1, 0, 0, 1, 1, 1, 1, 1, 0, 0, 0, 1, 1, 1, 0, 1, 1, 1, 0, 0, 0,\n",
              "       1, 1, 0, 0, 0, 0, 0, 0, 1, 0, 1, 0, 0, 0, 1, 1, 0, 1, 0, 0, 1, 0,\n",
              "       0, 0, 1, 1, 0, 0, 0, 0, 0, 0, 0, 1, 1, 1, 1, 0, 1, 1, 1, 1, 1, 0,\n",
              "       1, 1, 1, 1, 0, 0, 0, 0, 0, 1, 1, 1, 0, 1, 0, 1, 1, 1, 0, 1, 0, 1,\n",
              "       1, 0, 0, 1, 0, 0, 0, 1, 1, 1, 0, 1, 0, 0, 0, 1, 0, 0, 0, 0, 0, 1,\n",
              "       1, 0, 1, 0, 0, 0, 1, 0, 0, 1, 1, 1, 1, 1, 1, 1, 1, 0, 0, 0, 0, 0,\n",
              "       1, 0, 0, 0, 1, 1, 1, 1, 0, 0, 0, 0, 0, 1, 1, 1, 0, 0, 1, 1, 0, 1,\n",
              "       0, 1, 0, 1, 1, 1, 0, 1, 0, 0, 1, 1, 0, 0, 0, 0, 0, 1, 1, 0, 1, 1,\n",
              "       0, 0, 0, 1, 0, 1, 1, 0, 0, 1, 1, 1, 0, 0, 0, 0, 1, 0, 0, 0, 1, 0,\n",
              "       1, 1, 1, 1, 1, 0, 1, 1, 0, 0, 0, 0, 0, 0, 0, 0, 0, 1, 0, 0, 0, 1,\n",
              "       1, 0, 0, 1, 0, 0, 0, 0, 1, 1, 0, 0, 1, 1, 0, 1, 0, 0, 0, 0, 0, 0,\n",
              "       1, 0, 1, 1, 0, 0, 0, 1, 0, 0, 1, 1, 0, 1, 0, 0, 1, 1, 1, 0, 0, 1,\n",
              "       1, 1, 0, 1, 0, 1, 1, 0, 1, 1, 1, 1, 1, 1, 1, 0, 0, 0, 1, 1, 0, 0,\n",
              "       1, 1, 1, 1, 1, 0, 1, 1, 0, 1, 1, 1, 1, 0, 1, 0, 1, 0, 0, 0, 1, 0,\n",
              "       1, 0, 0, 0, 1, 1, 1, 0, 1, 0, 0, 1, 0, 1, 0, 0, 1, 0, 1, 1, 1, 1,\n",
              "       0, 1, 0, 0, 0, 1, 1, 0, 0, 0, 0, 0, 1, 1, 1, 1, 1, 0, 1, 1, 0, 1,\n",
              "       1, 1, 0, 0, 1, 1, 0, 0, 0, 0, 0, 0, 0, 0, 0, 1, 1, 1, 1, 1, 0, 1,\n",
              "       0, 1, 0, 0, 1, 1, 1, 0, 1, 0, 0, 0, 1, 1, 0, 1, 0, 1, 0, 0, 1, 1,\n",
              "       1, 0, 0, 1, 0, 1, 1, 1, 0, 1, 0, 0, 0, 1, 1, 0, 0, 1, 0, 1, 1, 1,\n",
              "       1, 0, 0, 0, 0, 1, 1, 1, 0, 0, 0, 1, 0, 1, 0, 1, 0, 1, 1, 0, 0, 0,\n",
              "       0, 0, 1, 0, 1, 1, 0, 1, 0, 0, 1, 0, 1, 1, 0, 0, 1, 1, 1, 1, 0, 0,\n",
              "       1, 1, 0, 1, 0, 0, 0, 1, 0, 1, 0, 1, 1, 0, 1, 0, 1, 0, 1, 1, 1, 0,\n",
              "       1, 1, 1, 1, 0, 0, 0, 0, 1, 0, 1, 0, 1, 1, 1, 0, 1, 1, 1, 0, 0, 0,\n",
              "       0, 1, 0, 0, 1, 1, 1, 0, 1, 0, 1, 0, 1, 0, 0, 0, 0, 0, 0, 0, 1, 1,\n",
              "       1, 0, 1, 0, 0, 1, 0, 1, 0, 0, 0, 0, 1, 0, 1, 1, 0, 1, 0, 1, 1, 0,\n",
              "       0, 0, 0, 1, 0, 1, 1, 0, 0, 0, 1, 1, 0, 0, 0, 0, 0, 0, 0, 1, 1, 1,\n",
              "       0, 1, 1, 0, 0, 0, 1, 1, 0, 1, 1, 1, 1, 0, 1, 1, 1, 0, 1, 0, 0, 0,\n",
              "       0, 0, 1, 1, 0, 0, 0, 1, 1, 1, 1, 0, 1, 0, 0, 1, 1, 1, 0, 0, 0, 1,\n",
              "       1, 0, 1, 1, 0, 0, 1, 1, 0, 1, 0, 0, 1, 1, 1, 1, 0, 1, 1, 1, 0, 1,\n",
              "       0, 1, 0, 1, 1, 0, 0, 0, 1, 0, 0, 1, 1, 1, 0, 0, 0, 0, 1, 0, 0, 0,\n",
              "       0, 1, 0, 1, 1, 0, 1, 1, 0, 0, 1, 1, 1, 0, 0, 0, 1, 1, 1, 1, 1, 1,\n",
              "       0, 0, 0, 1, 1, 0, 1, 0, 1, 1, 1, 0, 0, 0, 1, 0, 1, 1, 0, 0, 1, 0,\n",
              "       0, 1, 0, 1, 1, 0, 1, 1, 1, 0, 0, 0, 1, 0, 1, 1, 1, 1, 1, 1, 1, 1,\n",
              "       1, 1, 1, 0, 1, 1, 0, 1, 0, 1, 1, 1, 0, 1, 1, 1, 0, 1, 0, 0, 1, 0,\n",
              "       1, 0, 0, 1, 0, 0, 1, 1, 0, 1])"
            ]
          },
          "metadata": {},
          "execution_count": 4
        }
      ]
    },
    {
      "cell_type": "code",
      "source": [
        "# evaluate logistic regression model on raw data\n",
        "from numpy import mean\n",
        "from numpy import std\n",
        "from sklearn.datasets import make_classification\n",
        "from sklearn.model_selection import cross_val_score\n",
        "from sklearn.model_selection import RepeatedStratifiedKFold\n",
        "from sklearn.linear_model import LogisticRegression\n",
        "# define dataset\n",
        "X, y = make_classification(n_samples=1000, n_features=20, n_informative=10, n_redundant=10, random_state=7)\n",
        "# define the model\n",
        "model = LogisticRegression()\n",
        "# evaluate model\n",
        "cv = RepeatedStratifiedKFold(n_splits=10, n_repeats=3, random_state=1)\n",
        "n_scores = cross_val_score(model, X, y, scoring='accuracy', cv=cv, n_jobs=-1)\n",
        "# report performance\n",
        "print('Accuracy: %.3f (%.3f)' % (mean(n_scores), std(n_scores)))"
      ],
      "metadata": {
        "colab": {
          "base_uri": "https://localhost:8080/"
        },
        "id": "_B-29IqfDG_e",
        "outputId": "4939951f-06cf-4d4d-8370-fc5194893678"
      },
      "execution_count": 5,
      "outputs": [
        {
          "output_type": "stream",
          "name": "stdout",
          "text": [
            "Accuracy: 0.824 (0.034)\n"
          ]
        }
      ]
    },
    {
      "cell_type": "markdown",
      "source": [
        "##PCA"
      ],
      "metadata": {
        "id": "gW_LukgHEzEy"
      }
    },
    {
      "cell_type": "code",
      "source": [
        "# evaluate pca with logistic regression algorithm for classification\n",
        "from numpy import mean\n",
        "from numpy import std\n",
        "from sklearn.datasets import make_classification\n",
        "from sklearn.model_selection import cross_val_score\n",
        "from sklearn.model_selection import RepeatedStratifiedKFold\n",
        "from sklearn.pipeline import Pipeline\n",
        "from sklearn.decomposition import PCA\n",
        "from sklearn.linear_model import LogisticRegression\n",
        "# define dataset\n",
        "X, y = make_classification(n_samples=1000, n_features=20, n_informative=10, n_redundant=10, random_state=7)\n",
        "# define the pipeline\n",
        "steps = [('pca', PCA(n_components=10)), ('m', LogisticRegression())]\n",
        "model = Pipeline(steps=steps)\n",
        "# evaluate model\n",
        "cv = RepeatedStratifiedKFold(n_splits=10, n_repeats=3, random_state=1)\n",
        "n_scores = cross_val_score(model, X, y, scoring='accuracy', cv=cv, n_jobs=-1)\n",
        "# report performance\n",
        "print('Accuracy: %.3f (%.3f)' % (mean(n_scores), std(n_scores)))"
      ],
      "metadata": {
        "colab": {
          "base_uri": "https://localhost:8080/"
        },
        "id": "wa55iPIQExx_",
        "outputId": "ec2160d6-9343-4d25-d751-3dfe0d55c3d2"
      },
      "execution_count": 7,
      "outputs": [
        {
          "output_type": "stream",
          "name": "stdout",
          "text": [
            "Accuracy: 0.824 (0.034)\n"
          ]
        }
      ]
    },
    {
      "cell_type": "markdown",
      "source": [
        "##SVD"
      ],
      "metadata": {
        "id": "4zXHuinwH6BH"
      }
    },
    {
      "cell_type": "code",
      "source": [
        "# evaluate svd with logistic regression algorithm for classification\n",
        "from numpy import mean\n",
        "from numpy import std\n",
        "from sklearn.datasets import make_classification\n",
        "from sklearn.model_selection import cross_val_score\n",
        "from sklearn.model_selection import RepeatedStratifiedKFold\n",
        "from sklearn.pipeline import Pipeline\n",
        "from sklearn.decomposition import TruncatedSVD\n",
        "from sklearn.linear_model import LogisticRegression\n",
        "# define dataset\n",
        "X, y = make_classification(n_samples=1000, n_features=20, n_informative=10, n_redundant=10, random_state=7)\n",
        "# define the pipeline\n",
        "steps = [('svd', TruncatedSVD(n_components=10)), ('m', LogisticRegression())]\n",
        "model = Pipeline(steps=steps)\n",
        "# evaluate model\n",
        "cv = RepeatedStratifiedKFold(n_splits=10, n_repeats=3, random_state=1)\n",
        "n_scores = cross_val_score(model, X, y, scoring='accuracy', cv=cv, n_jobs=-1)\n",
        "# report performance\n",
        "print('Accuracy: %.3f (%.3f)' % (mean(n_scores), std(n_scores)))"
      ],
      "metadata": {
        "colab": {
          "base_uri": "https://localhost:8080/"
        },
        "id": "7UNEGa-YH9Mo",
        "outputId": "ad85e45f-4c9b-427e-bc91-188bdecb76d9"
      },
      "execution_count": 8,
      "outputs": [
        {
          "output_type": "stream",
          "name": "stdout",
          "text": [
            "Accuracy: 0.824 (0.034)\n"
          ]
        }
      ]
    },
    {
      "cell_type": "markdown",
      "source": [
        "##LDA\n",
        "The number of dimensions for the projection is limited to 1 and C-1, where C is the number of classes. In this case, our dataset is a binary classification problem (two classes), limiting the number of dimensions to 1."
      ],
      "metadata": {
        "id": "9SGfIjcCIVSr"
      }
    },
    {
      "cell_type": "code",
      "source": [
        "# evaluate lda with logistic regression algorithm for classification\n",
        "from numpy import mean\n",
        "from numpy import std\n",
        "from sklearn.datasets import make_classification\n",
        "from sklearn.model_selection import cross_val_score\n",
        "from sklearn.model_selection import RepeatedStratifiedKFold\n",
        "from sklearn.pipeline import Pipeline\n",
        "from sklearn.discriminant_analysis import LinearDiscriminantAnalysis\n",
        "from sklearn.linear_model import LogisticRegression\n",
        "# define dataset\n",
        "X, y = make_classification(n_samples=1000, n_features=20, n_informative=10, n_redundant=10, random_state=7)\n",
        "# define the pipeline\n",
        "steps = [('lda', LinearDiscriminantAnalysis(n_components=1)), ('m', LogisticRegression())]\n",
        "model = Pipeline(steps=steps)\n",
        "# evaluate model\n",
        "cv = RepeatedStratifiedKFold(n_splits=10, n_repeats=3, random_state=1)\n",
        "n_scores = cross_val_score(model, X, y, scoring='accuracy', cv=cv, n_jobs=-1)\n",
        "# report performance\n",
        "print('Accuracy: %.3f (%.3f)' % (mean(n_scores), std(n_scores)))"
      ],
      "metadata": {
        "colab": {
          "base_uri": "https://localhost:8080/"
        },
        "id": "ltrjsNTWIWqJ",
        "outputId": "eb6a939f-ad70-4202-ea10-c7886e57265c"
      },
      "execution_count": 9,
      "outputs": [
        {
          "output_type": "stream",
          "name": "stdout",
          "text": [
            "Accuracy: 0.825 (0.034)\n"
          ]
        }
      ]
    },
    {
      "cell_type": "markdown",
      "source": [
        "##Isomap Embedding"
      ],
      "metadata": {
        "id": "pT9whxevJUxH"
      }
    },
    {
      "cell_type": "code",
      "source": [
        "# evaluate isomap with logistic regression algorithm for classification\n",
        "from numpy import mean\n",
        "from numpy import std\n",
        "from sklearn.datasets import make_classification\n",
        "from sklearn.model_selection import cross_val_score\n",
        "from sklearn.model_selection import RepeatedStratifiedKFold\n",
        "from sklearn.pipeline import Pipeline\n",
        "from sklearn.manifold import Isomap\n",
        "from sklearn.linear_model import LogisticRegression\n",
        "# define dataset\n",
        "X, y = make_classification(n_samples=1000, n_features=20, n_informative=10, n_redundant=10, random_state=7)\n",
        "# define the pipeline\n",
        "steps = [('iso', Isomap(n_components=10)), ('m', LogisticRegression())]\n",
        "model = Pipeline(steps=steps)\n",
        "# evaluate model\n",
        "cv = RepeatedStratifiedKFold(n_splits=10, n_repeats=3, random_state=1)\n",
        "n_scores = cross_val_score(model, X, y, scoring='accuracy', cv=cv, n_jobs=-1)\n",
        "# report performance\n",
        "print('Accuracy: %.3f (%.3f)' % (mean(n_scores), std(n_scores)))"
      ],
      "metadata": {
        "colab": {
          "base_uri": "https://localhost:8080/"
        },
        "id": "8x9v2ACgJWOu",
        "outputId": "1378ac5b-7c22-427e-8f5d-9b0edb829f3f"
      },
      "execution_count": 10,
      "outputs": [
        {
          "output_type": "stream",
          "name": "stdout",
          "text": [
            "Accuracy: 0.888 (0.029)\n"
          ]
        }
      ]
    },
    {
      "cell_type": "markdown",
      "source": [
        "##Locally Linear Embedding"
      ],
      "metadata": {
        "id": "x24EtYAZL-yi"
      }
    },
    {
      "cell_type": "code",
      "source": [
        "# evaluate lle and logistic regression for classification\n",
        "from numpy import mean\n",
        "from numpy import std\n",
        "from sklearn.datasets import make_classification\n",
        "from sklearn.model_selection import cross_val_score\n",
        "from sklearn.model_selection import RepeatedStratifiedKFold\n",
        "from sklearn.pipeline import Pipeline\n",
        "from sklearn.manifold import LocallyLinearEmbedding\n",
        "from sklearn.linear_model import LogisticRegression\n",
        "# define dataset\n",
        "X, y = make_classification(n_samples=1000, n_features=20, n_informative=10, n_redundant=10, random_state=7)\n",
        "# define the pipeline\n",
        "steps = [('lle', LocallyLinearEmbedding(n_components=10)), ('m', LogisticRegression())]\n",
        "model = Pipeline(steps=steps)\n",
        "# evaluate model\n",
        "cv = RepeatedStratifiedKFold(n_splits=10, n_repeats=3, random_state=1)\n",
        "n_scores = cross_val_score(model, X, y, scoring='accuracy', cv=cv, n_jobs=-1)\n",
        "# report performance\n",
        "print('Accuracy: %.3f (%.3f)' % (mean(n_scores), std(n_scores)))"
      ],
      "metadata": {
        "colab": {
          "base_uri": "https://localhost:8080/"
        },
        "id": "eK_IFvGeL_vJ",
        "outputId": "34a07703-bdfe-4c99-c913-9c5d61c7ba99"
      },
      "execution_count": 11,
      "outputs": [
        {
          "output_type": "stream",
          "name": "stdout",
          "text": [
            "Accuracy: 0.886 (0.028)\n"
          ]
        }
      ]
    },
    {
      "cell_type": "markdown",
      "source": [
        "##Modified Locally Linear Embedding"
      ],
      "metadata": {
        "id": "8J8xvKdWMteT"
      }
    },
    {
      "cell_type": "markdown",
      "source": [
        "Embedding that can be used as a dimensionality reduction data transform. The “method” argument must be set to ‘modified’ and the “n_components” argument can be set to configure the number of desired dimensions in the output of the transform which must be less than the “n_neighbors” argument."
      ],
      "metadata": {
        "id": "xIzo1VA8ObIX"
      }
    },
    {
      "cell_type": "code",
      "source": [
        "# evaluate modified lle and logistic regression for classification\n",
        "from numpy import mean\n",
        "from numpy import std\n",
        "from sklearn.datasets import make_classification\n",
        "from sklearn.model_selection import cross_val_score\n",
        "from sklearn.model_selection import RepeatedStratifiedKFold\n",
        "from sklearn.pipeline import Pipeline\n",
        "from sklearn.manifold import LocallyLinearEmbedding\n",
        "from sklearn.linear_model import LogisticRegression\n",
        "# define dataset\n",
        "X, y = make_classification(n_samples=1000, n_features=20, n_informative=10, n_redundant=10, random_state=7)\n",
        "# define the pipeline\n",
        "steps = [('lle', LocallyLinearEmbedding(n_components=5, method='modified', n_neighbors=10)), ('m', LogisticRegression())]\n",
        "model = Pipeline(steps=steps)\n",
        "# evaluate model\n",
        "cv = RepeatedStratifiedKFold(n_splits=10, n_repeats=3, random_state=1)\n",
        "n_scores = cross_val_score(model, X, y, scoring='accuracy', cv=cv, n_jobs=-1)\n",
        "# report performance\n",
        "print('Accuracy: %.3f (%.3f)' % (mean(n_scores), std(n_scores)))"
      ],
      "metadata": {
        "colab": {
          "base_uri": "https://localhost:8080/"
        },
        "id": "f6cqi2NiMuvM",
        "outputId": "e14fe633-27fc-4a0a-b98f-c4e99353be64"
      },
      "execution_count": 12,
      "outputs": [
        {
          "output_type": "stream",
          "name": "stdout",
          "text": [
            "Accuracy: 0.848 (0.037)\n"
          ]
        }
      ]
    },
    {
      "cell_type": "markdown",
      "source": [
        "#DIMENSIONALITY REDUCTION AND HYPERPARAMETERS\n",
        "https://towardsdatascience.com/shap-for-feature-selection-and-hyperparameter-tuning-a330ec0ea104\n"
      ],
      "metadata": {
        "id": "tel_dSxDP42S"
      }
    }
  ]
}