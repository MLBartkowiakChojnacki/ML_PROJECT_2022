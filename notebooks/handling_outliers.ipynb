{
 "cells": [
  {
   "cell_type": "code",
   "execution_count": 1,
   "metadata": {},
   "outputs": [
    {
     "data": {
      "text/plain": [
       "'c:\\\\Users\\\\Marta\\\\Desktop\\\\Studia\\\\CDV\\\\IV semestr 2022L\\\\Wykorzystanie Pythona w uczeniu maszynowym\\\\ml_project\\\\project\\\\ML_PROJECT_2022\\\\data\\\\raw'"
      ]
     },
     "execution_count": 1,
     "metadata": {},
     "output_type": "execute_result"
    }
   ],
   "source": [
    "import pandas as pd\n",
    "import numpy as np\n",
    "from instructions import load_df_from_pkl, save_df_as_pkl\n",
    "from handling_outliers import removing_iqr, removing_percentiles, zscore_outlier, modified_z_score_outlier, count_outliers, mask_outliers, replace_missing_values\n",
    "import os\n",
    "\n",
    "\n",
    "path = os.path.split(os.getcwd())\n",
    "data_directory = os.path.join(path[0], 'data\\\\raw')\n",
    "data_directory"
   ]
  },
  {
   "cell_type": "code",
   "execution_count": 2,
   "metadata": {},
   "outputs": [],
   "source": [
    "y = load_df_from_pkl(data_directory, 'y')\n",
    "X = load_df_from_pkl(data_directory, 'X')"
   ]
  },
  {
   "cell_type": "code",
   "execution_count": 3,
   "metadata": {},
   "outputs": [],
   "source": [
    "outliers_methods_dict = {\n",
    "    #\"Removing 0.1 & 0.9\" : removing_percentiles,\n",
    "    #\"IQR\" : removing_iqr,\n",
    "    \"Z-score\" : zscore_outlier,\n",
    "    \"Modified Z-score\" : modified_z_score_outlier\n",
    "}"
   ]
  },
  {
   "cell_type": "code",
   "execution_count": 4,
   "metadata": {},
   "outputs": [],
   "source": [
    "from sklearn.preprocessing import StandardScaler\n",
    "\n",
    "std = StandardScaler()\n",
    "X_copy_3 = X.copy()\n",
    "X_std = std.fit_transform(X_copy_3)"
   ]
  },
  {
   "cell_type": "code",
   "execution_count": 27,
   "metadata": {},
   "outputs": [],
   "source": [
    "for method_name, method in outliers_methods_dict.items():\n",
    "    X_rem = method(pd.DataFrame(X_std))\n",
    "    counted = count_outliers(X_rem)\n",
    "    contamination = counted[0].sum() / (X_rem.shape[0] * X_rem.shape[1]) * 100\n",
    "    masked = mask_outliers(pd.DataFrame(X_std), X_rem)\n",
    "    replaced = replace_missing_values(masked, 5)\n",
    "    print(method_name)\n",
    "    print(counted)\n",
    "    print(f'Dataset contamination: {round(contamination, 2)} %')\n",
    "    print('_'*10)"
   ]
  },
  {
   "cell_type": "code",
   "execution_count": 6,
   "metadata": {},
   "outputs": [
    {
     "name": "stdout",
     "output_type": "stream",
     "text": [
      "(0       10\n",
      "1        7\n",
      "2        2\n",
      "3        1\n",
      "4        5\n",
      "        ..\n",
      "3745     4\n",
      "3746     6\n",
      "3747     7\n",
      "3748     2\n",
      "3749     7\n",
      "Length: 3750, dtype: int64,            0\n",
      "1928  0.0014\n",
      "3325  0.0014\n",
      "70    0.0014\n",
      "3230  0.0014\n",
      "2510  0.0013\n",
      "...      ...\n",
      "3219  0.0000\n",
      "3244  0.0000\n",
      "1913  0.0000\n",
      "3403  0.0000\n",
      "944   0.0000\n",
      "\n",
      "[3750 rows x 1 columns])\n",
      "Dataset contamination: 0.05 %\n",
      "__________\n"
     ]
    }
   ],
   "source": [
    "X_rem = modified_z_score_outlier(pd.DataFrame(X_std))\n",
    "counted = count_outliers(X_rem)\n",
    "contamination = counted[0].sum() / (X_rem.shape[0] * X_rem.shape[1]) * 100\n",
    "masked = mask_outliers(pd.DataFrame(X_std), X_rem)\n",
    "replaced = replace_missing_values(masked, 5)\n",
    "print(counted)\n",
    "print(f'Dataset contamination: {round(contamination, 2)} %')\n",
    "print('_'*10)"
   ]
  },
  {
   "cell_type": "code",
   "execution_count": 7,
   "metadata": {},
   "outputs": [],
   "source": [
    "save_df_as_pkl(replaced, data_directory, 'X_preprocessed')"
   ]
  }
 ],
 "metadata": {
  "interpreter": {
   "hash": "2e3cc47668b018802626e3a416c19566715ed21c2b0a730c77eabf314b853671"
  },
  "kernelspec": {
   "display_name": "Python 3.10.4 ('python_in_ml')",
   "language": "python",
   "name": "python3"
  },
  "language_info": {
   "codemirror_mode": {
    "name": "ipython",
    "version": 3
   },
   "file_extension": ".py",
   "mimetype": "text/x-python",
   "name": "python",
   "nbconvert_exporter": "python",
   "pygments_lexer": "ipython3",
   "version": "3.10.4"
  },
  "orig_nbformat": 4
 },
 "nbformat": 4,
 "nbformat_minor": 2
}
