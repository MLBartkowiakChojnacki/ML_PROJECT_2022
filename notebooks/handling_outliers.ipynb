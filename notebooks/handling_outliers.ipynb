{
 "cells": [
  {
   "cell_type": "code",
   "execution_count": 1,
   "metadata": {},
   "outputs": [
    {
     "data": {
      "text/plain": [
       "'c:\\\\Users\\\\Marta\\\\Desktop\\\\Studia\\\\CDV\\\\IV semestr 2022L\\\\Wykorzystanie Pythona w uczeniu maszynowym\\\\ml_project\\\\project\\\\ML_PROJECT_2022\\\\data\\\\raw'"
      ]
     },
     "execution_count": 1,
     "metadata": {},
     "output_type": "execute_result"
    }
   ],
   "source": [
    "import pandas as pd\n",
    "import numpy as np\n",
    "from instructions import load_df_from_pkl, save_df_as_pkl\n",
    "from handling_outliers import removing_iqr, removing_percentiles, zscore_outlier, modified_z_score_outlier, count_outliers, mask_outliers, replace_missing_values\n",
    "import os\n",
    "\n",
    "\n",
    "path = os.path.split(os.getcwd())\n",
    "data_directory = os.path.join(path[0], 'data\\\\raw')\n",
    "data_directory"
   ]
  },
  {
   "cell_type": "code",
   "execution_count": 2,
   "metadata": {},
   "outputs": [],
   "source": [
    "y = load_df_from_pkl(data_directory, 'y')\n",
    "X = load_df_from_pkl(data_directory, 'X')"
   ]
  },
  {
   "cell_type": "code",
   "execution_count": 3,
   "metadata": {},
   "outputs": [],
   "source": [
    "outliers_methods_dict = {\n",
    "    #\"Removing 0.1 & 0.9\" : removing_percentiles,\n",
    "    #\"IQR\" : removing_iqr,\n",
    "    \"Z-score\" : zscore_outlier,\n",
    "    \"Modified Z-score\" : modified_z_score_outlier\n",
    "}"
   ]
  },
  {
   "cell_type": "code",
   "execution_count": 4,
   "metadata": {},
   "outputs": [],
   "source": [
    "from sklearn.preprocessing import StandardScaler\n",
    "\n",
    "std = StandardScaler()\n",
    "X_copy_3 = X.copy()\n",
    "X_std = std.fit_transform(X_copy_3)"
   ]
  },
  {
   "cell_type": "code",
   "execution_count": 5,
   "metadata": {},
   "outputs": [
    {
     "ename": "KeyboardInterrupt",
     "evalue": "",
     "output_type": "error",
     "traceback": [
      "\u001b[1;31m---------------------------------------------------------------------------\u001b[0m",
      "\u001b[1;31mKeyboardInterrupt\u001b[0m                         Traceback (most recent call last)",
      "\u001b[1;32mc:\\Users\\Marta\\Desktop\\Studia\\CDV\\IV semestr 2022L\\Wykorzystanie Pythona w uczeniu maszynowym\\ml_project\\project\\ML_PROJECT_2022\\notebooks\\handling_outliers.ipynb Cell 5'\u001b[0m in \u001b[0;36m<cell line: 1>\u001b[1;34m()\u001b[0m\n\u001b[0;32m      <a href='vscode-notebook-cell:/c%3A/Users/Marta/Desktop/Studia/CDV/IV%20semestr%202022L/Wykorzystanie%20Pythona%20w%20uczeniu%20maszynowym/ml_project/project/ML_PROJECT_2022/notebooks/handling_outliers.ipynb#ch0000004?line=3'>4</a>\u001b[0m contamination \u001b[39m=\u001b[39m counted[\u001b[39m0\u001b[39m]\u001b[39m.\u001b[39msum() \u001b[39m/\u001b[39m (X_rem\u001b[39m.\u001b[39mshape[\u001b[39m0\u001b[39m] \u001b[39m*\u001b[39m X_rem\u001b[39m.\u001b[39mshape[\u001b[39m1\u001b[39m]) \u001b[39m*\u001b[39m \u001b[39m100\u001b[39m\n\u001b[0;32m      <a href='vscode-notebook-cell:/c%3A/Users/Marta/Desktop/Studia/CDV/IV%20semestr%202022L/Wykorzystanie%20Pythona%20w%20uczeniu%20maszynowym/ml_project/project/ML_PROJECT_2022/notebooks/handling_outliers.ipynb#ch0000004?line=4'>5</a>\u001b[0m masked \u001b[39m=\u001b[39m mask_outliers(pd\u001b[39m.\u001b[39mDataFrame(X_std), X_rem)\n\u001b[1;32m----> <a href='vscode-notebook-cell:/c%3A/Users/Marta/Desktop/Studia/CDV/IV%20semestr%202022L/Wykorzystanie%20Pythona%20w%20uczeniu%20maszynowym/ml_project/project/ML_PROJECT_2022/notebooks/handling_outliers.ipynb#ch0000004?line=5'>6</a>\u001b[0m replaced \u001b[39m=\u001b[39m replace_missing_values(masked, \u001b[39m5\u001b[39;49m)\n\u001b[0;32m      <a href='vscode-notebook-cell:/c%3A/Users/Marta/Desktop/Studia/CDV/IV%20semestr%202022L/Wykorzystanie%20Pythona%20w%20uczeniu%20maszynowym/ml_project/project/ML_PROJECT_2022/notebooks/handling_outliers.ipynb#ch0000004?line=6'>7</a>\u001b[0m \u001b[39mprint\u001b[39m(method_name)\n\u001b[0;32m      <a href='vscode-notebook-cell:/c%3A/Users/Marta/Desktop/Studia/CDV/IV%20semestr%202022L/Wykorzystanie%20Pythona%20w%20uczeniu%20maszynowym/ml_project/project/ML_PROJECT_2022/notebooks/handling_outliers.ipynb#ch0000004?line=7'>8</a>\u001b[0m \u001b[39mprint\u001b[39m(counted)\n",
      "File \u001b[1;32mc:\\Users\\Marta\\Desktop\\Studia\\CDV\\IV semestr 2022L\\Wykorzystanie Pythona w uczeniu maszynowym\\ml_project\\project\\ML_PROJECT_2022\\notebooks\\handling_outliers.py:51\u001b[0m, in \u001b[0;36mreplace_missing_values\u001b[1;34m(dataset, n_neighbors)\u001b[0m\n\u001b[0;32m     49\u001b[0m \u001b[39mdef\u001b[39;00m \u001b[39mreplace_missing_values\u001b[39m(dataset: pd\u001b[39m.\u001b[39mDataFrame, n_neighbors: \u001b[39mint\u001b[39m) \u001b[39m-\u001b[39m\u001b[39m>\u001b[39m pd\u001b[39m.\u001b[39mDataFrame:\n\u001b[0;32m     50\u001b[0m     knn_imputer \u001b[39m=\u001b[39m KNNImputer(n_neighbors\u001b[39m=\u001b[39mn_neighbors)\n\u001b[1;32m---> 51\u001b[0m     imputed_df \u001b[39m=\u001b[39m knn_imputer\u001b[39m.\u001b[39;49mfit_transform(dataset)\n\u001b[0;32m     52\u001b[0m     \u001b[39mreturn\u001b[39;00m pd\u001b[39m.\u001b[39mDataFrame(imputed_df)\n",
      "File \u001b[1;32mc:\\Users\\Marta\\anaconda3\\envs\\python_in_ml\\lib\\site-packages\\sklearn\\base.py:852\u001b[0m, in \u001b[0;36mTransformerMixin.fit_transform\u001b[1;34m(self, X, y, **fit_params)\u001b[0m\n\u001b[0;32m    848\u001b[0m \u001b[39m# non-optimized default implementation; override when a better\u001b[39;00m\n\u001b[0;32m    849\u001b[0m \u001b[39m# method is possible for a given clustering algorithm\u001b[39;00m\n\u001b[0;32m    850\u001b[0m \u001b[39mif\u001b[39;00m y \u001b[39mis\u001b[39;00m \u001b[39mNone\u001b[39;00m:\n\u001b[0;32m    851\u001b[0m     \u001b[39m# fit method of arity 1 (unsupervised transformation)\u001b[39;00m\n\u001b[1;32m--> 852\u001b[0m     \u001b[39mreturn\u001b[39;00m \u001b[39mself\u001b[39;49m\u001b[39m.\u001b[39;49mfit(X, \u001b[39m*\u001b[39;49m\u001b[39m*\u001b[39;49mfit_params)\u001b[39m.\u001b[39;49mtransform(X)\n\u001b[0;32m    853\u001b[0m \u001b[39melse\u001b[39;00m:\n\u001b[0;32m    854\u001b[0m     \u001b[39m# fit method of arity 2 (supervised transformation)\u001b[39;00m\n\u001b[0;32m    855\u001b[0m     \u001b[39mreturn\u001b[39;00m \u001b[39mself\u001b[39m\u001b[39m.\u001b[39mfit(X, y, \u001b[39m*\u001b[39m\u001b[39m*\u001b[39mfit_params)\u001b[39m.\u001b[39mtransform(X)\n",
      "File \u001b[1;32mc:\\Users\\Marta\\anaconda3\\envs\\python_in_ml\\lib\\site-packages\\sklearn\\impute\\_knn.py:336\u001b[0m, in \u001b[0;36mKNNImputer.transform\u001b[1;34m(self, X)\u001b[0m\n\u001b[0;32m    327\u001b[0m \u001b[39m# process in fixed-memory chunks\u001b[39;00m\n\u001b[0;32m    328\u001b[0m gen \u001b[39m=\u001b[39m pairwise_distances_chunked(\n\u001b[0;32m    329\u001b[0m     X[row_missing_idx, :],\n\u001b[0;32m    330\u001b[0m     \u001b[39mself\u001b[39m\u001b[39m.\u001b[39m_fit_X,\n\u001b[1;32m   (...)\u001b[0m\n\u001b[0;32m    334\u001b[0m     reduce_func\u001b[39m=\u001b[39mprocess_chunk,\n\u001b[0;32m    335\u001b[0m )\n\u001b[1;32m--> 336\u001b[0m \u001b[39mfor\u001b[39;00m chunk \u001b[39min\u001b[39;00m gen:\n\u001b[0;32m    337\u001b[0m     \u001b[39m# process_chunk modifies X in place. No return value.\u001b[39;00m\n\u001b[0;32m    338\u001b[0m     \u001b[39mpass\u001b[39;00m\n\u001b[0;32m    340\u001b[0m \u001b[39mreturn\u001b[39;00m \u001b[39msuper\u001b[39m()\u001b[39m.\u001b[39m_concatenate_indicator(X[:, valid_mask], X_indicator)\n",
      "File \u001b[1;32mc:\\Users\\Marta\\anaconda3\\envs\\python_in_ml\\lib\\site-packages\\sklearn\\metrics\\pairwise.py:1717\u001b[0m, in \u001b[0;36mpairwise_distances_chunked\u001b[1;34m(X, Y, reduce_func, metric, n_jobs, working_memory, **kwds)\u001b[0m\n\u001b[0;32m   1715\u001b[0m \u001b[39melse\u001b[39;00m:\n\u001b[0;32m   1716\u001b[0m     X_chunk \u001b[39m=\u001b[39m X[sl]\n\u001b[1;32m-> 1717\u001b[0m D_chunk \u001b[39m=\u001b[39m pairwise_distances(X_chunk, Y, metric\u001b[39m=\u001b[39mmetric, n_jobs\u001b[39m=\u001b[39mn_jobs, \u001b[39m*\u001b[39m\u001b[39m*\u001b[39mkwds)\n\u001b[0;32m   1718\u001b[0m \u001b[39mif\u001b[39;00m (X \u001b[39mis\u001b[39;00m Y \u001b[39mor\u001b[39;00m Y \u001b[39mis\u001b[39;00m \u001b[39mNone\u001b[39;00m) \u001b[39mand\u001b[39;00m PAIRWISE_DISTANCE_FUNCTIONS\u001b[39m.\u001b[39mget(\n\u001b[0;32m   1719\u001b[0m     metric, \u001b[39mNone\u001b[39;00m\n\u001b[0;32m   1720\u001b[0m ) \u001b[39mis\u001b[39;00m euclidean_distances:\n\u001b[0;32m   1721\u001b[0m     \u001b[39m# zeroing diagonal, taking care of aliases of \"euclidean\",\u001b[39;00m\n\u001b[0;32m   1722\u001b[0m     \u001b[39m# i.e. \"l2\"\u001b[39;00m\n\u001b[0;32m   1723\u001b[0m     D_chunk\u001b[39m.\u001b[39mflat[sl\u001b[39m.\u001b[39mstart :: _num_samples(X) \u001b[39m+\u001b[39m \u001b[39m1\u001b[39m] \u001b[39m=\u001b[39m \u001b[39m0\u001b[39m\n",
      "File \u001b[1;32mc:\\Users\\Marta\\anaconda3\\envs\\python_in_ml\\lib\\site-packages\\sklearn\\metrics\\pairwise.py:1889\u001b[0m, in \u001b[0;36mpairwise_distances\u001b[1;34m(X, Y, metric, n_jobs, force_all_finite, **kwds)\u001b[0m\n\u001b[0;32m   1886\u001b[0m         \u001b[39mreturn\u001b[39;00m distance\u001b[39m.\u001b[39msquareform(distance\u001b[39m.\u001b[39mpdist(X, metric\u001b[39m=\u001b[39mmetric, \u001b[39m*\u001b[39m\u001b[39m*\u001b[39mkwds))\n\u001b[0;32m   1887\u001b[0m     func \u001b[39m=\u001b[39m partial(distance\u001b[39m.\u001b[39mcdist, metric\u001b[39m=\u001b[39mmetric, \u001b[39m*\u001b[39m\u001b[39m*\u001b[39mkwds)\n\u001b[1;32m-> 1889\u001b[0m \u001b[39mreturn\u001b[39;00m _parallel_pairwise(X, Y, func, n_jobs, \u001b[39m*\u001b[39m\u001b[39m*\u001b[39mkwds)\n",
      "File \u001b[1;32mc:\\Users\\Marta\\anaconda3\\envs\\python_in_ml\\lib\\site-packages\\sklearn\\metrics\\pairwise.py:1430\u001b[0m, in \u001b[0;36m_parallel_pairwise\u001b[1;34m(X, Y, func, n_jobs, **kwds)\u001b[0m\n\u001b[0;32m   1427\u001b[0m X, Y, dtype \u001b[39m=\u001b[39m _return_float_dtype(X, Y)\n\u001b[0;32m   1429\u001b[0m \u001b[39mif\u001b[39;00m effective_n_jobs(n_jobs) \u001b[39m==\u001b[39m \u001b[39m1\u001b[39m:\n\u001b[1;32m-> 1430\u001b[0m     \u001b[39mreturn\u001b[39;00m func(X, Y, \u001b[39m*\u001b[39m\u001b[39m*\u001b[39mkwds)\n\u001b[0;32m   1432\u001b[0m \u001b[39m# enforce a threading backend to prevent data communication overhead\u001b[39;00m\n\u001b[0;32m   1433\u001b[0m fd \u001b[39m=\u001b[39m delayed(_dist_wrapper)\n",
      "File \u001b[1;32mc:\\Users\\Marta\\anaconda3\\envs\\python_in_ml\\lib\\site-packages\\sklearn\\metrics\\pairwise.py:462\u001b[0m, in \u001b[0;36mnan_euclidean_distances\u001b[1;34m(X, Y, squared, missing_values, copy)\u001b[0m\n\u001b[0;32m    458\u001b[0m X, Y \u001b[39m=\u001b[39m check_pairwise_arrays(\n\u001b[0;32m    459\u001b[0m     X, Y, accept_sparse\u001b[39m=\u001b[39m\u001b[39mFalse\u001b[39;00m, force_all_finite\u001b[39m=\u001b[39mforce_all_finite, copy\u001b[39m=\u001b[39mcopy\n\u001b[0;32m    460\u001b[0m )\n\u001b[0;32m    461\u001b[0m \u001b[39m# Get missing mask for X\u001b[39;00m\n\u001b[1;32m--> 462\u001b[0m missing_X \u001b[39m=\u001b[39m _get_mask(X, missing_values)\n\u001b[0;32m    464\u001b[0m \u001b[39m# Get missing mask for Y\u001b[39;00m\n\u001b[0;32m    465\u001b[0m missing_Y \u001b[39m=\u001b[39m missing_X \u001b[39mif\u001b[39;00m Y \u001b[39mis\u001b[39;00m X \u001b[39melse\u001b[39;00m _get_mask(Y, missing_values)\n",
      "File \u001b[1;32mc:\\Users\\Marta\\anaconda3\\envs\\python_in_ml\\lib\\site-packages\\sklearn\\utils\\_mask.py:44\u001b[0m, in \u001b[0;36m_get_mask\u001b[1;34m(X, value_to_mask)\u001b[0m\n\u001b[0;32m     25\u001b[0m \u001b[39m\"\"\"Compute the boolean mask X == value_to_mask.\u001b[39;00m\n\u001b[0;32m     26\u001b[0m \n\u001b[0;32m     27\u001b[0m \u001b[39mParameters\u001b[39;00m\n\u001b[1;32m   (...)\u001b[0m\n\u001b[0;32m     39\u001b[0m \u001b[39m    Missing mask.\u001b[39;00m\n\u001b[0;32m     40\u001b[0m \u001b[39m\"\"\"\u001b[39;00m\n\u001b[0;32m     41\u001b[0m \u001b[39mif\u001b[39;00m \u001b[39mnot\u001b[39;00m sp\u001b[39m.\u001b[39missparse(X):\n\u001b[0;32m     42\u001b[0m     \u001b[39m# For all cases apart of a sparse input where we need to reconstruct\u001b[39;00m\n\u001b[0;32m     43\u001b[0m     \u001b[39m# a sparse output\u001b[39;00m\n\u001b[1;32m---> 44\u001b[0m     \u001b[39mreturn\u001b[39;00m _get_dense_mask(X, value_to_mask)\n\u001b[0;32m     46\u001b[0m Xt \u001b[39m=\u001b[39m _get_dense_mask(X\u001b[39m.\u001b[39mdata, value_to_mask)\n\u001b[0;32m     48\u001b[0m sparse_constructor \u001b[39m=\u001b[39m sp\u001b[39m.\u001b[39mcsr_matrix \u001b[39mif\u001b[39;00m X\u001b[39m.\u001b[39mformat \u001b[39m==\u001b[39m \u001b[39m\"\u001b[39m\u001b[39mcsr\u001b[39m\u001b[39m\"\u001b[39m \u001b[39melse\u001b[39;00m sp\u001b[39m.\u001b[39mcsc_matrix\n",
      "File \u001b[1;32mc:\\Users\\Marta\\anaconda3\\envs\\python_in_ml\\lib\\site-packages\\sklearn\\utils\\_mask.py:11\u001b[0m, in \u001b[0;36m_get_dense_mask\u001b[1;34m(X, value_to_mask)\u001b[0m\n\u001b[0;32m      9\u001b[0m \u001b[39mif\u001b[39;00m is_scalar_nan(value_to_mask):\n\u001b[0;32m     10\u001b[0m     \u001b[39mif\u001b[39;00m X\u001b[39m.\u001b[39mdtype\u001b[39m.\u001b[39mkind \u001b[39m==\u001b[39m \u001b[39m\"\u001b[39m\u001b[39mf\u001b[39m\u001b[39m\"\u001b[39m:\n\u001b[1;32m---> 11\u001b[0m         Xt \u001b[39m=\u001b[39m np\u001b[39m.\u001b[39;49misnan(X)\n\u001b[0;32m     12\u001b[0m     \u001b[39melif\u001b[39;00m X\u001b[39m.\u001b[39mdtype\u001b[39m.\u001b[39mkind \u001b[39min\u001b[39;00m (\u001b[39m\"\u001b[39m\u001b[39mi\u001b[39m\u001b[39m\"\u001b[39m, \u001b[39m\"\u001b[39m\u001b[39mu\u001b[39m\u001b[39m\"\u001b[39m):\n\u001b[0;32m     13\u001b[0m         \u001b[39m# can't have NaNs in integer array.\u001b[39;00m\n\u001b[0;32m     14\u001b[0m         Xt \u001b[39m=\u001b[39m np\u001b[39m.\u001b[39mzeros(X\u001b[39m.\u001b[39mshape, dtype\u001b[39m=\u001b[39m\u001b[39mbool\u001b[39m)\n",
      "\u001b[1;31mKeyboardInterrupt\u001b[0m: "
     ]
    }
   ],
   "source": [
    "for method_name, method in outliers_methods_dict.items():\n",
    "    X_rem = method(pd.DataFrame(X_std))\n",
    "    counted = count_outliers(X_rem)\n",
    "    contamination = counted[0].sum() / (X_rem.shape[0] * X_rem.shape[1]) * 100\n",
    "    masked = mask_outliers(pd.DataFrame(X_std), X_rem)\n",
    "    replaced = replace_missing_values(masked, 5)\n",
    "    print(method_name)\n",
    "    print(counted)\n",
    "    print(f'Dataset contamination: {round(contamination, 2)} %')\n",
    "    print('_'*10)"
   ]
  },
  {
   "cell_type": "code",
   "execution_count": 28,
   "metadata": {},
   "outputs": [
    {
     "name": "stdout",
     "output_type": "stream",
     "text": [
      "(0       30\n",
      "1       30\n",
      "2       16\n",
      "3       28\n",
      "4       36\n",
      "        ..\n",
      "3745    27\n",
      "3746    30\n",
      "3747    24\n",
      "3748    32\n",
      "3749    23\n",
      "Length: 3750, dtype: int64,            0\n",
      "3185  0.0047\n",
      "479   0.0046\n",
      "3667  0.0045\n",
      "495   0.0044\n",
      "620   0.0044\n",
      "...      ...\n",
      "2956  0.0013\n",
      "32    0.0013\n",
      "3473  0.0013\n",
      "1874  0.0012\n",
      "1578  0.0011\n",
      "\n",
      "[3750 rows x 1 columns])\n",
      "Dataset contamination: 0.27 %\n",
      "__________\n"
     ]
    }
   ],
   "source": [
    "X_rem = zscore_outlier(pd.DataFrame(X_std))\n",
    "counted = count_outliers(X_rem)\n",
    "contamination = counted[0].sum() / (X_rem.shape[0] * X_rem.shape[1]) * 100\n",
    "masked = mask_outliers(pd.DataFrame(X_std), X_rem)\n",
    "replaced = replace_missing_values(masked, 5)\n",
    "print(counted)\n",
    "print(f'Dataset contamination: {round(contamination, 2)} %')\n",
    "print('_'*10)"
   ]
  },
  {
   "cell_type": "code",
   "execution_count": 7,
   "metadata": {},
   "outputs": [],
   "source": [
    "save_df_as_pkl(replaced, data_directory, 'X_preprocessed')"
   ]
  },
  {
   "cell_type": "markdown",
   "metadata": {},
   "source": [
    "###Baseline"
   ]
  },
  {
   "cell_type": "code",
   "execution_count": 29,
   "metadata": {},
   "outputs": [
    {
     "data": {
      "text/plain": [
       "array([0.94933333, 0.93333333, 0.96133333, 0.944     , 0.94266667])"
      ]
     },
     "execution_count": 29,
     "metadata": {},
     "output_type": "execute_result"
    }
   ],
   "source": [
    "from sklearn.dummy import DummyClassifier\n",
    "from sklearn.tree import DecisionTreeClassifier\n",
    "from sklearn.metrics import balanced_accuracy_score, f1_score\n",
    "from sklearn.model_selection import cross_val_score\n",
    "\n",
    "\n",
    "dummy_clf = DecisionTreeClassifier(random_state=42)\n",
    "cross_val_score(dummy_clf, X, y, cv=5, scoring='accuracy')"
   ]
  },
  {
   "cell_type": "code",
   "execution_count": 30,
   "metadata": {},
   "outputs": [
    {
     "data": {
      "text/plain": [
       "array([0.95866667, 0.94266667, 0.94      , 0.944     , 0.944     ])"
      ]
     },
     "execution_count": 30,
     "metadata": {},
     "output_type": "execute_result"
    }
   ],
   "source": [
    "clf = DecisionTreeClassifier(random_state=42)\n",
    "cross_val_score(clf, replaced, y, cv=5, scoring='accuracy')"
   ]
  },
  {
   "cell_type": "code",
   "execution_count": null,
   "metadata": {},
   "outputs": [],
   "source": [
    "\n",
    "methods = [\"most_frequent\", \"prior\", \"stratified\", \"uniform\"]\n",
    "scores = {}\n",
    "\n",
    "for method in methods:\n",
    "  dummy_clf = DummyClassifier(strategy=method)\n",
    "  clf = dummy_clf.fit(X_train, y_train)\n",
    "  y_pred = dummy_clf.predict(X_test)\n",
    "  scores[method] = dummy_clf.score(X_test, y_pred)\n",
    "  print(dummy_clf.score(X_test, y_pred))\n",
    "  print(balanced_accuracy_score(y_test, y_pred))\n",
    "  print(f1_score(y_test, y_pred))\n",
    "  print('_'*20)\n",
    "\n",
    "scores"
   ]
  },
  {
   "cell_type": "markdown",
   "metadata": {},
   "source": [
    "###Preprocessed"
   ]
  },
  {
   "cell_type": "code",
   "execution_count": 16,
   "metadata": {},
   "outputs": [],
   "source": [
    "X_train, X_test, y_train, y_test = train_test_split(replaced, y, shuffle=True, random_state = 42)"
   ]
  },
  {
   "cell_type": "code",
   "execution_count": 17,
   "metadata": {},
   "outputs": [
    {
     "name": "stdout",
     "output_type": "stream",
     "text": [
      "1.0\n",
      "0.5\n",
      "0.9484304932735426\n",
      "____________________\n",
      "1.0\n",
      "0.5\n",
      "0.9484304932735426\n",
      "____________________\n",
      "0.8113006396588486\n",
      "0.4849676225716929\n",
      "0.8908765652951699\n",
      "____________________\n",
      "0.5245202558635395\n",
      "0.5179617637989515\n",
      "0.6566037735849056\n",
      "____________________\n"
     ]
    },
    {
     "data": {
      "text/plain": [
       "{'most_frequent': 1.0,\n",
       " 'prior': 1.0,\n",
       " 'stratified': 0.8049040511727079,\n",
       " 'uniform': 0.523454157782516}"
      ]
     },
     "execution_count": 17,
     "metadata": {},
     "output_type": "execute_result"
    }
   ],
   "source": [
    "methods = [\"most_frequent\", \"prior\", \"stratified\", \"uniform\"]\n",
    "scores = {}\n",
    "\n",
    "for method in methods:\n",
    "  dummy_clf = DummyClassifier(strategy=method)\n",
    "  clf = dummy_clf.fit(X_train, y_train)\n",
    "  y_pred = dummy_clf.predict(X_test)\n",
    "  scores[method] = dummy_clf.score(X_test, y_pred)\n",
    "  print(dummy_clf.score(X_test, y_pred))\n",
    "  print(balanced_accuracy_score(y_test, y_pred))\n",
    "  print(f1_score(y_test, y_pred))\n",
    "  print('_'*20)\n",
    "\n",
    "scores"
   ]
  }
 ],
 "metadata": {
  "interpreter": {
   "hash": "2e3cc47668b018802626e3a416c19566715ed21c2b0a730c77eabf314b853671"
  },
  "kernelspec": {
   "display_name": "Python 3.10.4 ('python_in_ml')",
   "language": "python",
   "name": "python3"
  },
  "language_info": {
   "codemirror_mode": {
    "name": "ipython",
    "version": 3
   },
   "file_extension": ".py",
   "mimetype": "text/x-python",
   "name": "python",
   "nbconvert_exporter": "python",
   "pygments_lexer": "ipython3",
   "version": "3.10.4"
  },
  "orig_nbformat": 4
 },
 "nbformat": 4,
 "nbformat_minor": 2
}
