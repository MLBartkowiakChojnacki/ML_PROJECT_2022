{
 "cells": [
  {
   "cell_type": "code",
   "execution_count": 66,
   "metadata": {},
   "outputs": [
    {
     "data": {
      "text/plain": [
       "'c:\\\\Users\\\\Marta\\\\Desktop\\\\Studia\\\\CDV\\\\IV semestr 2022L\\\\Wykorzystanie Pythona w uczeniu maszynowym\\\\ml_project\\\\project\\\\ML_PROJECT_2022\\\\data\\\\raw'"
      ]
     },
     "execution_count": 66,
     "metadata": {},
     "output_type": "execute_result"
    }
   ],
   "source": [
    "import pandas as pd\n",
    "import numpy as np\n",
    "from instructions import load_df_from_pkl, save_df_as_pkl\n",
    "from handling_outliers import removing_iqr, removing_percentiles, zscore_outlier, modified_z_score_outlier, count_outliers, mask_outliers, replace_missing_values\n",
    "import os\n",
    "\n",
    "\n",
    "path = os.path.split(os.getcwd())\n",
    "data_directory = os.path.join(path[0], 'data\\\\raw')\n",
    "data_directory"
   ]
  },
  {
   "cell_type": "code",
   "execution_count": 67,
   "metadata": {},
   "outputs": [],
   "source": [
    "y = load_df_from_pkl(data_directory, 'y')\n",
    "X = load_df_from_pkl(data_directory, 'X')"
   ]
  },
  {
   "cell_type": "code",
   "execution_count": 68,
   "metadata": {},
   "outputs": [],
   "source": [
    "outliers_methods_dict = {\n",
    "    \"Removing 0.1 & 0.9\" : removing_percentiles,\n",
    "    \"IQR\" : removing_iqr,\n",
    "    \"Z-score\" : zscore_outlier,\n",
    "    \"Modified Z-score\" : modified_z_score_outlier\n",
    "}"
   ]
  },
  {
   "cell_type": "code",
   "execution_count": 69,
   "metadata": {},
   "outputs": [],
   "source": [
    "from sklearn.preprocessing import StandardScaler\n",
    "\n",
    "std = StandardScaler()\n",
    "X_copy_3 = X.copy()\n",
    "X_std = std.fit_transform(X_copy_3)"
   ]
  },
  {
   "cell_type": "code",
   "execution_count": 36,
   "metadata": {},
   "outputs": [
    {
     "name": "stdout",
     "output_type": "stream",
     "text": [
      "Removing 0.1 & 0.9\n",
      "(0       2028\n",
      "1       2013\n",
      "2       1942\n",
      "3       1951\n",
      "4       1997\n",
      "        ... \n",
      "3745    1899\n",
      "3746    1969\n",
      "3747    1977\n",
      "3748    1899\n",
      "3749    1975\n",
      "Length: 3750, dtype: int64,            0\n",
      "1806  0.2131\n",
      "2422  0.2130\n",
      "1692  0.2128\n",
      "1905  0.2126\n",
      "2410  0.2124\n",
      "...      ...\n",
      "2906  0.1873\n",
      "207   0.1873\n",
      "1441  0.1867\n",
      "338   0.1856\n",
      "662   0.1851\n",
      "\n",
      "[3750 rows x 1 columns])\n",
      "Dataset contamination: 20.0 %\n",
      "__________\n",
      "IQR\n",
      "(0       82\n",
      "1       77\n",
      "2       51\n",
      "3       62\n",
      "4       80\n",
      "        ..\n",
      "3745    68\n",
      "3746    65\n",
      "3747    79\n",
      "3748    78\n",
      "3749    68\n",
      "Length: 3750, dtype: int64,            0\n",
      "3667  0.0105\n",
      "2844  0.0099\n",
      "2524  0.0098\n",
      "2820  0.0097\n",
      "3458  0.0096\n",
      "...      ...\n",
      "3204  0.0048\n",
      "7     0.0048\n",
      "909   0.0047\n",
      "3594  0.0046\n",
      "345   0.0046\n",
      "\n",
      "[3750 rows x 1 columns])\n",
      "Dataset contamination: 0.71 %\n",
      "__________\n",
      "Z-score\n",
      "(0       30\n",
      "1       30\n",
      "2       16\n",
      "3       28\n",
      "4       36\n",
      "        ..\n",
      "3745    27\n",
      "3746    30\n",
      "3747    24\n",
      "3748    32\n",
      "3749    23\n",
      "Length: 3750, dtype: int64,            0\n",
      "3185  0.0047\n",
      "479   0.0046\n",
      "3667  0.0045\n",
      "495   0.0044\n",
      "620   0.0044\n",
      "...      ...\n",
      "2956  0.0013\n",
      "32    0.0013\n",
      "3473  0.0013\n",
      "1874  0.0012\n",
      "1578  0.0011\n",
      "\n",
      "[3750 rows x 1 columns])\n",
      "Dataset contamination: 0.27 %\n",
      "__________\n",
      "Modified Z-score\n",
      "(0       10\n",
      "1        7\n",
      "2        2\n",
      "3        1\n",
      "4        5\n",
      "        ..\n",
      "3745     4\n",
      "3746     6\n",
      "3747     7\n",
      "3748     2\n",
      "3749     7\n",
      "Length: 3750, dtype: int64,            0\n",
      "1928  0.0014\n",
      "3325  0.0014\n",
      "70    0.0014\n",
      "3230  0.0014\n",
      "2510  0.0013\n",
      "...      ...\n",
      "3219  0.0000\n",
      "3244  0.0000\n",
      "1913  0.0000\n",
      "3403  0.0000\n",
      "944   0.0000\n",
      "\n",
      "[3750 rows x 1 columns])\n",
      "Dataset contamination: 0.05 %\n",
      "__________\n"
     ]
    }
   ],
   "source": [
    "for method_name, method in outliers_methods_dict.items():\n",
    "    X_rem = method(pd.DataFrame(X_std))\n",
    "    counted = count_outliers(X_rem)\n",
    "    contamination = counted[0].sum() / (X_rem.shape[0] * X_rem.shape[1]) * 100\n",
    "    #masked = mask_outliers(pd.DataFrame(X_std), X_rem)\n",
    "    #replaced = replace_missing_values(masked, 5)\n",
    "    print(method_name)\n",
    "    print(counted[1])\n",
    "    print(f'Dataset contamination: {round(contamination, 2)} %')\n",
    "    print('_'*10)"
   ]
  },
  {
   "cell_type": "code",
   "execution_count": 70,
   "metadata": {},
   "outputs": [
    {
     "name": "stdout",
     "output_type": "stream",
     "text": [
      "(0       82\n",
      "1       77\n",
      "2       51\n",
      "3       62\n",
      "4       80\n",
      "        ..\n",
      "3745    68\n",
      "3746    65\n",
      "3747    79\n",
      "3748    78\n",
      "3749    68\n",
      "Length: 3750, dtype: int64,            0\n",
      "3667  0.0105\n",
      "2844  0.0099\n",
      "2524  0.0098\n",
      "2820  0.0097\n",
      "3458  0.0096\n",
      "...      ...\n",
      "3204  0.0048\n",
      "7     0.0048\n",
      "909   0.0047\n",
      "3594  0.0046\n",
      "345   0.0046\n",
      "\n",
      "[3750 rows x 1 columns])\n",
      "Dataset contamination: 0.71 %\n",
      "__________\n"
     ]
    }
   ],
   "source": [
    "X_rem = removing_iqr(pd.DataFrame(X_std))\n",
    "counted = count_outliers(X_rem)\n",
    "contamination = counted[0].sum() / (X_rem.shape[0] * X_rem.shape[1]) * 100\n",
    "masked = mask_outliers(pd.DataFrame(X_std), X_rem)\n",
    "replaced = replace_missing_values(masked, 5)\n",
    "print(counted)\n",
    "print(f'Dataset contamination: {round(contamination, 2)} %')\n",
    "print('_'*10)"
   ]
  },
  {
   "cell_type": "code",
   "execution_count": 38,
   "metadata": {},
   "outputs": [],
   "source": [
    "save_df_as_pkl(replaced, data_directory, 'X_preprocessed')"
   ]
  },
  {
   "cell_type": "markdown",
   "metadata": {},
   "source": [
    "###Baseline"
   ]
  },
  {
   "cell_type": "code",
   "execution_count": 71,
   "metadata": {},
   "outputs": [],
   "source": [
    "from sklearn.tree import DecisionTreeClassifier\n",
    "from sklearn.metrics import balanced_accuracy_score, f1_score\n",
    "from sklearn.model_selection import cross_val_score, cross_val_predict\n",
    "\n",
    "\n",
    "dummy_clf = DecisionTreeClassifier(random_state=42)\n",
    "\n",
    "y_pred = cross_val_predict(dummy_clf, X, y, cv=5)"
   ]
  },
  {
   "cell_type": "code",
   "execution_count": 44,
   "metadata": {},
   "outputs": [
    {
     "data": {
      "text/plain": [
       "array([[ 264,  111],\n",
       "       [  91, 3284]], dtype=int64)"
      ]
     },
     "execution_count": 44,
     "metadata": {},
     "output_type": "execute_result"
    }
   ],
   "source": [
    "from sklearn.metrics import confusion_matrix\n",
    "\n",
    "cm = confusion_matrix(y, y_pred)\n",
    "cm"
   ]
  },
  {
   "cell_type": "code",
   "execution_count": 72,
   "metadata": {},
   "outputs": [
    {
     "data": {
      "text/plain": [
       "(0.9673048600883652,\n",
       " 0.973037037037037,\n",
       " 0.8385185185185184,\n",
       " 0.9454750005058578,\n",
       " 0.8385185185185184)"
      ]
     },
     "execution_count": 72,
     "metadata": {},
     "output_type": "execute_result"
    }
   ],
   "source": [
    "from sklearn.metrics import precision_score, recall_score, balanced_accuracy_score\n",
    "\n",
    "precision = precision_score(y, y_pred)\n",
    "recall = recall_score(y, y_pred)\n",
    "acc = balanced_accuracy_score(y, y_pred)\n",
    "f1 = f1_score(y, y_pred, average='weighted')\n",
    "roc_score = roc_auc_score(y, y_pred, average='weighted')\n",
    "\n",
    "precision, recall, acc, f1, roc_score"
   ]
  },
  {
   "cell_type": "code",
   "execution_count": 73,
   "metadata": {},
   "outputs": [
    {
     "data": {
      "text/plain": [
       "array([[ 273,  102],\n",
       "       [ 122, 3253]], dtype=int64)"
      ]
     },
     "execution_count": 73,
     "metadata": {},
     "output_type": "execute_result"
    }
   ],
   "source": [
    "clf = DecisionTreeClassifier(random_state=42)\n",
    "y_pred = cross_val_predict(clf, replaced, y, cv=5)\n",
    "cm = confusion_matrix(y, y_pred)\n",
    "cm"
   ]
  },
  {
   "cell_type": "code",
   "execution_count": 74,
   "metadata": {},
   "outputs": [
    {
     "data": {
      "text/plain": [
       "(0.9695976154992548, 0.9638518518518518, 0.845925925925926, 0.9409536674321222)"
      ]
     },
     "execution_count": 74,
     "metadata": {},
     "output_type": "execute_result"
    }
   ],
   "source": [
    "from sklearn.metrics import precision_score, recall_score, balanced_accuracy_score, f1_score, roc_auc_score\n",
    "\n",
    "precision = precision_score(y, y_pred)\n",
    "recall = recall_score(y, y_pred)\n",
    "acc = balanced_accuracy_score(y, y_pred)\n",
    "f1 = f1_score(y, y_pred, average='weighted')\n",
    "roc_score = roc_auc_score(y, y_pred, average='weighted')\n",
    "\n",
    "precision, recall, acc, f1"
   ]
  }
 ],
 "metadata": {
  "interpreter": {
   "hash": "2e3cc47668b018802626e3a416c19566715ed21c2b0a730c77eabf314b853671"
  },
  "kernelspec": {
   "display_name": "Python 3.10.4 ('python_in_ml')",
   "language": "python",
   "name": "python3"
  },
  "language_info": {
   "codemirror_mode": {
    "name": "ipython",
    "version": 3
   },
   "file_extension": ".py",
   "mimetype": "text/x-python",
   "name": "python",
   "nbconvert_exporter": "python",
   "pygments_lexer": "ipython3",
   "version": "3.10.4"
  },
  "orig_nbformat": 4
 },
 "nbformat": 4,
 "nbformat_minor": 2
}
