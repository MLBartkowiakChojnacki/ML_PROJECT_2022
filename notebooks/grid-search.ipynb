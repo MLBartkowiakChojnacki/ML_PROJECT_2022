{
 "cells": [
  {
   "cell_type": "code",
   "execution_count": null,
   "metadata": {},
   "outputs": [],
   "source": [
    "### !!! AFTER DIMENSIONALITY REDUCTION !!! ###\n",
    "\n",
    "import pandas as pd\n",
    "import numpy as np\n",
    "import os"
   ]
  },
  {
   "cell_type": "code",
   "execution_count": null,
   "metadata": {},
   "outputs": [],
   "source": [
    "import instructions\n",
    "\n",
    "path = os.path.split(os.getcwd())\n",
    "data_directory = os.path.join(path[0], 'data\\\\raw')\n",
    "#data_directory = os.path.join(os.getcwd(), 'data\\\\raw')\n",
    "\n",
    "\n",
    "X = instructions.load_csv(data_directory, 'train_data')\n",
    "y = instructions.load_csv(data_directory, 'train_labels')"
   ]
  },
  {
   "cell_type": "code",
   "execution_count": null,
   "metadata": {},
   "outputs": [],
   "source": [
    "\n",
    "from sklearn.pipeline import Pipeline\n",
    "\n",
    "pipe = Pipeline(steps=[(\"classifier\", LogisticRegression())])"
   ]
  },
  {
   "cell_type": "code",
   "execution_count": null,
   "metadata": {},
   "outputs": [],
   "source": [
    "from sklearn.linear_model import LogisticRegression\n",
    "from sklearn.ensemble import RandomForestClassifier\n",
    "from sklearn.neighbors import KNeighborsClassifier\n",
    "\n",
    "search_space = [{\"classifier\" : [LogisticRegression()],\n",
    "                \"classifier__penalty\" : ['l1', 'l2'],\n",
    "                \"classifier__C\" : [np.logspace(0, 4, 10)]},\n",
    "                {\"classifier\" : [RandomForestClassifier()],\n",
    "                \"classifier__n_estimators\" : [10, 100, 1000],\n",
    "                \"classifier__max_features\" : [1, 2, 3]},\n",
    "                {\"classifier\" : [KNeighborsClassifier()],\n",
    "                \"classifier__n_neighbors\" : [3, 5, 7, 9]}]"
   ]
  },
  {
   "cell_type": "code",
   "execution_count": null,
   "metadata": {},
   "outputs": [],
   "source": [
    "from sklearn.model_selection import GridSearchCV, RandomizedSearchCV\n",
    "from sklearn.model_selection import RepeatedStratifiedKFold\n",
    "\n",
    "splits = 3\n",
    "n_repeats = 10\n",
    "rskf = RepeatedStratifiedKFold(n_splits=splits,n_repeats=n_repeats)\n",
    "\n",
    "multi_grid_search = GridSearchCV(pipe, search_space, cv=5, verbose=3)   "
   ]
  },
  {
   "cell_type": "code",
   "execution_count": null,
   "metadata": {},
   "outputs": [],
   "source": [
    "from sklearn.preprocessing import StandardScaler\n",
    "\n",
    "std = StandardScaler()\n",
    "X_std = std.fit_transform(X)\n",
    "X_std"
   ]
  },
  {
   "cell_type": "code",
   "execution_count": null,
   "metadata": {},
   "outputs": [],
   "source": [
    "for fold_nb, (train_index, test_index) in enumerate(rskf.split(X, y)):\n",
    "    X_train, X_test = X.iloc[train_index], X.iloc[test_index]\n",
    "    y_train, y_test = y.iloc[train_index], y.iloc[test_index]\n",
    "    X_train_std = std.fit_transform(X_train)\n",
    "    multi_grid_search.fit(X_train_std, y_train)\n",
    "    print(fold_nb)"
   ]
  },
  {
   "cell_type": "code",
   "execution_count": null,
   "metadata": {},
   "outputs": [],
   "source": [
    "multi_grid_search.best_estimator_, multi_grid_search.best_params_, multi_grid_search.best_score_"
   ]
  }
 ],
 "metadata": {
  "language_info": {
   "name": "python"
  },
  "orig_nbformat": 4
 },
 "nbformat": 4,
 "nbformat_minor": 2
}
