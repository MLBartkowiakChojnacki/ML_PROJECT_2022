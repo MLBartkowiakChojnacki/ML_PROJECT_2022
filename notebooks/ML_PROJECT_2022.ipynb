{
  "nbformat": 4,
  "nbformat_minor": 0,
  "metadata": {
    "colab": {
      "name": "ML_PROJECT_2022.ipynb",
      "provenance": [],
      "toc_visible": true,
      "mount_file_id": "1m-1buQ_B8Z9mOHiX5uxUmFPezn6Z2sZg",
      "authorship_tag": "ABX9TyPK16fdSVGMyjzC6Ioeh5tK",
      "include_colab_link": true
    },
    "kernelspec": {
      "name": "python3",
      "display_name": "Python 3"
    },
    "language_info": {
      "name": "python"
    }
  },
  "cells": [
    {
      "cell_type": "markdown",
      "metadata": {
        "id": "view-in-github",
        "colab_type": "text"
      },
      "source": [
        "<a href=\"https://colab.research.google.com/github/MLBartkowiakChojnacki/ML_PROJECT_2022/blob/KRZYSZTOF/notebooks/ML_PROJECT_2022.ipynb\" target=\"_parent\"><img src=\"https://colab.research.google.com/assets/colab-badge.svg\" alt=\"Open In Colab\"/></a>"
      ]
    },
    {
      "cell_type": "markdown",
      "source": [
        "#ML PROJECT"
      ],
      "metadata": {
        "id": "3OFMYmEqNegh"
      }
    },
    {
      "cell_type": "markdown",
      "source": [
        "##EDA AND DATA PREPARATION"
      ],
      "metadata": {
        "id": "9HRpUySJNhKV"
      }
    },
    {
      "cell_type": "markdown",
      "source": [
        "###LOADING DATA"
      ],
      "metadata": {
        "id": "c8XS1jQ7Njbv"
      }
    },
    {
      "cell_type": "code",
      "execution_count": null,
      "metadata": {
        "colab": {
          "base_uri": "https://localhost:8080/",
          "height": 300
        },
        "id": "v8jXmd4K333i",
        "outputId": "a1b8691e-537a-4224-c073-79675eeda24b"
      },
      "outputs": [
        {
          "output_type": "execute_result",
          "data": {
            "text/plain": [
              "   feature_1  feature_2  feature_3  feature_4  feature_5  feature_6  \\\n",
              "0    304.361   -436.590 -33854.769 -96571.569 -15086.947   -794.409   \n",
              "1     54.047     90.087   -154.747  -4116.486  38365.133   -589.309   \n",
              "2    272.168   -201.736   4212.592  -9123.655 -35422.458  -1029.249   \n",
              "3    170.007     68.736  48662.079  29735.235 -13903.955    895.081   \n",
              "4     86.797    180.052 -49643.545   2515.406  26206.315   -407.453   \n",
              "\n",
              "   feature_7  feature_8  feature_9  feature_10  ...  feature_9991  \\\n",
              "0   -442.859    304.248   -202.411    -506.852  ...        95.294   \n",
              "1   1115.367    274.199    814.953     167.272  ...      -176.341   \n",
              "2   -506.290   -476.856   -570.731    -161.288  ...       321.426   \n",
              "3   -257.748   -811.058   -691.561     -31.439  ...      -409.919   \n",
              "4   -189.416    -53.664   -159.507     -42.291  ...      -101.761   \n",
              "\n",
              "   feature_9992  feature_9993  feature_9994  feature_9995  feature_9996  \\\n",
              "0        -3.936      -251.812       256.429      -473.661     -1398.604   \n",
              "1      -426.238      -542.428        99.147      -102.309      -277.948   \n",
              "2      -376.033       142.834       920.958      -122.525      -174.304   \n",
              "3       400.946       313.270       123.172      1786.962       147.637   \n",
              "4      -424.898        37.254      -337.431       423.691        14.240   \n",
              "\n",
              "   feature_9997  feature_9998  feature_9999  feature_10000  \n",
              "0        42.638       771.185      -191.123       1356.137  \n",
              "1       -98.859     -1163.779       265.231       -992.056  \n",
              "2      -137.612     -1571.473       678.323       1020.263  \n",
              "3        31.433      -784.719       573.433       1454.415  \n",
              "4       267.352      -234.560      -213.804        873.391  \n",
              "\n",
              "[5 rows x 10000 columns]"
            ],
            "text/html": [
              "\n",
              "  <div id=\"df-dfea3a85-cdcd-4690-b047-02b55b3c36d7\">\n",
              "    <div class=\"colab-df-container\">\n",
              "      <div>\n",
              "<style scoped>\n",
              "    .dataframe tbody tr th:only-of-type {\n",
              "        vertical-align: middle;\n",
              "    }\n",
              "\n",
              "    .dataframe tbody tr th {\n",
              "        vertical-align: top;\n",
              "    }\n",
              "\n",
              "    .dataframe thead th {\n",
              "        text-align: right;\n",
              "    }\n",
              "</style>\n",
              "<table border=\"1\" class=\"dataframe\">\n",
              "  <thead>\n",
              "    <tr style=\"text-align: right;\">\n",
              "      <th></th>\n",
              "      <th>feature_1</th>\n",
              "      <th>feature_2</th>\n",
              "      <th>feature_3</th>\n",
              "      <th>feature_4</th>\n",
              "      <th>feature_5</th>\n",
              "      <th>feature_6</th>\n",
              "      <th>feature_7</th>\n",
              "      <th>feature_8</th>\n",
              "      <th>feature_9</th>\n",
              "      <th>feature_10</th>\n",
              "      <th>...</th>\n",
              "      <th>feature_9991</th>\n",
              "      <th>feature_9992</th>\n",
              "      <th>feature_9993</th>\n",
              "      <th>feature_9994</th>\n",
              "      <th>feature_9995</th>\n",
              "      <th>feature_9996</th>\n",
              "      <th>feature_9997</th>\n",
              "      <th>feature_9998</th>\n",
              "      <th>feature_9999</th>\n",
              "      <th>feature_10000</th>\n",
              "    </tr>\n",
              "  </thead>\n",
              "  <tbody>\n",
              "    <tr>\n",
              "      <th>0</th>\n",
              "      <td>304.361</td>\n",
              "      <td>-436.590</td>\n",
              "      <td>-33854.769</td>\n",
              "      <td>-96571.569</td>\n",
              "      <td>-15086.947</td>\n",
              "      <td>-794.409</td>\n",
              "      <td>-442.859</td>\n",
              "      <td>304.248</td>\n",
              "      <td>-202.411</td>\n",
              "      <td>-506.852</td>\n",
              "      <td>...</td>\n",
              "      <td>95.294</td>\n",
              "      <td>-3.936</td>\n",
              "      <td>-251.812</td>\n",
              "      <td>256.429</td>\n",
              "      <td>-473.661</td>\n",
              "      <td>-1398.604</td>\n",
              "      <td>42.638</td>\n",
              "      <td>771.185</td>\n",
              "      <td>-191.123</td>\n",
              "      <td>1356.137</td>\n",
              "    </tr>\n",
              "    <tr>\n",
              "      <th>1</th>\n",
              "      <td>54.047</td>\n",
              "      <td>90.087</td>\n",
              "      <td>-154.747</td>\n",
              "      <td>-4116.486</td>\n",
              "      <td>38365.133</td>\n",
              "      <td>-589.309</td>\n",
              "      <td>1115.367</td>\n",
              "      <td>274.199</td>\n",
              "      <td>814.953</td>\n",
              "      <td>167.272</td>\n",
              "      <td>...</td>\n",
              "      <td>-176.341</td>\n",
              "      <td>-426.238</td>\n",
              "      <td>-542.428</td>\n",
              "      <td>99.147</td>\n",
              "      <td>-102.309</td>\n",
              "      <td>-277.948</td>\n",
              "      <td>-98.859</td>\n",
              "      <td>-1163.779</td>\n",
              "      <td>265.231</td>\n",
              "      <td>-992.056</td>\n",
              "    </tr>\n",
              "    <tr>\n",
              "      <th>2</th>\n",
              "      <td>272.168</td>\n",
              "      <td>-201.736</td>\n",
              "      <td>4212.592</td>\n",
              "      <td>-9123.655</td>\n",
              "      <td>-35422.458</td>\n",
              "      <td>-1029.249</td>\n",
              "      <td>-506.290</td>\n",
              "      <td>-476.856</td>\n",
              "      <td>-570.731</td>\n",
              "      <td>-161.288</td>\n",
              "      <td>...</td>\n",
              "      <td>321.426</td>\n",
              "      <td>-376.033</td>\n",
              "      <td>142.834</td>\n",
              "      <td>920.958</td>\n",
              "      <td>-122.525</td>\n",
              "      <td>-174.304</td>\n",
              "      <td>-137.612</td>\n",
              "      <td>-1571.473</td>\n",
              "      <td>678.323</td>\n",
              "      <td>1020.263</td>\n",
              "    </tr>\n",
              "    <tr>\n",
              "      <th>3</th>\n",
              "      <td>170.007</td>\n",
              "      <td>68.736</td>\n",
              "      <td>48662.079</td>\n",
              "      <td>29735.235</td>\n",
              "      <td>-13903.955</td>\n",
              "      <td>895.081</td>\n",
              "      <td>-257.748</td>\n",
              "      <td>-811.058</td>\n",
              "      <td>-691.561</td>\n",
              "      <td>-31.439</td>\n",
              "      <td>...</td>\n",
              "      <td>-409.919</td>\n",
              "      <td>400.946</td>\n",
              "      <td>313.270</td>\n",
              "      <td>123.172</td>\n",
              "      <td>1786.962</td>\n",
              "      <td>147.637</td>\n",
              "      <td>31.433</td>\n",
              "      <td>-784.719</td>\n",
              "      <td>573.433</td>\n",
              "      <td>1454.415</td>\n",
              "    </tr>\n",
              "    <tr>\n",
              "      <th>4</th>\n",
              "      <td>86.797</td>\n",
              "      <td>180.052</td>\n",
              "      <td>-49643.545</td>\n",
              "      <td>2515.406</td>\n",
              "      <td>26206.315</td>\n",
              "      <td>-407.453</td>\n",
              "      <td>-189.416</td>\n",
              "      <td>-53.664</td>\n",
              "      <td>-159.507</td>\n",
              "      <td>-42.291</td>\n",
              "      <td>...</td>\n",
              "      <td>-101.761</td>\n",
              "      <td>-424.898</td>\n",
              "      <td>37.254</td>\n",
              "      <td>-337.431</td>\n",
              "      <td>423.691</td>\n",
              "      <td>14.240</td>\n",
              "      <td>267.352</td>\n",
              "      <td>-234.560</td>\n",
              "      <td>-213.804</td>\n",
              "      <td>873.391</td>\n",
              "    </tr>\n",
              "  </tbody>\n",
              "</table>\n",
              "<p>5 rows × 10000 columns</p>\n",
              "</div>\n",
              "      <button class=\"colab-df-convert\" onclick=\"convertToInteractive('df-dfea3a85-cdcd-4690-b047-02b55b3c36d7')\"\n",
              "              title=\"Convert this dataframe to an interactive table.\"\n",
              "              style=\"display:none;\">\n",
              "        \n",
              "  <svg xmlns=\"http://www.w3.org/2000/svg\" height=\"24px\"viewBox=\"0 0 24 24\"\n",
              "       width=\"24px\">\n",
              "    <path d=\"M0 0h24v24H0V0z\" fill=\"none\"/>\n",
              "    <path d=\"M18.56 5.44l.94 2.06.94-2.06 2.06-.94-2.06-.94-.94-2.06-.94 2.06-2.06.94zm-11 1L8.5 8.5l.94-2.06 2.06-.94-2.06-.94L8.5 2.5l-.94 2.06-2.06.94zm10 10l.94 2.06.94-2.06 2.06-.94-2.06-.94-.94-2.06-.94 2.06-2.06.94z\"/><path d=\"M17.41 7.96l-1.37-1.37c-.4-.4-.92-.59-1.43-.59-.52 0-1.04.2-1.43.59L10.3 9.45l-7.72 7.72c-.78.78-.78 2.05 0 2.83L4 21.41c.39.39.9.59 1.41.59.51 0 1.02-.2 1.41-.59l7.78-7.78 2.81-2.81c.8-.78.8-2.07 0-2.86zM5.41 20L4 18.59l7.72-7.72 1.47 1.35L5.41 20z\"/>\n",
              "  </svg>\n",
              "      </button>\n",
              "      \n",
              "  <style>\n",
              "    .colab-df-container {\n",
              "      display:flex;\n",
              "      flex-wrap:wrap;\n",
              "      gap: 12px;\n",
              "    }\n",
              "\n",
              "    .colab-df-convert {\n",
              "      background-color: #E8F0FE;\n",
              "      border: none;\n",
              "      border-radius: 50%;\n",
              "      cursor: pointer;\n",
              "      display: none;\n",
              "      fill: #1967D2;\n",
              "      height: 32px;\n",
              "      padding: 0 0 0 0;\n",
              "      width: 32px;\n",
              "    }\n",
              "\n",
              "    .colab-df-convert:hover {\n",
              "      background-color: #E2EBFA;\n",
              "      box-shadow: 0px 1px 2px rgba(60, 64, 67, 0.3), 0px 1px 3px 1px rgba(60, 64, 67, 0.15);\n",
              "      fill: #174EA6;\n",
              "    }\n",
              "\n",
              "    [theme=dark] .colab-df-convert {\n",
              "      background-color: #3B4455;\n",
              "      fill: #D2E3FC;\n",
              "    }\n",
              "\n",
              "    [theme=dark] .colab-df-convert:hover {\n",
              "      background-color: #434B5C;\n",
              "      box-shadow: 0px 1px 3px 1px rgba(0, 0, 0, 0.15);\n",
              "      filter: drop-shadow(0px 1px 2px rgba(0, 0, 0, 0.3));\n",
              "      fill: #FFFFFF;\n",
              "    }\n",
              "  </style>\n",
              "\n",
              "      <script>\n",
              "        const buttonEl =\n",
              "          document.querySelector('#df-dfea3a85-cdcd-4690-b047-02b55b3c36d7 button.colab-df-convert');\n",
              "        buttonEl.style.display =\n",
              "          google.colab.kernel.accessAllowed ? 'block' : 'none';\n",
              "\n",
              "        async function convertToInteractive(key) {\n",
              "          const element = document.querySelector('#df-dfea3a85-cdcd-4690-b047-02b55b3c36d7');\n",
              "          const dataTable =\n",
              "            await google.colab.kernel.invokeFunction('convertToInteractive',\n",
              "                                                     [key], {});\n",
              "          if (!dataTable) return;\n",
              "\n",
              "          const docLinkHtml = 'Like what you see? Visit the ' +\n",
              "            '<a target=\"_blank\" href=https://colab.research.google.com/notebooks/data_table.ipynb>data table notebook</a>'\n",
              "            + ' to learn more about interactive tables.';\n",
              "          element.innerHTML = '';\n",
              "          dataTable['output_type'] = 'display_data';\n",
              "          await google.colab.output.renderOutput(dataTable, element);\n",
              "          const docLink = document.createElement('div');\n",
              "          docLink.innerHTML = docLinkHtml;\n",
              "          element.appendChild(docLink);\n",
              "        }\n",
              "      </script>\n",
              "    </div>\n",
              "  </div>\n",
              "  "
            ]
          },
          "metadata": {},
          "execution_count": 8
        }
      ],
      "source": [
        "import pandas as pd\n",
        "\n",
        "rows_num = pd.read_csv('/content/drive/MyDrive/train_data.csv', nrows = 1)\n",
        "features = []\n",
        "col_num = len(rows_num.columns)\n",
        "\n",
        "for n in range (0, col_num):\n",
        "    features.append('feature_' + str(n))\n",
        "\n",
        "X = pd.read_csv('/content/drive/MyDrive/train_data.csv', names = features)\n",
        "y = pd.read_csv('/content/drive/MyDrive/train_labels.csv')\n",
        "\n",
        "X.head()"
      ]
    },
    {
      "cell_type": "code",
      "source": [
        "y.head()"
      ],
      "metadata": {
        "id": "VZRbYvPX5uIh"
      },
      "execution_count": null,
      "outputs": []
    },
    {
      "cell_type": "markdown",
      "source": [
        "###SHAPE - ROWS AND COLUMNS"
      ],
      "metadata": {
        "id": "_bUWFuvFNnXM"
      }
    },
    {
      "cell_type": "code",
      "source": [
        "rows, columns = X.shape\n",
        "print(\"X rows: {}\".format(rows), '\\n' 'X columns: {}'.format(columns))"
      ],
      "metadata": {
        "colab": {
          "base_uri": "https://localhost:8080/"
        },
        "id": "PNIHj0gz_awZ",
        "outputId": "c082022b-951a-48c5-d77c-c474302e4bd3"
      },
      "execution_count": null,
      "outputs": [
        {
          "output_type": "stream",
          "name": "stdout",
          "text": [
            "Rows: 3750 \n",
            "Columns: 10000\n"
          ]
        }
      ]
    },
    {
      "cell_type": "code",
      "source": [
        "rows, columns = y.shape\n",
        "print(\"y rows: {}\".format(rows), '\\n' 'y columns: {}'.format(columns))"
      ],
      "metadata": {
        "id": "_2_MuMFv54Lt"
      },
      "execution_count": null,
      "outputs": []
    },
    {
      "cell_type": "markdown",
      "source": [
        "###DATA TYPES"
      ],
      "metadata": {
        "id": "pA5GRAKDdFgE"
      }
    },
    {
      "cell_type": "code",
      "source": [
        "x = X.columns.to_series().groupby(X.dtypes).groups\n",
        "x.keys()"
      ],
      "metadata": {
        "colab": {
          "base_uri": "https://localhost:8080/"
        },
        "id": "N71V4CtxdHdI",
        "outputId": "6efa647d-c8e6-48e3-c42e-039172c330ed"
      },
      "execution_count": null,
      "outputs": [
        {
          "output_type": "execute_result",
          "data": {
            "text/plain": [
              "dict_keys([dtype('float64')])"
            ]
          },
          "metadata": {},
          "execution_count": 33
        }
      ]
    },
    {
      "cell_type": "markdown",
      "source": [
        "###MISSING VALUES"
      ],
      "metadata": {
        "id": "K11aVbyJNqwY"
      }
    },
    {
      "cell_type": "code",
      "source": [
        "# Checking the missing values\n",
        "print ('Missing values total: ', X.isnull().sum().sum())\n",
        "X.isnull().sum() / X.shape[0] * 100\n"
      ],
      "metadata": {
        "colab": {
          "base_uri": "https://localhost:8080/"
        },
        "id": "iRdAnMX59a5O",
        "outputId": "7842899c-90c1-4921-d6a8-36ce8964b1c9"
      },
      "execution_count": null,
      "outputs": [
        {
          "output_type": "stream",
          "name": "stdout",
          "text": [
            "Missing values total:  0\n"
          ]
        },
        {
          "output_type": "execute_result",
          "data": {
            "text/plain": [
              "feature_1        0.0\n",
              "feature_2        0.0\n",
              "feature_3        0.0\n",
              "feature_4        0.0\n",
              "feature_5        0.0\n",
              "                ... \n",
              "feature_9996     0.0\n",
              "feature_9997     0.0\n",
              "feature_9998     0.0\n",
              "feature_9999     0.0\n",
              "feature_10000    0.0\n",
              "Length: 10000, dtype: float64"
            ]
          },
          "metadata": {},
          "execution_count": 37
        }
      ]
    },
    {
      "cell_type": "markdown",
      "source": [
        "###DESCRIPTIVE STATISTICS"
      ],
      "metadata": {
        "id": "Uu98k029Nt_M"
      }
    },
    {
      "cell_type": "code",
      "source": [
        "X_desc = X.describe().T\n",
        "X.describe().T"
      ],
      "metadata": {
        "id": "4AEZxf1092iq",
        "colab": {
          "base_uri": "https://localhost:8080/",
          "height": 672
        },
        "outputId": "61f8fb2c-e448-48ef-8888-5f9c51a7c572"
      },
      "execution_count": null,
      "outputs": [
        {
          "output_type": "execute_result",
          "data": {
            "text/plain": [
              "                count        mean           std         min          25%  \\\n",
              "feature_1      3750.0   30.644135    286.172414    -989.450   -163.78175   \n",
              "feature_2      3750.0    9.080955    213.166659    -859.922   -135.34350   \n",
              "feature_3      3750.0  169.679419  43665.003613 -163336.428 -29284.11950   \n",
              "feature_4      3750.0  811.083532  57123.457110 -243844.632 -38028.42900   \n",
              "feature_5      3750.0 -186.008805  21942.466227  -77566.109 -14426.79950   \n",
              "...               ...         ...           ...         ...          ...   \n",
              "feature_9996   3750.0   -1.426345    655.666258   -2165.769   -432.00075   \n",
              "feature_9997   3750.0    9.597250    204.731554    -739.205   -129.07625   \n",
              "feature_9998   3750.0   -2.031243    793.022407   -2731.037   -561.30400   \n",
              "feature_9999   3750.0   -2.841237    629.128655   -2223.909   -424.19275   \n",
              "feature_10000  3750.0   38.071903    768.405732   -2565.513   -462.82800   \n",
              "\n",
              "                     50%          75%         max  \n",
              "feature_1        35.4785    215.78050    1224.394  \n",
              "feature_2         2.6805    156.09575     722.868  \n",
              "feature_3      1181.6985  29630.91450  177744.241  \n",
              "feature_4       980.5880  40561.96025  215372.854  \n",
              "feature_5      -154.8350  14515.83300   86287.955  \n",
              "...                  ...          ...         ...  \n",
              "feature_9996     -3.7965    425.33800    2562.331  \n",
              "feature_9997      8.6005    149.85575     685.176  \n",
              "feature_9998     -4.2430    539.55000    3123.617  \n",
              "feature_9999     -7.6280    427.79450    2204.527  \n",
              "feature_10000    28.1070    552.17350    2664.074  \n",
              "\n",
              "[10000 rows x 8 columns]"
            ],
            "text/html": [
              "\n",
              "  <div id=\"df-db9ab8e4-40b2-43d8-a681-3703c29b20e6\">\n",
              "    <div class=\"colab-df-container\">\n",
              "      <div>\n",
              "<style scoped>\n",
              "    .dataframe tbody tr th:only-of-type {\n",
              "        vertical-align: middle;\n",
              "    }\n",
              "\n",
              "    .dataframe tbody tr th {\n",
              "        vertical-align: top;\n",
              "    }\n",
              "\n",
              "    .dataframe thead th {\n",
              "        text-align: right;\n",
              "    }\n",
              "</style>\n",
              "<table border=\"1\" class=\"dataframe\">\n",
              "  <thead>\n",
              "    <tr style=\"text-align: right;\">\n",
              "      <th></th>\n",
              "      <th>count</th>\n",
              "      <th>mean</th>\n",
              "      <th>std</th>\n",
              "      <th>min</th>\n",
              "      <th>25%</th>\n",
              "      <th>50%</th>\n",
              "      <th>75%</th>\n",
              "      <th>max</th>\n",
              "    </tr>\n",
              "  </thead>\n",
              "  <tbody>\n",
              "    <tr>\n",
              "      <th>feature_1</th>\n",
              "      <td>3750.0</td>\n",
              "      <td>30.644135</td>\n",
              "      <td>286.172414</td>\n",
              "      <td>-989.450</td>\n",
              "      <td>-163.78175</td>\n",
              "      <td>35.4785</td>\n",
              "      <td>215.78050</td>\n",
              "      <td>1224.394</td>\n",
              "    </tr>\n",
              "    <tr>\n",
              "      <th>feature_2</th>\n",
              "      <td>3750.0</td>\n",
              "      <td>9.080955</td>\n",
              "      <td>213.166659</td>\n",
              "      <td>-859.922</td>\n",
              "      <td>-135.34350</td>\n",
              "      <td>2.6805</td>\n",
              "      <td>156.09575</td>\n",
              "      <td>722.868</td>\n",
              "    </tr>\n",
              "    <tr>\n",
              "      <th>feature_3</th>\n",
              "      <td>3750.0</td>\n",
              "      <td>169.679419</td>\n",
              "      <td>43665.003613</td>\n",
              "      <td>-163336.428</td>\n",
              "      <td>-29284.11950</td>\n",
              "      <td>1181.6985</td>\n",
              "      <td>29630.91450</td>\n",
              "      <td>177744.241</td>\n",
              "    </tr>\n",
              "    <tr>\n",
              "      <th>feature_4</th>\n",
              "      <td>3750.0</td>\n",
              "      <td>811.083532</td>\n",
              "      <td>57123.457110</td>\n",
              "      <td>-243844.632</td>\n",
              "      <td>-38028.42900</td>\n",
              "      <td>980.5880</td>\n",
              "      <td>40561.96025</td>\n",
              "      <td>215372.854</td>\n",
              "    </tr>\n",
              "    <tr>\n",
              "      <th>feature_5</th>\n",
              "      <td>3750.0</td>\n",
              "      <td>-186.008805</td>\n",
              "      <td>21942.466227</td>\n",
              "      <td>-77566.109</td>\n",
              "      <td>-14426.79950</td>\n",
              "      <td>-154.8350</td>\n",
              "      <td>14515.83300</td>\n",
              "      <td>86287.955</td>\n",
              "    </tr>\n",
              "    <tr>\n",
              "      <th>...</th>\n",
              "      <td>...</td>\n",
              "      <td>...</td>\n",
              "      <td>...</td>\n",
              "      <td>...</td>\n",
              "      <td>...</td>\n",
              "      <td>...</td>\n",
              "      <td>...</td>\n",
              "      <td>...</td>\n",
              "    </tr>\n",
              "    <tr>\n",
              "      <th>feature_9996</th>\n",
              "      <td>3750.0</td>\n",
              "      <td>-1.426345</td>\n",
              "      <td>655.666258</td>\n",
              "      <td>-2165.769</td>\n",
              "      <td>-432.00075</td>\n",
              "      <td>-3.7965</td>\n",
              "      <td>425.33800</td>\n",
              "      <td>2562.331</td>\n",
              "    </tr>\n",
              "    <tr>\n",
              "      <th>feature_9997</th>\n",
              "      <td>3750.0</td>\n",
              "      <td>9.597250</td>\n",
              "      <td>204.731554</td>\n",
              "      <td>-739.205</td>\n",
              "      <td>-129.07625</td>\n",
              "      <td>8.6005</td>\n",
              "      <td>149.85575</td>\n",
              "      <td>685.176</td>\n",
              "    </tr>\n",
              "    <tr>\n",
              "      <th>feature_9998</th>\n",
              "      <td>3750.0</td>\n",
              "      <td>-2.031243</td>\n",
              "      <td>793.022407</td>\n",
              "      <td>-2731.037</td>\n",
              "      <td>-561.30400</td>\n",
              "      <td>-4.2430</td>\n",
              "      <td>539.55000</td>\n",
              "      <td>3123.617</td>\n",
              "    </tr>\n",
              "    <tr>\n",
              "      <th>feature_9999</th>\n",
              "      <td>3750.0</td>\n",
              "      <td>-2.841237</td>\n",
              "      <td>629.128655</td>\n",
              "      <td>-2223.909</td>\n",
              "      <td>-424.19275</td>\n",
              "      <td>-7.6280</td>\n",
              "      <td>427.79450</td>\n",
              "      <td>2204.527</td>\n",
              "    </tr>\n",
              "    <tr>\n",
              "      <th>feature_10000</th>\n",
              "      <td>3750.0</td>\n",
              "      <td>38.071903</td>\n",
              "      <td>768.405732</td>\n",
              "      <td>-2565.513</td>\n",
              "      <td>-462.82800</td>\n",
              "      <td>28.1070</td>\n",
              "      <td>552.17350</td>\n",
              "      <td>2664.074</td>\n",
              "    </tr>\n",
              "  </tbody>\n",
              "</table>\n",
              "<p>10000 rows × 8 columns</p>\n",
              "</div>\n",
              "      <button class=\"colab-df-convert\" onclick=\"convertToInteractive('df-db9ab8e4-40b2-43d8-a681-3703c29b20e6')\"\n",
              "              title=\"Convert this dataframe to an interactive table.\"\n",
              "              style=\"display:none;\">\n",
              "        \n",
              "  <svg xmlns=\"http://www.w3.org/2000/svg\" height=\"24px\"viewBox=\"0 0 24 24\"\n",
              "       width=\"24px\">\n",
              "    <path d=\"M0 0h24v24H0V0z\" fill=\"none\"/>\n",
              "    <path d=\"M18.56 5.44l.94 2.06.94-2.06 2.06-.94-2.06-.94-.94-2.06-.94 2.06-2.06.94zm-11 1L8.5 8.5l.94-2.06 2.06-.94-2.06-.94L8.5 2.5l-.94 2.06-2.06.94zm10 10l.94 2.06.94-2.06 2.06-.94-2.06-.94-.94-2.06-.94 2.06-2.06.94z\"/><path d=\"M17.41 7.96l-1.37-1.37c-.4-.4-.92-.59-1.43-.59-.52 0-1.04.2-1.43.59L10.3 9.45l-7.72 7.72c-.78.78-.78 2.05 0 2.83L4 21.41c.39.39.9.59 1.41.59.51 0 1.02-.2 1.41-.59l7.78-7.78 2.81-2.81c.8-.78.8-2.07 0-2.86zM5.41 20L4 18.59l7.72-7.72 1.47 1.35L5.41 20z\"/>\n",
              "  </svg>\n",
              "      </button>\n",
              "      \n",
              "  <style>\n",
              "    .colab-df-container {\n",
              "      display:flex;\n",
              "      flex-wrap:wrap;\n",
              "      gap: 12px;\n",
              "    }\n",
              "\n",
              "    .colab-df-convert {\n",
              "      background-color: #E8F0FE;\n",
              "      border: none;\n",
              "      border-radius: 50%;\n",
              "      cursor: pointer;\n",
              "      display: none;\n",
              "      fill: #1967D2;\n",
              "      height: 32px;\n",
              "      padding: 0 0 0 0;\n",
              "      width: 32px;\n",
              "    }\n",
              "\n",
              "    .colab-df-convert:hover {\n",
              "      background-color: #E2EBFA;\n",
              "      box-shadow: 0px 1px 2px rgba(60, 64, 67, 0.3), 0px 1px 3px 1px rgba(60, 64, 67, 0.15);\n",
              "      fill: #174EA6;\n",
              "    }\n",
              "\n",
              "    [theme=dark] .colab-df-convert {\n",
              "      background-color: #3B4455;\n",
              "      fill: #D2E3FC;\n",
              "    }\n",
              "\n",
              "    [theme=dark] .colab-df-convert:hover {\n",
              "      background-color: #434B5C;\n",
              "      box-shadow: 0px 1px 3px 1px rgba(0, 0, 0, 0.15);\n",
              "      filter: drop-shadow(0px 1px 2px rgba(0, 0, 0, 0.3));\n",
              "      fill: #FFFFFF;\n",
              "    }\n",
              "  </style>\n",
              "\n",
              "      <script>\n",
              "        const buttonEl =\n",
              "          document.querySelector('#df-db9ab8e4-40b2-43d8-a681-3703c29b20e6 button.colab-df-convert');\n",
              "        buttonEl.style.display =\n",
              "          google.colab.kernel.accessAllowed ? 'block' : 'none';\n",
              "\n",
              "        async function convertToInteractive(key) {\n",
              "          const element = document.querySelector('#df-db9ab8e4-40b2-43d8-a681-3703c29b20e6');\n",
              "          const dataTable =\n",
              "            await google.colab.kernel.invokeFunction('convertToInteractive',\n",
              "                                                     [key], {});\n",
              "          if (!dataTable) return;\n",
              "\n",
              "          const docLinkHtml = 'Like what you see? Visit the ' +\n",
              "            '<a target=\"_blank\" href=https://colab.research.google.com/notebooks/data_table.ipynb>data table notebook</a>'\n",
              "            + ' to learn more about interactive tables.';\n",
              "          element.innerHTML = '';\n",
              "          dataTable['output_type'] = 'display_data';\n",
              "          await google.colab.output.renderOutput(dataTable, element);\n",
              "          const docLink = document.createElement('div');\n",
              "          docLink.innerHTML = docLinkHtml;\n",
              "          element.appendChild(docLink);\n",
              "        }\n",
              "      </script>\n",
              "    </div>\n",
              "  </div>\n",
              "  "
            ]
          },
          "metadata": {},
          "execution_count": 21
        }
      ]
    },
    {
      "cell_type": "markdown",
      "source": [
        "####LOW/HIGH VARIANCE"
      ],
      "metadata": {
        "id": "L8AZtKMaj8EK"
      }
    },
    {
      "cell_type": "markdown",
      "source": [
        "#####HIGH/LOW VARIANCE PROBLEM\n",
        "https://datascience.stackexchange.com/questions/37345/what-is-the-meaning-of-term-variance-in-machine-learning-model\n",
        "\n",
        "1. What is high/low variance?\n",
        "1. Over/underfitiing\n",
        "1. Percentage vs max/min var\n",
        "1. 10% cut up/bottom\n",
        "1. Max - min var / specific var as indicator for high/low var"
      ],
      "metadata": {
        "id": "Zj7bIJJP9SZG"
      }
    },
    {
      "cell_type": "code",
      "source": [
        "X['var'] = X['std']**2\n",
        "X.sort_values(by=['std'])"
      ],
      "metadata": {
        "colab": {
          "base_uri": "https://localhost:8080/",
          "height": 672
        },
        "id": "cBMU0sn3jwLp",
        "outputId": "edf4bb88-ba5f-4913-b50a-1e76ab61bd9a"
      },
      "execution_count": null,
      "outputs": [
        {
          "output_type": "execute_result",
          "data": {
            "text/plain": [
              "               count          mean            std         min          25%  \\\n",
              "feature_297   3750.0     16.394891      96.609371    -336.881    -48.31825   \n",
              "feature_2142  3750.0     17.571081      97.780843    -443.324    -47.77625   \n",
              "feature_9295  3750.0     10.192217      98.812225    -304.940    -56.42625   \n",
              "feature_6449  3750.0     14.586077      98.829126    -354.053    -52.42075   \n",
              "feature_8069  3750.0     15.850471      99.219032    -317.977    -50.89075   \n",
              "...              ...           ...            ...         ...          ...   \n",
              "feature_5     3750.0   -186.008805   21942.466227  -77566.109 -14426.79950   \n",
              "feature_5433  3750.0  19758.940279   40031.725525  -78808.956 -17446.05700   \n",
              "feature_3     3750.0    169.679419   43665.003613 -163336.428 -29284.11950   \n",
              "feature_4     3750.0    811.083532   57123.457110 -243844.632 -38028.42900   \n",
              "feature_1018  3750.0  73909.525799  145483.629953 -236100.056 -62991.52250   \n",
              "\n",
              "                     50%           75%         max           var  \n",
              "feature_297      18.3490      82.18525     339.396  9.333371e+03  \n",
              "feature_2142     19.4850      83.65900     340.743  9.561093e+03  \n",
              "feature_9295     11.5865      77.67875     356.862  9.763856e+03  \n",
              "feature_6449     13.0880      79.90025     340.144  9.767196e+03  \n",
              "feature_8069     15.6050      84.36650     344.393  9.844416e+03  \n",
              "...                  ...           ...         ...           ...  \n",
              "feature_5      -154.8350   14515.83300   86287.955  4.814718e+08  \n",
              "feature_5433  17472.4895   57388.01875  115499.031  1.602539e+09  \n",
              "feature_3      1181.6985   29630.91450  177744.241  1.906633e+09  \n",
              "feature_4       980.5880   40561.96025  215372.854  3.263089e+09  \n",
              "feature_1018  70704.2060  212446.92225  414233.425  2.116549e+10  \n",
              "\n",
              "[10000 rows x 9 columns]"
            ],
            "text/html": [
              "\n",
              "  <div id=\"df-e7e257ac-dd57-42bf-87bf-514ad4c78cc9\">\n",
              "    <div class=\"colab-df-container\">\n",
              "      <div>\n",
              "<style scoped>\n",
              "    .dataframe tbody tr th:only-of-type {\n",
              "        vertical-align: middle;\n",
              "    }\n",
              "\n",
              "    .dataframe tbody tr th {\n",
              "        vertical-align: top;\n",
              "    }\n",
              "\n",
              "    .dataframe thead th {\n",
              "        text-align: right;\n",
              "    }\n",
              "</style>\n",
              "<table border=\"1\" class=\"dataframe\">\n",
              "  <thead>\n",
              "    <tr style=\"text-align: right;\">\n",
              "      <th></th>\n",
              "      <th>count</th>\n",
              "      <th>mean</th>\n",
              "      <th>std</th>\n",
              "      <th>min</th>\n",
              "      <th>25%</th>\n",
              "      <th>50%</th>\n",
              "      <th>75%</th>\n",
              "      <th>max</th>\n",
              "      <th>var</th>\n",
              "    </tr>\n",
              "  </thead>\n",
              "  <tbody>\n",
              "    <tr>\n",
              "      <th>feature_297</th>\n",
              "      <td>3750.0</td>\n",
              "      <td>16.394891</td>\n",
              "      <td>96.609371</td>\n",
              "      <td>-336.881</td>\n",
              "      <td>-48.31825</td>\n",
              "      <td>18.3490</td>\n",
              "      <td>82.18525</td>\n",
              "      <td>339.396</td>\n",
              "      <td>9.333371e+03</td>\n",
              "    </tr>\n",
              "    <tr>\n",
              "      <th>feature_2142</th>\n",
              "      <td>3750.0</td>\n",
              "      <td>17.571081</td>\n",
              "      <td>97.780843</td>\n",
              "      <td>-443.324</td>\n",
              "      <td>-47.77625</td>\n",
              "      <td>19.4850</td>\n",
              "      <td>83.65900</td>\n",
              "      <td>340.743</td>\n",
              "      <td>9.561093e+03</td>\n",
              "    </tr>\n",
              "    <tr>\n",
              "      <th>feature_9295</th>\n",
              "      <td>3750.0</td>\n",
              "      <td>10.192217</td>\n",
              "      <td>98.812225</td>\n",
              "      <td>-304.940</td>\n",
              "      <td>-56.42625</td>\n",
              "      <td>11.5865</td>\n",
              "      <td>77.67875</td>\n",
              "      <td>356.862</td>\n",
              "      <td>9.763856e+03</td>\n",
              "    </tr>\n",
              "    <tr>\n",
              "      <th>feature_6449</th>\n",
              "      <td>3750.0</td>\n",
              "      <td>14.586077</td>\n",
              "      <td>98.829126</td>\n",
              "      <td>-354.053</td>\n",
              "      <td>-52.42075</td>\n",
              "      <td>13.0880</td>\n",
              "      <td>79.90025</td>\n",
              "      <td>340.144</td>\n",
              "      <td>9.767196e+03</td>\n",
              "    </tr>\n",
              "    <tr>\n",
              "      <th>feature_8069</th>\n",
              "      <td>3750.0</td>\n",
              "      <td>15.850471</td>\n",
              "      <td>99.219032</td>\n",
              "      <td>-317.977</td>\n",
              "      <td>-50.89075</td>\n",
              "      <td>15.6050</td>\n",
              "      <td>84.36650</td>\n",
              "      <td>344.393</td>\n",
              "      <td>9.844416e+03</td>\n",
              "    </tr>\n",
              "    <tr>\n",
              "      <th>...</th>\n",
              "      <td>...</td>\n",
              "      <td>...</td>\n",
              "      <td>...</td>\n",
              "      <td>...</td>\n",
              "      <td>...</td>\n",
              "      <td>...</td>\n",
              "      <td>...</td>\n",
              "      <td>...</td>\n",
              "      <td>...</td>\n",
              "    </tr>\n",
              "    <tr>\n",
              "      <th>feature_5</th>\n",
              "      <td>3750.0</td>\n",
              "      <td>-186.008805</td>\n",
              "      <td>21942.466227</td>\n",
              "      <td>-77566.109</td>\n",
              "      <td>-14426.79950</td>\n",
              "      <td>-154.8350</td>\n",
              "      <td>14515.83300</td>\n",
              "      <td>86287.955</td>\n",
              "      <td>4.814718e+08</td>\n",
              "    </tr>\n",
              "    <tr>\n",
              "      <th>feature_5433</th>\n",
              "      <td>3750.0</td>\n",
              "      <td>19758.940279</td>\n",
              "      <td>40031.725525</td>\n",
              "      <td>-78808.956</td>\n",
              "      <td>-17446.05700</td>\n",
              "      <td>17472.4895</td>\n",
              "      <td>57388.01875</td>\n",
              "      <td>115499.031</td>\n",
              "      <td>1.602539e+09</td>\n",
              "    </tr>\n",
              "    <tr>\n",
              "      <th>feature_3</th>\n",
              "      <td>3750.0</td>\n",
              "      <td>169.679419</td>\n",
              "      <td>43665.003613</td>\n",
              "      <td>-163336.428</td>\n",
              "      <td>-29284.11950</td>\n",
              "      <td>1181.6985</td>\n",
              "      <td>29630.91450</td>\n",
              "      <td>177744.241</td>\n",
              "      <td>1.906633e+09</td>\n",
              "    </tr>\n",
              "    <tr>\n",
              "      <th>feature_4</th>\n",
              "      <td>3750.0</td>\n",
              "      <td>811.083532</td>\n",
              "      <td>57123.457110</td>\n",
              "      <td>-243844.632</td>\n",
              "      <td>-38028.42900</td>\n",
              "      <td>980.5880</td>\n",
              "      <td>40561.96025</td>\n",
              "      <td>215372.854</td>\n",
              "      <td>3.263089e+09</td>\n",
              "    </tr>\n",
              "    <tr>\n",
              "      <th>feature_1018</th>\n",
              "      <td>3750.0</td>\n",
              "      <td>73909.525799</td>\n",
              "      <td>145483.629953</td>\n",
              "      <td>-236100.056</td>\n",
              "      <td>-62991.52250</td>\n",
              "      <td>70704.2060</td>\n",
              "      <td>212446.92225</td>\n",
              "      <td>414233.425</td>\n",
              "      <td>2.116549e+10</td>\n",
              "    </tr>\n",
              "  </tbody>\n",
              "</table>\n",
              "<p>10000 rows × 9 columns</p>\n",
              "</div>\n",
              "      <button class=\"colab-df-convert\" onclick=\"convertToInteractive('df-e7e257ac-dd57-42bf-87bf-514ad4c78cc9')\"\n",
              "              title=\"Convert this dataframe to an interactive table.\"\n",
              "              style=\"display:none;\">\n",
              "        \n",
              "  <svg xmlns=\"http://www.w3.org/2000/svg\" height=\"24px\"viewBox=\"0 0 24 24\"\n",
              "       width=\"24px\">\n",
              "    <path d=\"M0 0h24v24H0V0z\" fill=\"none\"/>\n",
              "    <path d=\"M18.56 5.44l.94 2.06.94-2.06 2.06-.94-2.06-.94-.94-2.06-.94 2.06-2.06.94zm-11 1L8.5 8.5l.94-2.06 2.06-.94-2.06-.94L8.5 2.5l-.94 2.06-2.06.94zm10 10l.94 2.06.94-2.06 2.06-.94-2.06-.94-.94-2.06-.94 2.06-2.06.94z\"/><path d=\"M17.41 7.96l-1.37-1.37c-.4-.4-.92-.59-1.43-.59-.52 0-1.04.2-1.43.59L10.3 9.45l-7.72 7.72c-.78.78-.78 2.05 0 2.83L4 21.41c.39.39.9.59 1.41.59.51 0 1.02-.2 1.41-.59l7.78-7.78 2.81-2.81c.8-.78.8-2.07 0-2.86zM5.41 20L4 18.59l7.72-7.72 1.47 1.35L5.41 20z\"/>\n",
              "  </svg>\n",
              "      </button>\n",
              "      \n",
              "  <style>\n",
              "    .colab-df-container {\n",
              "      display:flex;\n",
              "      flex-wrap:wrap;\n",
              "      gap: 12px;\n",
              "    }\n",
              "\n",
              "    .colab-df-convert {\n",
              "      background-color: #E8F0FE;\n",
              "      border: none;\n",
              "      border-radius: 50%;\n",
              "      cursor: pointer;\n",
              "      display: none;\n",
              "      fill: #1967D2;\n",
              "      height: 32px;\n",
              "      padding: 0 0 0 0;\n",
              "      width: 32px;\n",
              "    }\n",
              "\n",
              "    .colab-df-convert:hover {\n",
              "      background-color: #E2EBFA;\n",
              "      box-shadow: 0px 1px 2px rgba(60, 64, 67, 0.3), 0px 1px 3px 1px rgba(60, 64, 67, 0.15);\n",
              "      fill: #174EA6;\n",
              "    }\n",
              "\n",
              "    [theme=dark] .colab-df-convert {\n",
              "      background-color: #3B4455;\n",
              "      fill: #D2E3FC;\n",
              "    }\n",
              "\n",
              "    [theme=dark] .colab-df-convert:hover {\n",
              "      background-color: #434B5C;\n",
              "      box-shadow: 0px 1px 3px 1px rgba(0, 0, 0, 0.15);\n",
              "      filter: drop-shadow(0px 1px 2px rgba(0, 0, 0, 0.3));\n",
              "      fill: #FFFFFF;\n",
              "    }\n",
              "  </style>\n",
              "\n",
              "      <script>\n",
              "        const buttonEl =\n",
              "          document.querySelector('#df-e7e257ac-dd57-42bf-87bf-514ad4c78cc9 button.colab-df-convert');\n",
              "        buttonEl.style.display =\n",
              "          google.colab.kernel.accessAllowed ? 'block' : 'none';\n",
              "\n",
              "        async function convertToInteractive(key) {\n",
              "          const element = document.querySelector('#df-e7e257ac-dd57-42bf-87bf-514ad4c78cc9');\n",
              "          const dataTable =\n",
              "            await google.colab.kernel.invokeFunction('convertToInteractive',\n",
              "                                                     [key], {});\n",
              "          if (!dataTable) return;\n",
              "\n",
              "          const docLinkHtml = 'Like what you see? Visit the ' +\n",
              "            '<a target=\"_blank\" href=https://colab.research.google.com/notebooks/data_table.ipynb>data table notebook</a>'\n",
              "            + ' to learn more about interactive tables.';\n",
              "          element.innerHTML = '';\n",
              "          dataTable['output_type'] = 'display_data';\n",
              "          await google.colab.output.renderOutput(dataTable, element);\n",
              "          const docLink = document.createElement('div');\n",
              "          docLink.innerHTML = docLinkHtml;\n",
              "          element.appendChild(docLink);\n",
              "        }\n",
              "      </script>\n",
              "    </div>\n",
              "  </div>\n",
              "  "
            ]
          },
          "metadata": {},
          "execution_count": 36
        }
      ]
    },
    {
      "cell_type": "markdown",
      "source": [
        "###INTERCORRELATIONS\n",
        "Analiza interkorelacji\n",
        "\n",
        "https://www.projectpro.io/recipes/drop-out-highly-correlated-features-in-python\n",
        "https://chrisalbon.com/code/machine_learning/feature_selection/drop_highly_correlated_features/"
      ],
      "metadata": {
        "id": "zEHciZNKNxRV"
      }
    },
    {
      "cell_type": "code",
      "source": [
        "cor_matrix = X.corr().abs()\n",
        "print(cor_matrix)"
      ],
      "metadata": {
        "colab": {
          "base_uri": "https://localhost:8080/"
        },
        "id": "REfWu9AeCgvb",
        "outputId": "45159fe5-aa79-46c6-c73e-4214edea5b01"
      },
      "execution_count": null,
      "outputs": [
        {
          "output_type": "stream",
          "name": "stdout",
          "text": [
            "               feature_1  feature_2  feature_3  feature_4  feature_5  \\\n",
            "feature_1       1.000000   0.009717   0.007823   0.010449   0.023684   \n",
            "feature_2       0.009717   1.000000   0.014160   0.023034   0.003338   \n",
            "feature_3       0.007823   0.014160   1.000000   0.010302   0.015079   \n",
            "feature_4       0.010449   0.023034   0.010302   1.000000   0.024708   \n",
            "feature_5       0.023684   0.003338   0.015079   0.024708   1.000000   \n",
            "...                  ...        ...        ...        ...        ...   \n",
            "feature_9996    0.005980   0.017223   0.025339   0.006347   0.019803   \n",
            "feature_9997    0.004817   0.004058   0.032476   0.013508   0.004072   \n",
            "feature_9998    0.002374   0.002938   0.018478   0.010463   0.029769   \n",
            "feature_9999    0.004539   0.012621   0.017792   0.003039   0.000157   \n",
            "feature_10000   0.037154   0.016903   0.021163   0.015791   0.005128   \n",
            "\n",
            "               feature_6  feature_7  feature_8  feature_9  feature_10  ...  \\\n",
            "feature_1       0.007333   0.015694   0.013918   0.018783    0.003965  ...   \n",
            "feature_2       0.001651   0.001523   0.002178   0.001311    0.012276  ...   \n",
            "feature_3       0.018820   0.012610   0.011906   0.027900    0.017817  ...   \n",
            "feature_4       0.000070   0.007635   0.006952   0.002488    0.000677  ...   \n",
            "feature_5       0.017415   0.018771   0.003130   0.004630    0.026460  ...   \n",
            "...                  ...        ...        ...        ...         ...  ...   \n",
            "feature_9996    0.022484   0.001115   0.024465   0.010103    0.012017  ...   \n",
            "feature_9997    0.020380   0.004446   0.021117   0.002743    0.027519  ...   \n",
            "feature_9998    0.012821   0.003756   0.019836   0.010723    0.000662  ...   \n",
            "feature_9999    0.008822   0.003015   0.022031   0.013158    0.001864  ...   \n",
            "feature_10000   0.017924   0.010467   0.016271   0.018773    0.007452  ...   \n",
            "\n",
            "               feature_9991  feature_9992  feature_9993  feature_9994  \\\n",
            "feature_1          0.026716      0.022556      0.002033      0.002774   \n",
            "feature_2          0.019026      0.000439      0.007821      0.021165   \n",
            "feature_3          0.005629      0.004751      0.012520      0.006561   \n",
            "feature_4          0.041789      0.006706      0.036258      0.031660   \n",
            "feature_5          0.026909      0.029244      0.010195      0.009255   \n",
            "...                     ...           ...           ...           ...   \n",
            "feature_9996       0.000334      0.024582      0.011104      0.007001   \n",
            "feature_9997       0.003704      0.004205      0.009812      0.010792   \n",
            "feature_9998       0.002803      0.011812      0.026363      0.014296   \n",
            "feature_9999       0.014078      0.002885      0.015858      0.008329   \n",
            "feature_10000      0.011643      0.025583      0.010233      0.015585   \n",
            "\n",
            "               feature_9995  feature_9996  feature_9997  feature_9998  \\\n",
            "feature_1          0.006228      0.005980      0.004817      0.002374   \n",
            "feature_2          0.001081      0.017223      0.004058      0.002938   \n",
            "feature_3          0.035548      0.025339      0.032476      0.018478   \n",
            "feature_4          0.014701      0.006347      0.013508      0.010463   \n",
            "feature_5          0.001838      0.019803      0.004072      0.029769   \n",
            "...                     ...           ...           ...           ...   \n",
            "feature_9996       0.013349      1.000000      0.014523      0.020255   \n",
            "feature_9997       0.007482      0.014523      1.000000      0.003054   \n",
            "feature_9998       0.022679      0.020255      0.003054      1.000000   \n",
            "feature_9999       0.005671      0.011118      0.002754      0.022022   \n",
            "feature_10000      0.024727      0.000510      0.003309      0.005820   \n",
            "\n",
            "               feature_9999  feature_10000  \n",
            "feature_1          0.004539       0.037154  \n",
            "feature_2          0.012621       0.016903  \n",
            "feature_3          0.017792       0.021163  \n",
            "feature_4          0.003039       0.015791  \n",
            "feature_5          0.000157       0.005128  \n",
            "...                     ...            ...  \n",
            "feature_9996       0.011118       0.000510  \n",
            "feature_9997       0.002754       0.003309  \n",
            "feature_9998       0.022022       0.005820  \n",
            "feature_9999       1.000000       0.024653  \n",
            "feature_10000      0.024653       1.000000  \n",
            "\n",
            "[10000 rows x 10000 columns]\n"
          ]
        }
      ]
    },
    {
      "cell_type": "code",
      "source": [
        "import numpy as np\n",
        "\n",
        "upper_tri = cor_matrix.where(np.triu(np.ones(cor_matrix.shape),k=1).astype(np.bool))\n",
        "print(upper_tri)"
      ],
      "metadata": {
        "colab": {
          "base_uri": "https://localhost:8080/"
        },
        "id": "0ZcH9B56C-TM",
        "outputId": "2379ef88-c257-4450-c8d4-6bac40ed6476"
      },
      "execution_count": null,
      "outputs": [
        {
          "output_type": "stream",
          "name": "stderr",
          "text": [
            "/usr/local/lib/python3.7/dist-packages/ipykernel_launcher.py:3: DeprecationWarning: `np.bool` is a deprecated alias for the builtin `bool`. To silence this warning, use `bool` by itself. Doing this will not modify any behavior and is safe. If you specifically wanted the numpy scalar type, use `np.bool_` here.\n",
            "Deprecated in NumPy 1.20; for more details and guidance: https://numpy.org/devdocs/release/1.20.0-notes.html#deprecations\n",
            "  This is separate from the ipykernel package so we can avoid doing imports until\n"
          ]
        },
        {
          "output_type": "stream",
          "name": "stdout",
          "text": [
            "               feature_1  feature_2  feature_3  feature_4  feature_5  \\\n",
            "feature_1            NaN   0.009717   0.007823   0.010449   0.023684   \n",
            "feature_2            NaN        NaN   0.014160   0.023034   0.003338   \n",
            "feature_3            NaN        NaN        NaN   0.010302   0.015079   \n",
            "feature_4            NaN        NaN        NaN        NaN   0.024708   \n",
            "feature_5            NaN        NaN        NaN        NaN        NaN   \n",
            "...                  ...        ...        ...        ...        ...   \n",
            "feature_9996         NaN        NaN        NaN        NaN        NaN   \n",
            "feature_9997         NaN        NaN        NaN        NaN        NaN   \n",
            "feature_9998         NaN        NaN        NaN        NaN        NaN   \n",
            "feature_9999         NaN        NaN        NaN        NaN        NaN   \n",
            "feature_10000        NaN        NaN        NaN        NaN        NaN   \n",
            "\n",
            "               feature_6  feature_7  feature_8  feature_9  feature_10  ...  \\\n",
            "feature_1       0.007333   0.015694   0.013918   0.018783    0.003965  ...   \n",
            "feature_2       0.001651   0.001523   0.002178   0.001311    0.012276  ...   \n",
            "feature_3       0.018820   0.012610   0.011906   0.027900    0.017817  ...   \n",
            "feature_4       0.000070   0.007635   0.006952   0.002488    0.000677  ...   \n",
            "feature_5       0.017415   0.018771   0.003130   0.004630    0.026460  ...   \n",
            "...                  ...        ...        ...        ...         ...  ...   \n",
            "feature_9996         NaN        NaN        NaN        NaN         NaN  ...   \n",
            "feature_9997         NaN        NaN        NaN        NaN         NaN  ...   \n",
            "feature_9998         NaN        NaN        NaN        NaN         NaN  ...   \n",
            "feature_9999         NaN        NaN        NaN        NaN         NaN  ...   \n",
            "feature_10000        NaN        NaN        NaN        NaN         NaN  ...   \n",
            "\n",
            "               feature_9991  feature_9992  feature_9993  feature_9994  \\\n",
            "feature_1          0.026716      0.022556      0.002033      0.002774   \n",
            "feature_2          0.019026      0.000439      0.007821      0.021165   \n",
            "feature_3          0.005629      0.004751      0.012520      0.006561   \n",
            "feature_4          0.041789      0.006706      0.036258      0.031660   \n",
            "feature_5          0.026909      0.029244      0.010195      0.009255   \n",
            "...                     ...           ...           ...           ...   \n",
            "feature_9996            NaN           NaN           NaN           NaN   \n",
            "feature_9997            NaN           NaN           NaN           NaN   \n",
            "feature_9998            NaN           NaN           NaN           NaN   \n",
            "feature_9999            NaN           NaN           NaN           NaN   \n",
            "feature_10000           NaN           NaN           NaN           NaN   \n",
            "\n",
            "               feature_9995  feature_9996  feature_9997  feature_9998  \\\n",
            "feature_1          0.006228      0.005980      0.004817      0.002374   \n",
            "feature_2          0.001081      0.017223      0.004058      0.002938   \n",
            "feature_3          0.035548      0.025339      0.032476      0.018478   \n",
            "feature_4          0.014701      0.006347      0.013508      0.010463   \n",
            "feature_5          0.001838      0.019803      0.004072      0.029769   \n",
            "...                     ...           ...           ...           ...   \n",
            "feature_9996            NaN           NaN      0.014523      0.020255   \n",
            "feature_9997            NaN           NaN           NaN      0.003054   \n",
            "feature_9998            NaN           NaN           NaN           NaN   \n",
            "feature_9999            NaN           NaN           NaN           NaN   \n",
            "feature_10000           NaN           NaN           NaN           NaN   \n",
            "\n",
            "               feature_9999  feature_10000  \n",
            "feature_1          0.004539       0.037154  \n",
            "feature_2          0.012621       0.016903  \n",
            "feature_3          0.017792       0.021163  \n",
            "feature_4          0.003039       0.015791  \n",
            "feature_5          0.000157       0.005128  \n",
            "...                     ...            ...  \n",
            "feature_9996       0.011118       0.000510  \n",
            "feature_9997       0.002754       0.003309  \n",
            "feature_9998       0.022022       0.005820  \n",
            "feature_9999            NaN       0.024653  \n",
            "feature_10000           NaN            NaN  \n",
            "\n",
            "[10000 rows x 10000 columns]\n"
          ]
        }
      ]
    },
    {
      "cell_type": "markdown",
      "source": [
        ""
      ],
      "metadata": {
        "id": "QPl7mZIW-ahf"
      }
    },
    {
      "cell_type": "code",
      "source": [
        "to_drop = [column for column in upper_tri.columns if any(upper_tri[column] > 0.7)]\n",
        "print(); print(to_drop)"
      ],
      "metadata": {
        "colab": {
          "base_uri": "https://localhost:8080/"
        },
        "id": "TJqHSIsJDDkk",
        "outputId": "8051df83-df3f-4249-d784-5b00e782647f"
      },
      "execution_count": null,
      "outputs": [
        {
          "output_type": "stream",
          "name": "stdout",
          "text": [
            "\n",
            "['feature_5433']\n"
          ]
        }
      ]
    },
    {
      "cell_type": "markdown",
      "source": [
        "####NOTE FOR INTERCORELLATIONS\n",
        "1. What is the level for high correlation in this abstract task.\n",
        "1. How many high correlated (point 1) features is enough?\n",
        "1. Small amount of correlated features vs high amount of correlated features."
      ],
      "metadata": {
        "id": "uTUdWD_y-jjP"
      }
    },
    {
      "cell_type": "markdown",
      "source": [
        "##STANDARIZATION\n"
      ],
      "metadata": {
        "id": "ZCszAKPDA9yH"
      }
    },
    {
      "cell_type": "markdown",
      "source": [
        "###STANDARD SCALER"
      ],
      "metadata": {
        "id": "U4GzchD6BGYB"
      }
    },
    {
      "cell_type": "markdown",
      "source": [
        "##REDUCE DIMENSIONALITY"
      ],
      "metadata": {
        "id": "vrPLKfiVN8bA"
      }
    },
    {
      "cell_type": "markdown",
      "source": [
        "###PCA \n",
        "https://towardsdatascience.com/pca-using-python-scikit-learn-e653f8989e60\n",
        "\n",
        "https://www.datacamp.com/tutorial/principal-component-analysis-in-python"
      ],
      "metadata": {
        "id": "UUl5C7bhNagc"
      }
    },
    {
      "cell_type": "markdown",
      "source": [
        "##OUTLIERS"
      ],
      "metadata": {
        "id": "0uxnK-CeZolN"
      }
    },
    {
      "cell_type": "markdown",
      "source": [
        "##ENCODING"
      ],
      "metadata": {
        "id": "JlUmoQ3FoTq5"
      }
    },
    {
      "cell_type": "markdown",
      "source": [
        "###LABEL ENCODER"
      ],
      "metadata": {
        "id": "TMCyT_c3oVdg"
      }
    },
    {
      "cell_type": "code",
      "source": [
        "from sklearn.preprocessing import LabelEncoder\n",
        "\n",
        "y = pd.read_csv('/content/drive/MyDrive/train_labels.csv', names = ['target'])\n",
        "\n",
        "y"
      ],
      "metadata": {
        "colab": {
          "base_uri": "https://localhost:8080/",
          "height": 424
        },
        "id": "HpM9RghPpF5Z",
        "outputId": "a39b3dac-c21b-43f8-989a-cf241ea8644f"
      },
      "execution_count": null,
      "outputs": [
        {
          "output_type": "execute_result",
          "data": {
            "text/plain": [
              "      target\n",
              "0          1\n",
              "1          1\n",
              "2          1\n",
              "3          1\n",
              "4          1\n",
              "...      ...\n",
              "3745      -1\n",
              "3746       1\n",
              "3747       1\n",
              "3748       1\n",
              "3749       1\n",
              "\n",
              "[3750 rows x 1 columns]"
            ],
            "text/html": [
              "\n",
              "  <div id=\"df-d5d4f96b-5ab2-4e16-82ee-270d06932b7c\">\n",
              "    <div class=\"colab-df-container\">\n",
              "      <div>\n",
              "<style scoped>\n",
              "    .dataframe tbody tr th:only-of-type {\n",
              "        vertical-align: middle;\n",
              "    }\n",
              "\n",
              "    .dataframe tbody tr th {\n",
              "        vertical-align: top;\n",
              "    }\n",
              "\n",
              "    .dataframe thead th {\n",
              "        text-align: right;\n",
              "    }\n",
              "</style>\n",
              "<table border=\"1\" class=\"dataframe\">\n",
              "  <thead>\n",
              "    <tr style=\"text-align: right;\">\n",
              "      <th></th>\n",
              "      <th>target</th>\n",
              "    </tr>\n",
              "  </thead>\n",
              "  <tbody>\n",
              "    <tr>\n",
              "      <th>0</th>\n",
              "      <td>1</td>\n",
              "    </tr>\n",
              "    <tr>\n",
              "      <th>1</th>\n",
              "      <td>1</td>\n",
              "    </tr>\n",
              "    <tr>\n",
              "      <th>2</th>\n",
              "      <td>1</td>\n",
              "    </tr>\n",
              "    <tr>\n",
              "      <th>3</th>\n",
              "      <td>1</td>\n",
              "    </tr>\n",
              "    <tr>\n",
              "      <th>4</th>\n",
              "      <td>1</td>\n",
              "    </tr>\n",
              "    <tr>\n",
              "      <th>...</th>\n",
              "      <td>...</td>\n",
              "    </tr>\n",
              "    <tr>\n",
              "      <th>3745</th>\n",
              "      <td>-1</td>\n",
              "    </tr>\n",
              "    <tr>\n",
              "      <th>3746</th>\n",
              "      <td>1</td>\n",
              "    </tr>\n",
              "    <tr>\n",
              "      <th>3747</th>\n",
              "      <td>1</td>\n",
              "    </tr>\n",
              "    <tr>\n",
              "      <th>3748</th>\n",
              "      <td>1</td>\n",
              "    </tr>\n",
              "    <tr>\n",
              "      <th>3749</th>\n",
              "      <td>1</td>\n",
              "    </tr>\n",
              "  </tbody>\n",
              "</table>\n",
              "<p>3750 rows × 1 columns</p>\n",
              "</div>\n",
              "      <button class=\"colab-df-convert\" onclick=\"convertToInteractive('df-d5d4f96b-5ab2-4e16-82ee-270d06932b7c')\"\n",
              "              title=\"Convert this dataframe to an interactive table.\"\n",
              "              style=\"display:none;\">\n",
              "        \n",
              "  <svg xmlns=\"http://www.w3.org/2000/svg\" height=\"24px\"viewBox=\"0 0 24 24\"\n",
              "       width=\"24px\">\n",
              "    <path d=\"M0 0h24v24H0V0z\" fill=\"none\"/>\n",
              "    <path d=\"M18.56 5.44l.94 2.06.94-2.06 2.06-.94-2.06-.94-.94-2.06-.94 2.06-2.06.94zm-11 1L8.5 8.5l.94-2.06 2.06-.94-2.06-.94L8.5 2.5l-.94 2.06-2.06.94zm10 10l.94 2.06.94-2.06 2.06-.94-2.06-.94-.94-2.06-.94 2.06-2.06.94z\"/><path d=\"M17.41 7.96l-1.37-1.37c-.4-.4-.92-.59-1.43-.59-.52 0-1.04.2-1.43.59L10.3 9.45l-7.72 7.72c-.78.78-.78 2.05 0 2.83L4 21.41c.39.39.9.59 1.41.59.51 0 1.02-.2 1.41-.59l7.78-7.78 2.81-2.81c.8-.78.8-2.07 0-2.86zM5.41 20L4 18.59l7.72-7.72 1.47 1.35L5.41 20z\"/>\n",
              "  </svg>\n",
              "      </button>\n",
              "      \n",
              "  <style>\n",
              "    .colab-df-container {\n",
              "      display:flex;\n",
              "      flex-wrap:wrap;\n",
              "      gap: 12px;\n",
              "    }\n",
              "\n",
              "    .colab-df-convert {\n",
              "      background-color: #E8F0FE;\n",
              "      border: none;\n",
              "      border-radius: 50%;\n",
              "      cursor: pointer;\n",
              "      display: none;\n",
              "      fill: #1967D2;\n",
              "      height: 32px;\n",
              "      padding: 0 0 0 0;\n",
              "      width: 32px;\n",
              "    }\n",
              "\n",
              "    .colab-df-convert:hover {\n",
              "      background-color: #E2EBFA;\n",
              "      box-shadow: 0px 1px 2px rgba(60, 64, 67, 0.3), 0px 1px 3px 1px rgba(60, 64, 67, 0.15);\n",
              "      fill: #174EA6;\n",
              "    }\n",
              "\n",
              "    [theme=dark] .colab-df-convert {\n",
              "      background-color: #3B4455;\n",
              "      fill: #D2E3FC;\n",
              "    }\n",
              "\n",
              "    [theme=dark] .colab-df-convert:hover {\n",
              "      background-color: #434B5C;\n",
              "      box-shadow: 0px 1px 3px 1px rgba(0, 0, 0, 0.15);\n",
              "      filter: drop-shadow(0px 1px 2px rgba(0, 0, 0, 0.3));\n",
              "      fill: #FFFFFF;\n",
              "    }\n",
              "  </style>\n",
              "\n",
              "      <script>\n",
              "        const buttonEl =\n",
              "          document.querySelector('#df-d5d4f96b-5ab2-4e16-82ee-270d06932b7c button.colab-df-convert');\n",
              "        buttonEl.style.display =\n",
              "          google.colab.kernel.accessAllowed ? 'block' : 'none';\n",
              "\n",
              "        async function convertToInteractive(key) {\n",
              "          const element = document.querySelector('#df-d5d4f96b-5ab2-4e16-82ee-270d06932b7c');\n",
              "          const dataTable =\n",
              "            await google.colab.kernel.invokeFunction('convertToInteractive',\n",
              "                                                     [key], {});\n",
              "          if (!dataTable) return;\n",
              "\n",
              "          const docLinkHtml = 'Like what you see? Visit the ' +\n",
              "            '<a target=\"_blank\" href=https://colab.research.google.com/notebooks/data_table.ipynb>data table notebook</a>'\n",
              "            + ' to learn more about interactive tables.';\n",
              "          element.innerHTML = '';\n",
              "          dataTable['output_type'] = 'display_data';\n",
              "          await google.colab.output.renderOutput(dataTable, element);\n",
              "          const docLink = document.createElement('div');\n",
              "          docLink.innerHTML = docLinkHtml;\n",
              "          element.appendChild(docLink);\n",
              "        }\n",
              "      </script>\n",
              "    </div>\n",
              "  </div>\n",
              "  "
            ]
          },
          "metadata": {},
          "execution_count": 49
        }
      ]
    },
    {
      "cell_type": "code",
      "source": [
        "le = LabelEncoder()\n",
        "le.fit(y['target'])\n",
        "le.transform(y['target'])"
      ],
      "metadata": {
        "colab": {
          "base_uri": "https://localhost:8080/"
        },
        "id": "xba0_ILgppc4",
        "outputId": "43befa15-e234-45f6-bec6-7f7a5c0e2448"
      },
      "execution_count": null,
      "outputs": [
        {
          "output_type": "execute_result",
          "data": {
            "text/plain": [
              "array([1, 1, 1, ..., 1, 1, 1])"
            ]
          },
          "metadata": {},
          "execution_count": 50
        }
      ]
    },
    {
      "cell_type": "code",
      "source": [
        "le.classes_"
      ],
      "metadata": {
        "colab": {
          "base_uri": "https://localhost:8080/"
        },
        "id": "BZis7sKmpwFF",
        "outputId": "4c2cb889-d556-41f9-f92e-24df263f1f71"
      },
      "execution_count": null,
      "outputs": [
        {
          "output_type": "execute_result",
          "data": {
            "text/plain": [
              "array([-1,  1])"
            ]
          },
          "metadata": {},
          "execution_count": 51
        }
      ]
    },
    {
      "cell_type": "markdown",
      "source": [
        ""
      ],
      "metadata": {
        "id": "Wdj8pp3ZoY7S"
      }
    },
    {
      "cell_type": "markdown",
      "source": [
        ""
      ],
      "metadata": {
        "id": "XykBeMWuoc7Z"
      }
    }
  ]
}