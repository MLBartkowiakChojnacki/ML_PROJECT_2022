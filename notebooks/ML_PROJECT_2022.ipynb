{
  "nbformat": 4,
  "nbformat_minor": 0,
  "metadata": {
    "colab": {
      "name": "ML_PROJECT_2022.ipynb",
      "provenance": [],
      "mount_file_id": "https://github.com/MLBartkowiakChojnacki/ML_PROJECT_2022/blob/DIMENSIONALITY_REDUCTION/notebooks/ML_PROJECT_2022.ipynb",
      "authorship_tag": "ABX9TyNCjQJdJS9StseaDMQrxHdd",
      "include_colab_link": true
    },
    "kernelspec": {
      "name": "python3",
      "display_name": "Python 3"
    },
    "language_info": {
      "name": "python"
    }
  },
  "cells": [
    {
      "cell_type": "markdown",
      "metadata": {
        "id": "view-in-github",
        "colab_type": "text"
      },
      "source": [
        "<a href=\"https://colab.research.google.com/github/MLBartkowiakChojnacki/ML_PROJECT_2022/blob/DIMENSIONALITY_REDUCTION/notebooks/ML_PROJECT_2022.ipynb\" target=\"_parent\"><img src=\"https://colab.research.google.com/assets/colab-badge.svg\" alt=\"Open In Colab\"/></a>"
      ]
    },
    {
      "cell_type": "markdown",
      "source": [
        "#ML PROJECT"
      ],
      "metadata": {
        "id": "3OFMYmEqNegh"
      }
    },
    {
      "cell_type": "markdown",
      "source": [
        "##1.EDA AND DATA PREPARATION"
      ],
      "metadata": {
        "id": "9HRpUySJNhKV"
      }
    },
    {
      "cell_type": "markdown",
      "source": [
        "###LOADING DATA"
      ],
      "metadata": {
        "id": "c8XS1jQ7Njbv"
      }
    },
    {
      "cell_type": "code",
      "execution_count": 1,
      "metadata": {
        "colab": {
          "base_uri": "https://localhost:8080/",
          "height": 300
        },
        "id": "v8jXmd4K333i",
        "outputId": "f203c7fc-11ee-45d4-9777-578ef73d9325"
      },
      "outputs": [
        {
          "output_type": "execute_result",
          "data": {
            "text/plain": [
              "   feature_0  feature_1  feature_2  feature_3  feature_4  feature_5  \\\n",
              "0    304.361   -436.590 -33854.769 -96571.569 -15086.947   -794.409   \n",
              "1     54.047     90.087   -154.747  -4116.486  38365.133   -589.309   \n",
              "2    272.168   -201.736   4212.592  -9123.655 -35422.458  -1029.249   \n",
              "3    170.007     68.736  48662.079  29735.235 -13903.955    895.081   \n",
              "4     86.797    180.052 -49643.545   2515.406  26206.315   -407.453   \n",
              "\n",
              "   feature_6  feature_7  feature_8  feature_9  ...  feature_9990  \\\n",
              "0   -442.859    304.248   -202.411   -506.852  ...        95.294   \n",
              "1   1115.367    274.199    814.953    167.272  ...      -176.341   \n",
              "2   -506.290   -476.856   -570.731   -161.288  ...       321.426   \n",
              "3   -257.748   -811.058   -691.561    -31.439  ...      -409.919   \n",
              "4   -189.416    -53.664   -159.507    -42.291  ...      -101.761   \n",
              "\n",
              "   feature_9991  feature_9992  feature_9993  feature_9994  feature_9995  \\\n",
              "0        -3.936      -251.812       256.429      -473.661     -1398.604   \n",
              "1      -426.238      -542.428        99.147      -102.309      -277.948   \n",
              "2      -376.033       142.834       920.958      -122.525      -174.304   \n",
              "3       400.946       313.270       123.172      1786.962       147.637   \n",
              "4      -424.898        37.254      -337.431       423.691        14.240   \n",
              "\n",
              "   feature_9996  feature_9997  feature_9998  feature_9999  \n",
              "0        42.638       771.185      -191.123      1356.137  \n",
              "1       -98.859     -1163.779       265.231      -992.056  \n",
              "2      -137.612     -1571.473       678.323      1020.263  \n",
              "3        31.433      -784.719       573.433      1454.415  \n",
              "4       267.352      -234.560      -213.804       873.391  \n",
              "\n",
              "[5 rows x 10000 columns]"
            ],
            "text/html": [
              "\n",
              "  <div id=\"df-35d02a94-973a-4230-a112-c7684ec4a1a3\">\n",
              "    <div class=\"colab-df-container\">\n",
              "      <div>\n",
              "<style scoped>\n",
              "    .dataframe tbody tr th:only-of-type {\n",
              "        vertical-align: middle;\n",
              "    }\n",
              "\n",
              "    .dataframe tbody tr th {\n",
              "        vertical-align: top;\n",
              "    }\n",
              "\n",
              "    .dataframe thead th {\n",
              "        text-align: right;\n",
              "    }\n",
              "</style>\n",
              "<table border=\"1\" class=\"dataframe\">\n",
              "  <thead>\n",
              "    <tr style=\"text-align: right;\">\n",
              "      <th></th>\n",
              "      <th>feature_0</th>\n",
              "      <th>feature_1</th>\n",
              "      <th>feature_2</th>\n",
              "      <th>feature_3</th>\n",
              "      <th>feature_4</th>\n",
              "      <th>feature_5</th>\n",
              "      <th>feature_6</th>\n",
              "      <th>feature_7</th>\n",
              "      <th>feature_8</th>\n",
              "      <th>feature_9</th>\n",
              "      <th>...</th>\n",
              "      <th>feature_9990</th>\n",
              "      <th>feature_9991</th>\n",
              "      <th>feature_9992</th>\n",
              "      <th>feature_9993</th>\n",
              "      <th>feature_9994</th>\n",
              "      <th>feature_9995</th>\n",
              "      <th>feature_9996</th>\n",
              "      <th>feature_9997</th>\n",
              "      <th>feature_9998</th>\n",
              "      <th>feature_9999</th>\n",
              "    </tr>\n",
              "  </thead>\n",
              "  <tbody>\n",
              "    <tr>\n",
              "      <th>0</th>\n",
              "      <td>304.361</td>\n",
              "      <td>-436.590</td>\n",
              "      <td>-33854.769</td>\n",
              "      <td>-96571.569</td>\n",
              "      <td>-15086.947</td>\n",
              "      <td>-794.409</td>\n",
              "      <td>-442.859</td>\n",
              "      <td>304.248</td>\n",
              "      <td>-202.411</td>\n",
              "      <td>-506.852</td>\n",
              "      <td>...</td>\n",
              "      <td>95.294</td>\n",
              "      <td>-3.936</td>\n",
              "      <td>-251.812</td>\n",
              "      <td>256.429</td>\n",
              "      <td>-473.661</td>\n",
              "      <td>-1398.604</td>\n",
              "      <td>42.638</td>\n",
              "      <td>771.185</td>\n",
              "      <td>-191.123</td>\n",
              "      <td>1356.137</td>\n",
              "    </tr>\n",
              "    <tr>\n",
              "      <th>1</th>\n",
              "      <td>54.047</td>\n",
              "      <td>90.087</td>\n",
              "      <td>-154.747</td>\n",
              "      <td>-4116.486</td>\n",
              "      <td>38365.133</td>\n",
              "      <td>-589.309</td>\n",
              "      <td>1115.367</td>\n",
              "      <td>274.199</td>\n",
              "      <td>814.953</td>\n",
              "      <td>167.272</td>\n",
              "      <td>...</td>\n",
              "      <td>-176.341</td>\n",
              "      <td>-426.238</td>\n",
              "      <td>-542.428</td>\n",
              "      <td>99.147</td>\n",
              "      <td>-102.309</td>\n",
              "      <td>-277.948</td>\n",
              "      <td>-98.859</td>\n",
              "      <td>-1163.779</td>\n",
              "      <td>265.231</td>\n",
              "      <td>-992.056</td>\n",
              "    </tr>\n",
              "    <tr>\n",
              "      <th>2</th>\n",
              "      <td>272.168</td>\n",
              "      <td>-201.736</td>\n",
              "      <td>4212.592</td>\n",
              "      <td>-9123.655</td>\n",
              "      <td>-35422.458</td>\n",
              "      <td>-1029.249</td>\n",
              "      <td>-506.290</td>\n",
              "      <td>-476.856</td>\n",
              "      <td>-570.731</td>\n",
              "      <td>-161.288</td>\n",
              "      <td>...</td>\n",
              "      <td>321.426</td>\n",
              "      <td>-376.033</td>\n",
              "      <td>142.834</td>\n",
              "      <td>920.958</td>\n",
              "      <td>-122.525</td>\n",
              "      <td>-174.304</td>\n",
              "      <td>-137.612</td>\n",
              "      <td>-1571.473</td>\n",
              "      <td>678.323</td>\n",
              "      <td>1020.263</td>\n",
              "    </tr>\n",
              "    <tr>\n",
              "      <th>3</th>\n",
              "      <td>170.007</td>\n",
              "      <td>68.736</td>\n",
              "      <td>48662.079</td>\n",
              "      <td>29735.235</td>\n",
              "      <td>-13903.955</td>\n",
              "      <td>895.081</td>\n",
              "      <td>-257.748</td>\n",
              "      <td>-811.058</td>\n",
              "      <td>-691.561</td>\n",
              "      <td>-31.439</td>\n",
              "      <td>...</td>\n",
              "      <td>-409.919</td>\n",
              "      <td>400.946</td>\n",
              "      <td>313.270</td>\n",
              "      <td>123.172</td>\n",
              "      <td>1786.962</td>\n",
              "      <td>147.637</td>\n",
              "      <td>31.433</td>\n",
              "      <td>-784.719</td>\n",
              "      <td>573.433</td>\n",
              "      <td>1454.415</td>\n",
              "    </tr>\n",
              "    <tr>\n",
              "      <th>4</th>\n",
              "      <td>86.797</td>\n",
              "      <td>180.052</td>\n",
              "      <td>-49643.545</td>\n",
              "      <td>2515.406</td>\n",
              "      <td>26206.315</td>\n",
              "      <td>-407.453</td>\n",
              "      <td>-189.416</td>\n",
              "      <td>-53.664</td>\n",
              "      <td>-159.507</td>\n",
              "      <td>-42.291</td>\n",
              "      <td>...</td>\n",
              "      <td>-101.761</td>\n",
              "      <td>-424.898</td>\n",
              "      <td>37.254</td>\n",
              "      <td>-337.431</td>\n",
              "      <td>423.691</td>\n",
              "      <td>14.240</td>\n",
              "      <td>267.352</td>\n",
              "      <td>-234.560</td>\n",
              "      <td>-213.804</td>\n",
              "      <td>873.391</td>\n",
              "    </tr>\n",
              "  </tbody>\n",
              "</table>\n",
              "<p>5 rows × 10000 columns</p>\n",
              "</div>\n",
              "      <button class=\"colab-df-convert\" onclick=\"convertToInteractive('df-35d02a94-973a-4230-a112-c7684ec4a1a3')\"\n",
              "              title=\"Convert this dataframe to an interactive table.\"\n",
              "              style=\"display:none;\">\n",
              "        \n",
              "  <svg xmlns=\"http://www.w3.org/2000/svg\" height=\"24px\"viewBox=\"0 0 24 24\"\n",
              "       width=\"24px\">\n",
              "    <path d=\"M0 0h24v24H0V0z\" fill=\"none\"/>\n",
              "    <path d=\"M18.56 5.44l.94 2.06.94-2.06 2.06-.94-2.06-.94-.94-2.06-.94 2.06-2.06.94zm-11 1L8.5 8.5l.94-2.06 2.06-.94-2.06-.94L8.5 2.5l-.94 2.06-2.06.94zm10 10l.94 2.06.94-2.06 2.06-.94-2.06-.94-.94-2.06-.94 2.06-2.06.94z\"/><path d=\"M17.41 7.96l-1.37-1.37c-.4-.4-.92-.59-1.43-.59-.52 0-1.04.2-1.43.59L10.3 9.45l-7.72 7.72c-.78.78-.78 2.05 0 2.83L4 21.41c.39.39.9.59 1.41.59.51 0 1.02-.2 1.41-.59l7.78-7.78 2.81-2.81c.8-.78.8-2.07 0-2.86zM5.41 20L4 18.59l7.72-7.72 1.47 1.35L5.41 20z\"/>\n",
              "  </svg>\n",
              "      </button>\n",
              "      \n",
              "  <style>\n",
              "    .colab-df-container {\n",
              "      display:flex;\n",
              "      flex-wrap:wrap;\n",
              "      gap: 12px;\n",
              "    }\n",
              "\n",
              "    .colab-df-convert {\n",
              "      background-color: #E8F0FE;\n",
              "      border: none;\n",
              "      border-radius: 50%;\n",
              "      cursor: pointer;\n",
              "      display: none;\n",
              "      fill: #1967D2;\n",
              "      height: 32px;\n",
              "      padding: 0 0 0 0;\n",
              "      width: 32px;\n",
              "    }\n",
              "\n",
              "    .colab-df-convert:hover {\n",
              "      background-color: #E2EBFA;\n",
              "      box-shadow: 0px 1px 2px rgba(60, 64, 67, 0.3), 0px 1px 3px 1px rgba(60, 64, 67, 0.15);\n",
              "      fill: #174EA6;\n",
              "    }\n",
              "\n",
              "    [theme=dark] .colab-df-convert {\n",
              "      background-color: #3B4455;\n",
              "      fill: #D2E3FC;\n",
              "    }\n",
              "\n",
              "    [theme=dark] .colab-df-convert:hover {\n",
              "      background-color: #434B5C;\n",
              "      box-shadow: 0px 1px 3px 1px rgba(0, 0, 0, 0.15);\n",
              "      filter: drop-shadow(0px 1px 2px rgba(0, 0, 0, 0.3));\n",
              "      fill: #FFFFFF;\n",
              "    }\n",
              "  </style>\n",
              "\n",
              "      <script>\n",
              "        const buttonEl =\n",
              "          document.querySelector('#df-35d02a94-973a-4230-a112-c7684ec4a1a3 button.colab-df-convert');\n",
              "        buttonEl.style.display =\n",
              "          google.colab.kernel.accessAllowed ? 'block' : 'none';\n",
              "\n",
              "        async function convertToInteractive(key) {\n",
              "          const element = document.querySelector('#df-35d02a94-973a-4230-a112-c7684ec4a1a3');\n",
              "          const dataTable =\n",
              "            await google.colab.kernel.invokeFunction('convertToInteractive',\n",
              "                                                     [key], {});\n",
              "          if (!dataTable) return;\n",
              "\n",
              "          const docLinkHtml = 'Like what you see? Visit the ' +\n",
              "            '<a target=\"_blank\" href=https://colab.research.google.com/notebooks/data_table.ipynb>data table notebook</a>'\n",
              "            + ' to learn more about interactive tables.';\n",
              "          element.innerHTML = '';\n",
              "          dataTable['output_type'] = 'display_data';\n",
              "          await google.colab.output.renderOutput(dataTable, element);\n",
              "          const docLink = document.createElement('div');\n",
              "          docLink.innerHTML = docLinkHtml;\n",
              "          element.appendChild(docLink);\n",
              "        }\n",
              "      </script>\n",
              "    </div>\n",
              "  </div>\n",
              "  "
            ]
          },
          "metadata": {},
          "execution_count": 1
        }
      ],
      "source": [
        "import pandas as pd\n",
        "\n",
        "rows_num = pd.read_csv('/content/drive/MyDrive/train_data.csv', nrows = 1)\n",
        "features = []\n",
        "col_num = len(rows_num.columns)\n",
        "\n",
        "for n in range (0, col_num):\n",
        "    features.append('feature_' + str(n))\n",
        "\n",
        "X = pd.read_csv('/content/drive/MyDrive/train_data.csv', names = features)\n",
        "y = pd.read_csv('/content/drive/MyDrive/train_labels.csv', names = ['target'])\n",
        "\n",
        "X.head()"
      ]
    },
    {
      "cell_type": "code",
      "source": [
        "y.head()"
      ],
      "metadata": {
        "id": "VZRbYvPX5uIh",
        "colab": {
          "base_uri": "https://localhost:8080/",
          "height": 206
        },
        "outputId": "e4885746-28d4-453e-fc34-9db3e55c3214"
      },
      "execution_count": 2,
      "outputs": [
        {
          "output_type": "execute_result",
          "data": {
            "text/plain": [
              "   target\n",
              "0       1\n",
              "1       1\n",
              "2       1\n",
              "3       1\n",
              "4       1"
            ],
            "text/html": [
              "\n",
              "  <div id=\"df-b714ec58-dc6c-47b8-8ad1-9d6cdc560989\">\n",
              "    <div class=\"colab-df-container\">\n",
              "      <div>\n",
              "<style scoped>\n",
              "    .dataframe tbody tr th:only-of-type {\n",
              "        vertical-align: middle;\n",
              "    }\n",
              "\n",
              "    .dataframe tbody tr th {\n",
              "        vertical-align: top;\n",
              "    }\n",
              "\n",
              "    .dataframe thead th {\n",
              "        text-align: right;\n",
              "    }\n",
              "</style>\n",
              "<table border=\"1\" class=\"dataframe\">\n",
              "  <thead>\n",
              "    <tr style=\"text-align: right;\">\n",
              "      <th></th>\n",
              "      <th>target</th>\n",
              "    </tr>\n",
              "  </thead>\n",
              "  <tbody>\n",
              "    <tr>\n",
              "      <th>0</th>\n",
              "      <td>1</td>\n",
              "    </tr>\n",
              "    <tr>\n",
              "      <th>1</th>\n",
              "      <td>1</td>\n",
              "    </tr>\n",
              "    <tr>\n",
              "      <th>2</th>\n",
              "      <td>1</td>\n",
              "    </tr>\n",
              "    <tr>\n",
              "      <th>3</th>\n",
              "      <td>1</td>\n",
              "    </tr>\n",
              "    <tr>\n",
              "      <th>4</th>\n",
              "      <td>1</td>\n",
              "    </tr>\n",
              "  </tbody>\n",
              "</table>\n",
              "</div>\n",
              "      <button class=\"colab-df-convert\" onclick=\"convertToInteractive('df-b714ec58-dc6c-47b8-8ad1-9d6cdc560989')\"\n",
              "              title=\"Convert this dataframe to an interactive table.\"\n",
              "              style=\"display:none;\">\n",
              "        \n",
              "  <svg xmlns=\"http://www.w3.org/2000/svg\" height=\"24px\"viewBox=\"0 0 24 24\"\n",
              "       width=\"24px\">\n",
              "    <path d=\"M0 0h24v24H0V0z\" fill=\"none\"/>\n",
              "    <path d=\"M18.56 5.44l.94 2.06.94-2.06 2.06-.94-2.06-.94-.94-2.06-.94 2.06-2.06.94zm-11 1L8.5 8.5l.94-2.06 2.06-.94-2.06-.94L8.5 2.5l-.94 2.06-2.06.94zm10 10l.94 2.06.94-2.06 2.06-.94-2.06-.94-.94-2.06-.94 2.06-2.06.94z\"/><path d=\"M17.41 7.96l-1.37-1.37c-.4-.4-.92-.59-1.43-.59-.52 0-1.04.2-1.43.59L10.3 9.45l-7.72 7.72c-.78.78-.78 2.05 0 2.83L4 21.41c.39.39.9.59 1.41.59.51 0 1.02-.2 1.41-.59l7.78-7.78 2.81-2.81c.8-.78.8-2.07 0-2.86zM5.41 20L4 18.59l7.72-7.72 1.47 1.35L5.41 20z\"/>\n",
              "  </svg>\n",
              "      </button>\n",
              "      \n",
              "  <style>\n",
              "    .colab-df-container {\n",
              "      display:flex;\n",
              "      flex-wrap:wrap;\n",
              "      gap: 12px;\n",
              "    }\n",
              "\n",
              "    .colab-df-convert {\n",
              "      background-color: #E8F0FE;\n",
              "      border: none;\n",
              "      border-radius: 50%;\n",
              "      cursor: pointer;\n",
              "      display: none;\n",
              "      fill: #1967D2;\n",
              "      height: 32px;\n",
              "      padding: 0 0 0 0;\n",
              "      width: 32px;\n",
              "    }\n",
              "\n",
              "    .colab-df-convert:hover {\n",
              "      background-color: #E2EBFA;\n",
              "      box-shadow: 0px 1px 2px rgba(60, 64, 67, 0.3), 0px 1px 3px 1px rgba(60, 64, 67, 0.15);\n",
              "      fill: #174EA6;\n",
              "    }\n",
              "\n",
              "    [theme=dark] .colab-df-convert {\n",
              "      background-color: #3B4455;\n",
              "      fill: #D2E3FC;\n",
              "    }\n",
              "\n",
              "    [theme=dark] .colab-df-convert:hover {\n",
              "      background-color: #434B5C;\n",
              "      box-shadow: 0px 1px 3px 1px rgba(0, 0, 0, 0.15);\n",
              "      filter: drop-shadow(0px 1px 2px rgba(0, 0, 0, 0.3));\n",
              "      fill: #FFFFFF;\n",
              "    }\n",
              "  </style>\n",
              "\n",
              "      <script>\n",
              "        const buttonEl =\n",
              "          document.querySelector('#df-b714ec58-dc6c-47b8-8ad1-9d6cdc560989 button.colab-df-convert');\n",
              "        buttonEl.style.display =\n",
              "          google.colab.kernel.accessAllowed ? 'block' : 'none';\n",
              "\n",
              "        async function convertToInteractive(key) {\n",
              "          const element = document.querySelector('#df-b714ec58-dc6c-47b8-8ad1-9d6cdc560989');\n",
              "          const dataTable =\n",
              "            await google.colab.kernel.invokeFunction('convertToInteractive',\n",
              "                                                     [key], {});\n",
              "          if (!dataTable) return;\n",
              "\n",
              "          const docLinkHtml = 'Like what you see? Visit the ' +\n",
              "            '<a target=\"_blank\" href=https://colab.research.google.com/notebooks/data_table.ipynb>data table notebook</a>'\n",
              "            + ' to learn more about interactive tables.';\n",
              "          element.innerHTML = '';\n",
              "          dataTable['output_type'] = 'display_data';\n",
              "          await google.colab.output.renderOutput(dataTable, element);\n",
              "          const docLink = document.createElement('div');\n",
              "          docLink.innerHTML = docLinkHtml;\n",
              "          element.appendChild(docLink);\n",
              "        }\n",
              "      </script>\n",
              "    </div>\n",
              "  </div>\n",
              "  "
            ]
          },
          "metadata": {},
          "execution_count": 2
        }
      ]
    },
    {
      "cell_type": "markdown",
      "source": [
        "###SHAPE - ROWS AND COLUMNS"
      ],
      "metadata": {
        "id": "_bUWFuvFNnXM"
      }
    },
    {
      "cell_type": "code",
      "source": [
        "rows, columns = X.shape\n",
        "print(\"X rows: {}\".format(rows), '\\n' 'X columns: {}'.format(columns))"
      ],
      "metadata": {
        "colab": {
          "base_uri": "https://localhost:8080/"
        },
        "id": "PNIHj0gz_awZ",
        "outputId": "669fa58d-976c-4bdf-e948-80414dbd023f"
      },
      "execution_count": 3,
      "outputs": [
        {
          "output_type": "stream",
          "name": "stdout",
          "text": [
            "X rows: 3750 \n",
            "X columns: 10000\n"
          ]
        }
      ]
    },
    {
      "cell_type": "code",
      "source": [
        "rows, columns = y.shape\n",
        "print(\"y rows: {}\".format(rows), '\\n' 'y columns: {}'.format(columns))"
      ],
      "metadata": {
        "id": "_2_MuMFv54Lt",
        "colab": {
          "base_uri": "https://localhost:8080/"
        },
        "outputId": "4c3e88cf-9dd3-46c8-f063-5f368bdd3378"
      },
      "execution_count": 4,
      "outputs": [
        {
          "output_type": "stream",
          "name": "stdout",
          "text": [
            "y rows: 3750 \n",
            "y columns: 1\n"
          ]
        }
      ]
    },
    {
      "cell_type": "markdown",
      "source": [
        "###DATA TYPES"
      ],
      "metadata": {
        "id": "pA5GRAKDdFgE"
      }
    },
    {
      "cell_type": "code",
      "source": [
        "X_data_types = X.columns.to_series().groupby(X.dtypes).groups\n",
        "X_data_types.keys()"
      ],
      "metadata": {
        "colab": {
          "base_uri": "https://localhost:8080/"
        },
        "id": "N71V4CtxdHdI",
        "outputId": "0b611f37-75d9-485c-c5e1-df7048000220"
      },
      "execution_count": 5,
      "outputs": [
        {
          "output_type": "execute_result",
          "data": {
            "text/plain": [
              "dict_keys([dtype('float64')])"
            ]
          },
          "metadata": {},
          "execution_count": 5
        }
      ]
    },
    {
      "cell_type": "code",
      "source": [
        "y_data_types = y.columns.to_series().groupby(y.dtypes).groups\n",
        "y_data_types.keys()"
      ],
      "metadata": {
        "colab": {
          "base_uri": "https://localhost:8080/"
        },
        "id": "mIH34qL71Xre",
        "outputId": "51e7ffe8-a6f0-49f1-ec61-a3d4a0f40385"
      },
      "execution_count": 6,
      "outputs": [
        {
          "output_type": "execute_result",
          "data": {
            "text/plain": [
              "dict_keys([dtype('int64')])"
            ]
          },
          "metadata": {},
          "execution_count": 6
        }
      ]
    },
    {
      "cell_type": "markdown",
      "source": [
        "###MISSING VALUES"
      ],
      "metadata": {
        "id": "K11aVbyJNqwY"
      }
    },
    {
      "cell_type": "code",
      "source": [
        "# Checking the missing values\n",
        "print ('Missing values total: ', X.isnull().sum().sum())\n",
        "X.isnull().sum() / X.shape[0] * 100\n"
      ],
      "metadata": {
        "colab": {
          "base_uri": "https://localhost:8080/"
        },
        "id": "iRdAnMX59a5O",
        "outputId": "d7d69355-6a5d-4169-b9e9-82e4f8a61dba"
      },
      "execution_count": 7,
      "outputs": [
        {
          "output_type": "stream",
          "name": "stdout",
          "text": [
            "Missing values total:  0\n"
          ]
        },
        {
          "output_type": "execute_result",
          "data": {
            "text/plain": [
              "feature_0       0.0\n",
              "feature_1       0.0\n",
              "feature_2       0.0\n",
              "feature_3       0.0\n",
              "feature_4       0.0\n",
              "               ... \n",
              "feature_9995    0.0\n",
              "feature_9996    0.0\n",
              "feature_9997    0.0\n",
              "feature_9998    0.0\n",
              "feature_9999    0.0\n",
              "Length: 10000, dtype: float64"
            ]
          },
          "metadata": {},
          "execution_count": 7
        }
      ]
    },
    {
      "cell_type": "code",
      "source": [
        "# Checking the missing values\n",
        "print ('Missing values total: ', y.isnull().sum().sum())\n",
        "X.isnull().sum() / X.shape[0] * 100"
      ],
      "metadata": {
        "colab": {
          "base_uri": "https://localhost:8080/"
        },
        "id": "Uu1jvKcQ1kkw",
        "outputId": "99bc3ed1-447a-414d-b13e-5fd972ba22f7"
      },
      "execution_count": 8,
      "outputs": [
        {
          "output_type": "stream",
          "name": "stdout",
          "text": [
            "Missing values total:  0\n"
          ]
        },
        {
          "output_type": "execute_result",
          "data": {
            "text/plain": [
              "feature_0       0.0\n",
              "feature_1       0.0\n",
              "feature_2       0.0\n",
              "feature_3       0.0\n",
              "feature_4       0.0\n",
              "               ... \n",
              "feature_9995    0.0\n",
              "feature_9996    0.0\n",
              "feature_9997    0.0\n",
              "feature_9998    0.0\n",
              "feature_9999    0.0\n",
              "Length: 10000, dtype: float64"
            ]
          },
          "metadata": {},
          "execution_count": 8
        }
      ]
    },
    {
      "cell_type": "markdown",
      "source": [
        "###DESCRIPTIVE STATISTICS"
      ],
      "metadata": {
        "id": "Uu98k029Nt_M"
      }
    },
    {
      "cell_type": "code",
      "source": [
        "X_desc = X.describe().T\n",
        "X.describe().T"
      ],
      "metadata": {
        "id": "4AEZxf1092iq",
        "colab": {
          "base_uri": "https://localhost:8080/",
          "height": 424
        },
        "outputId": "c97acedd-7073-43d2-b331-304cc304e5e5"
      },
      "execution_count": 9,
      "outputs": [
        {
          "output_type": "execute_result",
          "data": {
            "text/plain": [
              "               count        mean           std         min          25%  \\\n",
              "feature_0     3750.0   30.644135    286.172414    -989.450   -163.78175   \n",
              "feature_1     3750.0    9.080955    213.166659    -859.922   -135.34350   \n",
              "feature_2     3750.0  169.679419  43665.003613 -163336.428 -29284.11950   \n",
              "feature_3     3750.0  811.083532  57123.457110 -243844.632 -38028.42900   \n",
              "feature_4     3750.0 -186.008805  21942.466227  -77566.109 -14426.79950   \n",
              "...              ...         ...           ...         ...          ...   \n",
              "feature_9995  3750.0   -1.426345    655.666258   -2165.769   -432.00075   \n",
              "feature_9996  3750.0    9.597250    204.731554    -739.205   -129.07625   \n",
              "feature_9997  3750.0   -2.031243    793.022407   -2731.037   -561.30400   \n",
              "feature_9998  3750.0   -2.841237    629.128655   -2223.909   -424.19275   \n",
              "feature_9999  3750.0   38.071903    768.405732   -2565.513   -462.82800   \n",
              "\n",
              "                    50%          75%         max  \n",
              "feature_0       35.4785    215.78050    1224.394  \n",
              "feature_1        2.6805    156.09575     722.868  \n",
              "feature_2     1181.6985  29630.91450  177744.241  \n",
              "feature_3      980.5880  40561.96025  215372.854  \n",
              "feature_4     -154.8350  14515.83300   86287.955  \n",
              "...                 ...          ...         ...  \n",
              "feature_9995    -3.7965    425.33800    2562.331  \n",
              "feature_9996     8.6005    149.85575     685.176  \n",
              "feature_9997    -4.2430    539.55000    3123.617  \n",
              "feature_9998    -7.6280    427.79450    2204.527  \n",
              "feature_9999    28.1070    552.17350    2664.074  \n",
              "\n",
              "[10000 rows x 8 columns]"
            ],
            "text/html": [
              "\n",
              "  <div id=\"df-5394a539-5c83-4c13-8283-5ea34feab9a0\">\n",
              "    <div class=\"colab-df-container\">\n",
              "      <div>\n",
              "<style scoped>\n",
              "    .dataframe tbody tr th:only-of-type {\n",
              "        vertical-align: middle;\n",
              "    }\n",
              "\n",
              "    .dataframe tbody tr th {\n",
              "        vertical-align: top;\n",
              "    }\n",
              "\n",
              "    .dataframe thead th {\n",
              "        text-align: right;\n",
              "    }\n",
              "</style>\n",
              "<table border=\"1\" class=\"dataframe\">\n",
              "  <thead>\n",
              "    <tr style=\"text-align: right;\">\n",
              "      <th></th>\n",
              "      <th>count</th>\n",
              "      <th>mean</th>\n",
              "      <th>std</th>\n",
              "      <th>min</th>\n",
              "      <th>25%</th>\n",
              "      <th>50%</th>\n",
              "      <th>75%</th>\n",
              "      <th>max</th>\n",
              "    </tr>\n",
              "  </thead>\n",
              "  <tbody>\n",
              "    <tr>\n",
              "      <th>feature_0</th>\n",
              "      <td>3750.0</td>\n",
              "      <td>30.644135</td>\n",
              "      <td>286.172414</td>\n",
              "      <td>-989.450</td>\n",
              "      <td>-163.78175</td>\n",
              "      <td>35.4785</td>\n",
              "      <td>215.78050</td>\n",
              "      <td>1224.394</td>\n",
              "    </tr>\n",
              "    <tr>\n",
              "      <th>feature_1</th>\n",
              "      <td>3750.0</td>\n",
              "      <td>9.080955</td>\n",
              "      <td>213.166659</td>\n",
              "      <td>-859.922</td>\n",
              "      <td>-135.34350</td>\n",
              "      <td>2.6805</td>\n",
              "      <td>156.09575</td>\n",
              "      <td>722.868</td>\n",
              "    </tr>\n",
              "    <tr>\n",
              "      <th>feature_2</th>\n",
              "      <td>3750.0</td>\n",
              "      <td>169.679419</td>\n",
              "      <td>43665.003613</td>\n",
              "      <td>-163336.428</td>\n",
              "      <td>-29284.11950</td>\n",
              "      <td>1181.6985</td>\n",
              "      <td>29630.91450</td>\n",
              "      <td>177744.241</td>\n",
              "    </tr>\n",
              "    <tr>\n",
              "      <th>feature_3</th>\n",
              "      <td>3750.0</td>\n",
              "      <td>811.083532</td>\n",
              "      <td>57123.457110</td>\n",
              "      <td>-243844.632</td>\n",
              "      <td>-38028.42900</td>\n",
              "      <td>980.5880</td>\n",
              "      <td>40561.96025</td>\n",
              "      <td>215372.854</td>\n",
              "    </tr>\n",
              "    <tr>\n",
              "      <th>feature_4</th>\n",
              "      <td>3750.0</td>\n",
              "      <td>-186.008805</td>\n",
              "      <td>21942.466227</td>\n",
              "      <td>-77566.109</td>\n",
              "      <td>-14426.79950</td>\n",
              "      <td>-154.8350</td>\n",
              "      <td>14515.83300</td>\n",
              "      <td>86287.955</td>\n",
              "    </tr>\n",
              "    <tr>\n",
              "      <th>...</th>\n",
              "      <td>...</td>\n",
              "      <td>...</td>\n",
              "      <td>...</td>\n",
              "      <td>...</td>\n",
              "      <td>...</td>\n",
              "      <td>...</td>\n",
              "      <td>...</td>\n",
              "      <td>...</td>\n",
              "    </tr>\n",
              "    <tr>\n",
              "      <th>feature_9995</th>\n",
              "      <td>3750.0</td>\n",
              "      <td>-1.426345</td>\n",
              "      <td>655.666258</td>\n",
              "      <td>-2165.769</td>\n",
              "      <td>-432.00075</td>\n",
              "      <td>-3.7965</td>\n",
              "      <td>425.33800</td>\n",
              "      <td>2562.331</td>\n",
              "    </tr>\n",
              "    <tr>\n",
              "      <th>feature_9996</th>\n",
              "      <td>3750.0</td>\n",
              "      <td>9.597250</td>\n",
              "      <td>204.731554</td>\n",
              "      <td>-739.205</td>\n",
              "      <td>-129.07625</td>\n",
              "      <td>8.6005</td>\n",
              "      <td>149.85575</td>\n",
              "      <td>685.176</td>\n",
              "    </tr>\n",
              "    <tr>\n",
              "      <th>feature_9997</th>\n",
              "      <td>3750.0</td>\n",
              "      <td>-2.031243</td>\n",
              "      <td>793.022407</td>\n",
              "      <td>-2731.037</td>\n",
              "      <td>-561.30400</td>\n",
              "      <td>-4.2430</td>\n",
              "      <td>539.55000</td>\n",
              "      <td>3123.617</td>\n",
              "    </tr>\n",
              "    <tr>\n",
              "      <th>feature_9998</th>\n",
              "      <td>3750.0</td>\n",
              "      <td>-2.841237</td>\n",
              "      <td>629.128655</td>\n",
              "      <td>-2223.909</td>\n",
              "      <td>-424.19275</td>\n",
              "      <td>-7.6280</td>\n",
              "      <td>427.79450</td>\n",
              "      <td>2204.527</td>\n",
              "    </tr>\n",
              "    <tr>\n",
              "      <th>feature_9999</th>\n",
              "      <td>3750.0</td>\n",
              "      <td>38.071903</td>\n",
              "      <td>768.405732</td>\n",
              "      <td>-2565.513</td>\n",
              "      <td>-462.82800</td>\n",
              "      <td>28.1070</td>\n",
              "      <td>552.17350</td>\n",
              "      <td>2664.074</td>\n",
              "    </tr>\n",
              "  </tbody>\n",
              "</table>\n",
              "<p>10000 rows × 8 columns</p>\n",
              "</div>\n",
              "      <button class=\"colab-df-convert\" onclick=\"convertToInteractive('df-5394a539-5c83-4c13-8283-5ea34feab9a0')\"\n",
              "              title=\"Convert this dataframe to an interactive table.\"\n",
              "              style=\"display:none;\">\n",
              "        \n",
              "  <svg xmlns=\"http://www.w3.org/2000/svg\" height=\"24px\"viewBox=\"0 0 24 24\"\n",
              "       width=\"24px\">\n",
              "    <path d=\"M0 0h24v24H0V0z\" fill=\"none\"/>\n",
              "    <path d=\"M18.56 5.44l.94 2.06.94-2.06 2.06-.94-2.06-.94-.94-2.06-.94 2.06-2.06.94zm-11 1L8.5 8.5l.94-2.06 2.06-.94-2.06-.94L8.5 2.5l-.94 2.06-2.06.94zm10 10l.94 2.06.94-2.06 2.06-.94-2.06-.94-.94-2.06-.94 2.06-2.06.94z\"/><path d=\"M17.41 7.96l-1.37-1.37c-.4-.4-.92-.59-1.43-.59-.52 0-1.04.2-1.43.59L10.3 9.45l-7.72 7.72c-.78.78-.78 2.05 0 2.83L4 21.41c.39.39.9.59 1.41.59.51 0 1.02-.2 1.41-.59l7.78-7.78 2.81-2.81c.8-.78.8-2.07 0-2.86zM5.41 20L4 18.59l7.72-7.72 1.47 1.35L5.41 20z\"/>\n",
              "  </svg>\n",
              "      </button>\n",
              "      \n",
              "  <style>\n",
              "    .colab-df-container {\n",
              "      display:flex;\n",
              "      flex-wrap:wrap;\n",
              "      gap: 12px;\n",
              "    }\n",
              "\n",
              "    .colab-df-convert {\n",
              "      background-color: #E8F0FE;\n",
              "      border: none;\n",
              "      border-radius: 50%;\n",
              "      cursor: pointer;\n",
              "      display: none;\n",
              "      fill: #1967D2;\n",
              "      height: 32px;\n",
              "      padding: 0 0 0 0;\n",
              "      width: 32px;\n",
              "    }\n",
              "\n",
              "    .colab-df-convert:hover {\n",
              "      background-color: #E2EBFA;\n",
              "      box-shadow: 0px 1px 2px rgba(60, 64, 67, 0.3), 0px 1px 3px 1px rgba(60, 64, 67, 0.15);\n",
              "      fill: #174EA6;\n",
              "    }\n",
              "\n",
              "    [theme=dark] .colab-df-convert {\n",
              "      background-color: #3B4455;\n",
              "      fill: #D2E3FC;\n",
              "    }\n",
              "\n",
              "    [theme=dark] .colab-df-convert:hover {\n",
              "      background-color: #434B5C;\n",
              "      box-shadow: 0px 1px 3px 1px rgba(0, 0, 0, 0.15);\n",
              "      filter: drop-shadow(0px 1px 2px rgba(0, 0, 0, 0.3));\n",
              "      fill: #FFFFFF;\n",
              "    }\n",
              "  </style>\n",
              "\n",
              "      <script>\n",
              "        const buttonEl =\n",
              "          document.querySelector('#df-5394a539-5c83-4c13-8283-5ea34feab9a0 button.colab-df-convert');\n",
              "        buttonEl.style.display =\n",
              "          google.colab.kernel.accessAllowed ? 'block' : 'none';\n",
              "\n",
              "        async function convertToInteractive(key) {\n",
              "          const element = document.querySelector('#df-5394a539-5c83-4c13-8283-5ea34feab9a0');\n",
              "          const dataTable =\n",
              "            await google.colab.kernel.invokeFunction('convertToInteractive',\n",
              "                                                     [key], {});\n",
              "          if (!dataTable) return;\n",
              "\n",
              "          const docLinkHtml = 'Like what you see? Visit the ' +\n",
              "            '<a target=\"_blank\" href=https://colab.research.google.com/notebooks/data_table.ipynb>data table notebook</a>'\n",
              "            + ' to learn more about interactive tables.';\n",
              "          element.innerHTML = '';\n",
              "          dataTable['output_type'] = 'display_data';\n",
              "          await google.colab.output.renderOutput(dataTable, element);\n",
              "          const docLink = document.createElement('div');\n",
              "          docLink.innerHTML = docLinkHtml;\n",
              "          element.appendChild(docLink);\n",
              "        }\n",
              "      </script>\n",
              "    </div>\n",
              "  </div>\n",
              "  "
            ]
          },
          "metadata": {},
          "execution_count": 9
        }
      ]
    },
    {
      "cell_type": "markdown",
      "source": [
        "####LOW/HIGH VARIANCE"
      ],
      "metadata": {
        "id": "L8AZtKMaj8EK"
      }
    },
    {
      "cell_type": "markdown",
      "source": [
        "#####HIGH/LOW VARIANCE PROBLEM\n",
        "https://datascience.stackexchange.com/questions/37345/what-is-the-meaning-of-term-variance-in-machine-learning-model\n",
        "\n",
        "1. What is high/low variance?\n",
        "1. Over/underfitiing\n",
        "1. Percentage vs max/min var\n",
        "1. 10% cut up/bottom\n",
        "1. Max - min var / specific var as indicator for high/low var\n",
        "1. What is the importance of std or var in machine learning?"
      ],
      "metadata": {
        "id": "Zj7bIJJP9SZG"
      }
    },
    {
      "cell_type": "code",
      "source": [
        "X_desc['var'] = X_desc['std']**2\n",
        "X_desc.sort_values(by=['std'])"
      ],
      "metadata": {
        "colab": {
          "base_uri": "https://localhost:8080/",
          "height": 488
        },
        "id": "cBMU0sn3jwLp",
        "outputId": "c779bd3b-292e-459d-870b-87ab51b6bf1e"
      },
      "execution_count": 21,
      "outputs": [
        {
          "output_type": "execute_result",
          "data": {
            "text/plain": [
              "               count          mean            std         min          25%  \\\n",
              "feature_296   3750.0     16.394891      96.609371    -336.881    -48.31825   \n",
              "feature_2141  3750.0     17.571081      97.780843    -443.324    -47.77625   \n",
              "feature_9294  3750.0     10.192217      98.812225    -304.940    -56.42625   \n",
              "feature_6448  3750.0     14.586077      98.829126    -354.053    -52.42075   \n",
              "feature_8068  3750.0     15.850471      99.219032    -317.977    -50.89075   \n",
              "...              ...           ...            ...         ...          ...   \n",
              "feature_4     3750.0   -186.008805   21942.466227  -77566.109 -14426.79950   \n",
              "feature_5432  3750.0  19758.940279   40031.725525  -78808.956 -17446.05700   \n",
              "feature_2     3750.0    169.679419   43665.003613 -163336.428 -29284.11950   \n",
              "feature_3     3750.0    811.083532   57123.457110 -243844.632 -38028.42900   \n",
              "feature_1017  3750.0  73909.525799  145483.629953 -236100.056 -62991.52250   \n",
              "\n",
              "                     50%           75%         max           var  \n",
              "feature_296      18.3490      82.18525     339.396  9.333371e+03  \n",
              "feature_2141     19.4850      83.65900     340.743  9.561093e+03  \n",
              "feature_9294     11.5865      77.67875     356.862  9.763856e+03  \n",
              "feature_6448     13.0880      79.90025     340.144  9.767196e+03  \n",
              "feature_8068     15.6050      84.36650     344.393  9.844416e+03  \n",
              "...                  ...           ...         ...           ...  \n",
              "feature_4      -154.8350   14515.83300   86287.955  4.814718e+08  \n",
              "feature_5432  17472.4895   57388.01875  115499.031  1.602539e+09  \n",
              "feature_2      1181.6985   29630.91450  177744.241  1.906633e+09  \n",
              "feature_3       980.5880   40561.96025  215372.854  3.263089e+09  \n",
              "feature_1017  70704.2060  212446.92225  414233.425  2.116549e+10  \n",
              "\n",
              "[10000 rows x 9 columns]"
            ],
            "text/html": [
              "\n",
              "  <div id=\"df-84edc123-214c-4b7d-a3fa-0f8f0a8580f8\">\n",
              "    <div class=\"colab-df-container\">\n",
              "      <div>\n",
              "<style scoped>\n",
              "    .dataframe tbody tr th:only-of-type {\n",
              "        vertical-align: middle;\n",
              "    }\n",
              "\n",
              "    .dataframe tbody tr th {\n",
              "        vertical-align: top;\n",
              "    }\n",
              "\n",
              "    .dataframe thead th {\n",
              "        text-align: right;\n",
              "    }\n",
              "</style>\n",
              "<table border=\"1\" class=\"dataframe\">\n",
              "  <thead>\n",
              "    <tr style=\"text-align: right;\">\n",
              "      <th></th>\n",
              "      <th>count</th>\n",
              "      <th>mean</th>\n",
              "      <th>std</th>\n",
              "      <th>min</th>\n",
              "      <th>25%</th>\n",
              "      <th>50%</th>\n",
              "      <th>75%</th>\n",
              "      <th>max</th>\n",
              "      <th>var</th>\n",
              "    </tr>\n",
              "  </thead>\n",
              "  <tbody>\n",
              "    <tr>\n",
              "      <th>feature_296</th>\n",
              "      <td>3750.0</td>\n",
              "      <td>16.394891</td>\n",
              "      <td>96.609371</td>\n",
              "      <td>-336.881</td>\n",
              "      <td>-48.31825</td>\n",
              "      <td>18.3490</td>\n",
              "      <td>82.18525</td>\n",
              "      <td>339.396</td>\n",
              "      <td>9.333371e+03</td>\n",
              "    </tr>\n",
              "    <tr>\n",
              "      <th>feature_2141</th>\n",
              "      <td>3750.0</td>\n",
              "      <td>17.571081</td>\n",
              "      <td>97.780843</td>\n",
              "      <td>-443.324</td>\n",
              "      <td>-47.77625</td>\n",
              "      <td>19.4850</td>\n",
              "      <td>83.65900</td>\n",
              "      <td>340.743</td>\n",
              "      <td>9.561093e+03</td>\n",
              "    </tr>\n",
              "    <tr>\n",
              "      <th>feature_9294</th>\n",
              "      <td>3750.0</td>\n",
              "      <td>10.192217</td>\n",
              "      <td>98.812225</td>\n",
              "      <td>-304.940</td>\n",
              "      <td>-56.42625</td>\n",
              "      <td>11.5865</td>\n",
              "      <td>77.67875</td>\n",
              "      <td>356.862</td>\n",
              "      <td>9.763856e+03</td>\n",
              "    </tr>\n",
              "    <tr>\n",
              "      <th>feature_6448</th>\n",
              "      <td>3750.0</td>\n",
              "      <td>14.586077</td>\n",
              "      <td>98.829126</td>\n",
              "      <td>-354.053</td>\n",
              "      <td>-52.42075</td>\n",
              "      <td>13.0880</td>\n",
              "      <td>79.90025</td>\n",
              "      <td>340.144</td>\n",
              "      <td>9.767196e+03</td>\n",
              "    </tr>\n",
              "    <tr>\n",
              "      <th>feature_8068</th>\n",
              "      <td>3750.0</td>\n",
              "      <td>15.850471</td>\n",
              "      <td>99.219032</td>\n",
              "      <td>-317.977</td>\n",
              "      <td>-50.89075</td>\n",
              "      <td>15.6050</td>\n",
              "      <td>84.36650</td>\n",
              "      <td>344.393</td>\n",
              "      <td>9.844416e+03</td>\n",
              "    </tr>\n",
              "    <tr>\n",
              "      <th>...</th>\n",
              "      <td>...</td>\n",
              "      <td>...</td>\n",
              "      <td>...</td>\n",
              "      <td>...</td>\n",
              "      <td>...</td>\n",
              "      <td>...</td>\n",
              "      <td>...</td>\n",
              "      <td>...</td>\n",
              "      <td>...</td>\n",
              "    </tr>\n",
              "    <tr>\n",
              "      <th>feature_4</th>\n",
              "      <td>3750.0</td>\n",
              "      <td>-186.008805</td>\n",
              "      <td>21942.466227</td>\n",
              "      <td>-77566.109</td>\n",
              "      <td>-14426.79950</td>\n",
              "      <td>-154.8350</td>\n",
              "      <td>14515.83300</td>\n",
              "      <td>86287.955</td>\n",
              "      <td>4.814718e+08</td>\n",
              "    </tr>\n",
              "    <tr>\n",
              "      <th>feature_5432</th>\n",
              "      <td>3750.0</td>\n",
              "      <td>19758.940279</td>\n",
              "      <td>40031.725525</td>\n",
              "      <td>-78808.956</td>\n",
              "      <td>-17446.05700</td>\n",
              "      <td>17472.4895</td>\n",
              "      <td>57388.01875</td>\n",
              "      <td>115499.031</td>\n",
              "      <td>1.602539e+09</td>\n",
              "    </tr>\n",
              "    <tr>\n",
              "      <th>feature_2</th>\n",
              "      <td>3750.0</td>\n",
              "      <td>169.679419</td>\n",
              "      <td>43665.003613</td>\n",
              "      <td>-163336.428</td>\n",
              "      <td>-29284.11950</td>\n",
              "      <td>1181.6985</td>\n",
              "      <td>29630.91450</td>\n",
              "      <td>177744.241</td>\n",
              "      <td>1.906633e+09</td>\n",
              "    </tr>\n",
              "    <tr>\n",
              "      <th>feature_3</th>\n",
              "      <td>3750.0</td>\n",
              "      <td>811.083532</td>\n",
              "      <td>57123.457110</td>\n",
              "      <td>-243844.632</td>\n",
              "      <td>-38028.42900</td>\n",
              "      <td>980.5880</td>\n",
              "      <td>40561.96025</td>\n",
              "      <td>215372.854</td>\n",
              "      <td>3.263089e+09</td>\n",
              "    </tr>\n",
              "    <tr>\n",
              "      <th>feature_1017</th>\n",
              "      <td>3750.0</td>\n",
              "      <td>73909.525799</td>\n",
              "      <td>145483.629953</td>\n",
              "      <td>-236100.056</td>\n",
              "      <td>-62991.52250</td>\n",
              "      <td>70704.2060</td>\n",
              "      <td>212446.92225</td>\n",
              "      <td>414233.425</td>\n",
              "      <td>2.116549e+10</td>\n",
              "    </tr>\n",
              "  </tbody>\n",
              "</table>\n",
              "<p>10000 rows × 9 columns</p>\n",
              "</div>\n",
              "      <button class=\"colab-df-convert\" onclick=\"convertToInteractive('df-84edc123-214c-4b7d-a3fa-0f8f0a8580f8')\"\n",
              "              title=\"Convert this dataframe to an interactive table.\"\n",
              "              style=\"display:none;\">\n",
              "        \n",
              "  <svg xmlns=\"http://www.w3.org/2000/svg\" height=\"24px\"viewBox=\"0 0 24 24\"\n",
              "       width=\"24px\">\n",
              "    <path d=\"M0 0h24v24H0V0z\" fill=\"none\"/>\n",
              "    <path d=\"M18.56 5.44l.94 2.06.94-2.06 2.06-.94-2.06-.94-.94-2.06-.94 2.06-2.06.94zm-11 1L8.5 8.5l.94-2.06 2.06-.94-2.06-.94L8.5 2.5l-.94 2.06-2.06.94zm10 10l.94 2.06.94-2.06 2.06-.94-2.06-.94-.94-2.06-.94 2.06-2.06.94z\"/><path d=\"M17.41 7.96l-1.37-1.37c-.4-.4-.92-.59-1.43-.59-.52 0-1.04.2-1.43.59L10.3 9.45l-7.72 7.72c-.78.78-.78 2.05 0 2.83L4 21.41c.39.39.9.59 1.41.59.51 0 1.02-.2 1.41-.59l7.78-7.78 2.81-2.81c.8-.78.8-2.07 0-2.86zM5.41 20L4 18.59l7.72-7.72 1.47 1.35L5.41 20z\"/>\n",
              "  </svg>\n",
              "      </button>\n",
              "      \n",
              "  <style>\n",
              "    .colab-df-container {\n",
              "      display:flex;\n",
              "      flex-wrap:wrap;\n",
              "      gap: 12px;\n",
              "    }\n",
              "\n",
              "    .colab-df-convert {\n",
              "      background-color: #E8F0FE;\n",
              "      border: none;\n",
              "      border-radius: 50%;\n",
              "      cursor: pointer;\n",
              "      display: none;\n",
              "      fill: #1967D2;\n",
              "      height: 32px;\n",
              "      padding: 0 0 0 0;\n",
              "      width: 32px;\n",
              "    }\n",
              "\n",
              "    .colab-df-convert:hover {\n",
              "      background-color: #E2EBFA;\n",
              "      box-shadow: 0px 1px 2px rgba(60, 64, 67, 0.3), 0px 1px 3px 1px rgba(60, 64, 67, 0.15);\n",
              "      fill: #174EA6;\n",
              "    }\n",
              "\n",
              "    [theme=dark] .colab-df-convert {\n",
              "      background-color: #3B4455;\n",
              "      fill: #D2E3FC;\n",
              "    }\n",
              "\n",
              "    [theme=dark] .colab-df-convert:hover {\n",
              "      background-color: #434B5C;\n",
              "      box-shadow: 0px 1px 3px 1px rgba(0, 0, 0, 0.15);\n",
              "      filter: drop-shadow(0px 1px 2px rgba(0, 0, 0, 0.3));\n",
              "      fill: #FFFFFF;\n",
              "    }\n",
              "  </style>\n",
              "\n",
              "      <script>\n",
              "        const buttonEl =\n",
              "          document.querySelector('#df-84edc123-214c-4b7d-a3fa-0f8f0a8580f8 button.colab-df-convert');\n",
              "        buttonEl.style.display =\n",
              "          google.colab.kernel.accessAllowed ? 'block' : 'none';\n",
              "\n",
              "        async function convertToInteractive(key) {\n",
              "          const element = document.querySelector('#df-84edc123-214c-4b7d-a3fa-0f8f0a8580f8');\n",
              "          const dataTable =\n",
              "            await google.colab.kernel.invokeFunction('convertToInteractive',\n",
              "                                                     [key], {});\n",
              "          if (!dataTable) return;\n",
              "\n",
              "          const docLinkHtml = 'Like what you see? Visit the ' +\n",
              "            '<a target=\"_blank\" href=https://colab.research.google.com/notebooks/data_table.ipynb>data table notebook</a>'\n",
              "            + ' to learn more about interactive tables.';\n",
              "          element.innerHTML = '';\n",
              "          dataTable['output_type'] = 'display_data';\n",
              "          await google.colab.output.renderOutput(dataTable, element);\n",
              "          const docLink = document.createElement('div');\n",
              "          docLink.innerHTML = docLinkHtml;\n",
              "          element.appendChild(docLink);\n",
              "        }\n",
              "      </script>\n",
              "    </div>\n",
              "  </div>\n",
              "  "
            ]
          },
          "metadata": {},
          "execution_count": 21
        }
      ]
    },
    {
      "cell_type": "markdown",
      "source": [
        "####BIN COUNT FOR TARGET"
      ],
      "metadata": {
        "id": "rE3SLXzw182u"
      }
    },
    {
      "cell_type": "code",
      "source": [
        "y.groupby(['target'])['target'].count()"
      ],
      "metadata": {
        "colab": {
          "base_uri": "https://localhost:8080/"
        },
        "id": "JBN3zOEH18hg",
        "outputId": "8d5edc34-0517-43c4-b87c-2b18186fb879"
      },
      "execution_count": 22,
      "outputs": [
        {
          "output_type": "execute_result",
          "data": {
            "text/plain": [
              "target\n",
              "-1     375\n",
              " 1    3375\n",
              "Name: target, dtype: int64"
            ]
          },
          "metadata": {},
          "execution_count": 22
        }
      ]
    },
    {
      "cell_type": "markdown",
      "source": [
        "###INTERCORRELATIONS\n",
        "Analiza interkorelacji\n",
        "\n",
        "https://www.projectpro.io/recipes/drop-out-highly-correlated-features-in-python\n",
        "https://chrisalbon.com/code/machine_learning/feature_selection/drop_highly_correlated_features/"
      ],
      "metadata": {
        "id": "zEHciZNKNxRV"
      }
    },
    {
      "cell_type": "code",
      "source": [
        "cor_matrix = X.corr().abs()\n",
        "print(cor_matrix)"
      ],
      "metadata": {
        "id": "REfWu9AeCgvb"
      },
      "execution_count": null,
      "outputs": []
    },
    {
      "cell_type": "code",
      "source": [
        "import numpy as np\n",
        "\n",
        "upper_tri = cor_matrix.where(np.triu(np.ones(cor_matrix.shape),k=1).astype(np.bool))\n",
        "print(upper_tri)"
      ],
      "metadata": {
        "id": "0ZcH9B56C-TM"
      },
      "execution_count": null,
      "outputs": []
    },
    {
      "cell_type": "code",
      "source": [
        "to_drop = [column for column in upper_tri.columns if any(upper_tri[column] > 0.7)]\n",
        "print(); print(to_drop)"
      ],
      "metadata": {
        "id": "TJqHSIsJDDkk"
      },
      "execution_count": null,
      "outputs": []
    },
    {
      "cell_type": "markdown",
      "source": [
        "####NOTE FOR INTERCORELLATIONS\n",
        "1. What is the level for high correlation in this abstract task.\n",
        "1. How many high correlated (point 1) features is enough?\n",
        "1. Small amount of correlated features vs high amount of correlated features."
      ],
      "metadata": {
        "id": "uTUdWD_y-jjP"
      }
    },
    {
      "cell_type": "markdown",
      "source": [
        "##2.STANDARIZATION\n"
      ],
      "metadata": {
        "id": "ZCszAKPDA9yH"
      }
    },
    {
      "cell_type": "markdown",
      "source": [
        "###STANDARD SCALER"
      ],
      "metadata": {
        "id": "U4GzchD6BGYB"
      }
    },
    {
      "cell_type": "code",
      "source": [
        "from sklearn.preprocessing import StandardScaler\n",
        "\n",
        "scaler = StandardScaler()\n",
        "X = scaler.fit_transform(X)"
      ],
      "metadata": {
        "id": "MNCuxKjz2uAz"
      },
      "execution_count": null,
      "outputs": []
    },
    {
      "cell_type": "code",
      "source": [
        "pd.DataFrame(data = X, columns = features)"
      ],
      "metadata": {
        "id": "HrqFWEqJ24w9"
      },
      "execution_count": null,
      "outputs": []
    },
    {
      "cell_type": "markdown",
      "source": [
        "##3.FEATURE SELECTION"
      ],
      "metadata": {
        "id": "koQtDFTrTDNr"
      }
    },
    {
      "cell_type": "markdown",
      "source": [
        "##4.DIMENSIONALITY REDUCTION\n",
        "https://machinelearningmastery.com/dimensionality-reduction-algorithms-with-python/\n",
        "\n",
        "\n",
        "1. How do we know if we improved model by removing labels? Do we have to make\n",
        "base line for all the labels first?\n",
        "1. Sparsity problem - no zero values, this also defines feature selection\n",
        "algorithm:\n",
        "\n",
        "\n",
        "> a. PCA: few zero values\n",
        "\n",
        "\n",
        "> b. SVD: many zero values\n",
        "\n",
        "\n",
        "\n",
        "\n"
      ],
      "metadata": {
        "id": "vrPLKfiVN8bA"
      }
    },
    {
      "cell_type": "code",
      "source": [
        "from numpy import count_nonzero\n",
        "zero_elements = count_nonzero(X == 0)\n",
        "zero_elements"
      ],
      "metadata": {
        "id": "_o2NH4ZnFS6n"
      },
      "execution_count": null,
      "outputs": []
    },
    {
      "cell_type": "code",
      "source": [
        "total_elements = X.size\n",
        "total_elements"
      ],
      "metadata": {
        "id": "C7oVH66LGUuz"
      },
      "execution_count": null,
      "outputs": []
    },
    {
      "cell_type": "code",
      "source": [
        "sparsity = zero_elements / total_elements\n",
        "sparsity"
      ],
      "metadata": {
        "id": "2dgh-2sqFPlS"
      },
      "execution_count": null,
      "outputs": []
    },
    {
      "cell_type": "markdown",
      "source": [
        "###BASELINE"
      ],
      "metadata": {
        "id": "-cKUD9DjQtGa"
      }
    },
    {
      "cell_type": "markdown",
      "source": [
        "###PCA \n",
        "https://towardsdatascience.com/pca-using-python-scikit-learn-e653f8989e60\n",
        "\n",
        "https://www.datacamp.com/tutorial/principal-component-analysis-in-python"
      ],
      "metadata": {
        "id": "UUl5C7bhNagc"
      }
    },
    {
      "cell_type": "code",
      "source": [
        ""
      ],
      "metadata": {
        "id": "UvcKDdF7QpV9"
      },
      "execution_count": null,
      "outputs": []
    },
    {
      "cell_type": "markdown",
      "source": [
        "###t-SNE\n",
        "https://towardsdatascience.com/visualising-high-dimensional-datasets-using-pca-and-t-sne-in-python-8ef87e7915b\n"
      ],
      "metadata": {
        "id": "b1YPbSiC2Xpu"
      }
    },
    {
      "cell_type": "markdown",
      "source": [
        "##5.OUTLIERS"
      ],
      "metadata": {
        "id": "0uxnK-CeZolN"
      }
    },
    {
      "cell_type": "markdown",
      "source": [
        "##6.ENCODING"
      ],
      "metadata": {
        "id": "JlUmoQ3FoTq5"
      }
    },
    {
      "cell_type": "markdown",
      "source": [
        "###LABEL ENCODER"
      ],
      "metadata": {
        "id": "TMCyT_c3oVdg"
      }
    },
    {
      "cell_type": "code",
      "source": [
        "from sklearn.preprocessing import LabelEncoder\n",
        "\n",
        "y = pd.read_csv('/content/drive/MyDrive/train_labels.csv', names = ['target'])\n",
        "\n",
        "y"
      ],
      "metadata": {
        "id": "HpM9RghPpF5Z"
      },
      "execution_count": null,
      "outputs": []
    },
    {
      "cell_type": "code",
      "source": [
        "le = LabelEncoder()\n",
        "le.fit(y['target'])\n",
        "le.transform(y['target'])"
      ],
      "metadata": {
        "id": "xba0_ILgppc4"
      },
      "execution_count": null,
      "outputs": []
    },
    {
      "cell_type": "code",
      "source": [
        "le.classes_"
      ],
      "metadata": {
        "id": "BZis7sKmpwFF"
      },
      "execution_count": null,
      "outputs": []
    },
    {
      "cell_type": "markdown",
      "source": [
        ""
      ],
      "metadata": {
        "id": "Wdj8pp3ZoY7S"
      }
    },
    {
      "cell_type": "markdown",
      "source": [
        ""
      ],
      "metadata": {
        "id": "XykBeMWuoc7Z"
      }
    }
  ]
}