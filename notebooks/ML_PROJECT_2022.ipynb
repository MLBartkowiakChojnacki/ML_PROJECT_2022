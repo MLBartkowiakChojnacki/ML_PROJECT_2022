{
  "nbformat": 4,
  "nbformat_minor": 0,
  "metadata": {
    "colab": {
      "name": "ML_PROJECT_2022.ipynb",
      "provenance": [],
      "toc_visible": true,
      "mount_file_id": "https://github.com/MLBartkowiakChojnacki/ML_PROJECT_2022/blob/DIMENSIONALITY_REDUCTION/notebooks/ML_PROJECT_2022.ipynb",
      "authorship_tag": "ABX9TyOgIZL9dLNwu3OtYvWpeSFB",
      "include_colab_link": true
    },
    "kernelspec": {
      "name": "python3",
      "display_name": "Python 3"
    },
    "language_info": {
      "name": "python"
    }
  },
  "cells": [
    {
      "cell_type": "markdown",
      "metadata": {
        "id": "view-in-github",
        "colab_type": "text"
      },
      "source": [
        "<a href=\"https://colab.research.google.com/github/MLBartkowiakChojnacki/ML_PROJECT_2022/blob/DIMENSIONALITY_REDUCTION/notebooks/ML_PROJECT_2022.ipynb\" target=\"_parent\"><img src=\"https://colab.research.google.com/assets/colab-badge.svg\" alt=\"Open In Colab\"/></a>"
      ]
    },
    {
      "cell_type": "markdown",
      "source": [
        "#ML PROJECT"
      ],
      "metadata": {
        "id": "3OFMYmEqNegh"
      }
    },
    {
      "cell_type": "markdown",
      "source": [
        "##1.EDA AND DATA PREPARATION"
      ],
      "metadata": {
        "id": "9HRpUySJNhKV"
      }
    },
    {
      "cell_type": "markdown",
      "source": [
        "###LOADING DATA"
      ],
      "metadata": {
        "id": "c8XS1jQ7Njbv"
      }
    },
    {
      "cell_type": "code",
      "execution_count": 1,
      "metadata": {
        "colab": {
          "base_uri": "https://localhost:8080/",
          "height": 300
        },
        "id": "v8jXmd4K333i",
        "outputId": "f9a05f66-ad59-40c6-9fdb-4e5e4610c712"
      },
      "outputs": [
        {
          "output_type": "execute_result",
          "data": {
            "text/plain": [
              "   feature_0  feature_1  feature_2  feature_3  feature_4  feature_5  \\\n",
              "0    304.361   -436.590 -33854.769 -96571.569 -15086.947   -794.409   \n",
              "1     54.047     90.087   -154.747  -4116.486  38365.133   -589.309   \n",
              "2    272.168   -201.736   4212.592  -9123.655 -35422.458  -1029.249   \n",
              "3    170.007     68.736  48662.079  29735.235 -13903.955    895.081   \n",
              "4     86.797    180.052 -49643.545   2515.406  26206.315   -407.453   \n",
              "\n",
              "   feature_6  feature_7  feature_8  feature_9  ...  feature_9990  \\\n",
              "0   -442.859    304.248   -202.411   -506.852  ...        95.294   \n",
              "1   1115.367    274.199    814.953    167.272  ...      -176.341   \n",
              "2   -506.290   -476.856   -570.731   -161.288  ...       321.426   \n",
              "3   -257.748   -811.058   -691.561    -31.439  ...      -409.919   \n",
              "4   -189.416    -53.664   -159.507    -42.291  ...      -101.761   \n",
              "\n",
              "   feature_9991  feature_9992  feature_9993  feature_9994  feature_9995  \\\n",
              "0        -3.936      -251.812       256.429      -473.661     -1398.604   \n",
              "1      -426.238      -542.428        99.147      -102.309      -277.948   \n",
              "2      -376.033       142.834       920.958      -122.525      -174.304   \n",
              "3       400.946       313.270       123.172      1786.962       147.637   \n",
              "4      -424.898        37.254      -337.431       423.691        14.240   \n",
              "\n",
              "   feature_9996  feature_9997  feature_9998  feature_9999  \n",
              "0        42.638       771.185      -191.123      1356.137  \n",
              "1       -98.859     -1163.779       265.231      -992.056  \n",
              "2      -137.612     -1571.473       678.323      1020.263  \n",
              "3        31.433      -784.719       573.433      1454.415  \n",
              "4       267.352      -234.560      -213.804       873.391  \n",
              "\n",
              "[5 rows x 10000 columns]"
            ],
            "text/html": [
              "\n",
              "  <div id=\"df-c1715ec3-fd58-4331-b86a-dbc3a07a2993\">\n",
              "    <div class=\"colab-df-container\">\n",
              "      <div>\n",
              "<style scoped>\n",
              "    .dataframe tbody tr th:only-of-type {\n",
              "        vertical-align: middle;\n",
              "    }\n",
              "\n",
              "    .dataframe tbody tr th {\n",
              "        vertical-align: top;\n",
              "    }\n",
              "\n",
              "    .dataframe thead th {\n",
              "        text-align: right;\n",
              "    }\n",
              "</style>\n",
              "<table border=\"1\" class=\"dataframe\">\n",
              "  <thead>\n",
              "    <tr style=\"text-align: right;\">\n",
              "      <th></th>\n",
              "      <th>feature_0</th>\n",
              "      <th>feature_1</th>\n",
              "      <th>feature_2</th>\n",
              "      <th>feature_3</th>\n",
              "      <th>feature_4</th>\n",
              "      <th>feature_5</th>\n",
              "      <th>feature_6</th>\n",
              "      <th>feature_7</th>\n",
              "      <th>feature_8</th>\n",
              "      <th>feature_9</th>\n",
              "      <th>...</th>\n",
              "      <th>feature_9990</th>\n",
              "      <th>feature_9991</th>\n",
              "      <th>feature_9992</th>\n",
              "      <th>feature_9993</th>\n",
              "      <th>feature_9994</th>\n",
              "      <th>feature_9995</th>\n",
              "      <th>feature_9996</th>\n",
              "      <th>feature_9997</th>\n",
              "      <th>feature_9998</th>\n",
              "      <th>feature_9999</th>\n",
              "    </tr>\n",
              "  </thead>\n",
              "  <tbody>\n",
              "    <tr>\n",
              "      <th>0</th>\n",
              "      <td>304.361</td>\n",
              "      <td>-436.590</td>\n",
              "      <td>-33854.769</td>\n",
              "      <td>-96571.569</td>\n",
              "      <td>-15086.947</td>\n",
              "      <td>-794.409</td>\n",
              "      <td>-442.859</td>\n",
              "      <td>304.248</td>\n",
              "      <td>-202.411</td>\n",
              "      <td>-506.852</td>\n",
              "      <td>...</td>\n",
              "      <td>95.294</td>\n",
              "      <td>-3.936</td>\n",
              "      <td>-251.812</td>\n",
              "      <td>256.429</td>\n",
              "      <td>-473.661</td>\n",
              "      <td>-1398.604</td>\n",
              "      <td>42.638</td>\n",
              "      <td>771.185</td>\n",
              "      <td>-191.123</td>\n",
              "      <td>1356.137</td>\n",
              "    </tr>\n",
              "    <tr>\n",
              "      <th>1</th>\n",
              "      <td>54.047</td>\n",
              "      <td>90.087</td>\n",
              "      <td>-154.747</td>\n",
              "      <td>-4116.486</td>\n",
              "      <td>38365.133</td>\n",
              "      <td>-589.309</td>\n",
              "      <td>1115.367</td>\n",
              "      <td>274.199</td>\n",
              "      <td>814.953</td>\n",
              "      <td>167.272</td>\n",
              "      <td>...</td>\n",
              "      <td>-176.341</td>\n",
              "      <td>-426.238</td>\n",
              "      <td>-542.428</td>\n",
              "      <td>99.147</td>\n",
              "      <td>-102.309</td>\n",
              "      <td>-277.948</td>\n",
              "      <td>-98.859</td>\n",
              "      <td>-1163.779</td>\n",
              "      <td>265.231</td>\n",
              "      <td>-992.056</td>\n",
              "    </tr>\n",
              "    <tr>\n",
              "      <th>2</th>\n",
              "      <td>272.168</td>\n",
              "      <td>-201.736</td>\n",
              "      <td>4212.592</td>\n",
              "      <td>-9123.655</td>\n",
              "      <td>-35422.458</td>\n",
              "      <td>-1029.249</td>\n",
              "      <td>-506.290</td>\n",
              "      <td>-476.856</td>\n",
              "      <td>-570.731</td>\n",
              "      <td>-161.288</td>\n",
              "      <td>...</td>\n",
              "      <td>321.426</td>\n",
              "      <td>-376.033</td>\n",
              "      <td>142.834</td>\n",
              "      <td>920.958</td>\n",
              "      <td>-122.525</td>\n",
              "      <td>-174.304</td>\n",
              "      <td>-137.612</td>\n",
              "      <td>-1571.473</td>\n",
              "      <td>678.323</td>\n",
              "      <td>1020.263</td>\n",
              "    </tr>\n",
              "    <tr>\n",
              "      <th>3</th>\n",
              "      <td>170.007</td>\n",
              "      <td>68.736</td>\n",
              "      <td>48662.079</td>\n",
              "      <td>29735.235</td>\n",
              "      <td>-13903.955</td>\n",
              "      <td>895.081</td>\n",
              "      <td>-257.748</td>\n",
              "      <td>-811.058</td>\n",
              "      <td>-691.561</td>\n",
              "      <td>-31.439</td>\n",
              "      <td>...</td>\n",
              "      <td>-409.919</td>\n",
              "      <td>400.946</td>\n",
              "      <td>313.270</td>\n",
              "      <td>123.172</td>\n",
              "      <td>1786.962</td>\n",
              "      <td>147.637</td>\n",
              "      <td>31.433</td>\n",
              "      <td>-784.719</td>\n",
              "      <td>573.433</td>\n",
              "      <td>1454.415</td>\n",
              "    </tr>\n",
              "    <tr>\n",
              "      <th>4</th>\n",
              "      <td>86.797</td>\n",
              "      <td>180.052</td>\n",
              "      <td>-49643.545</td>\n",
              "      <td>2515.406</td>\n",
              "      <td>26206.315</td>\n",
              "      <td>-407.453</td>\n",
              "      <td>-189.416</td>\n",
              "      <td>-53.664</td>\n",
              "      <td>-159.507</td>\n",
              "      <td>-42.291</td>\n",
              "      <td>...</td>\n",
              "      <td>-101.761</td>\n",
              "      <td>-424.898</td>\n",
              "      <td>37.254</td>\n",
              "      <td>-337.431</td>\n",
              "      <td>423.691</td>\n",
              "      <td>14.240</td>\n",
              "      <td>267.352</td>\n",
              "      <td>-234.560</td>\n",
              "      <td>-213.804</td>\n",
              "      <td>873.391</td>\n",
              "    </tr>\n",
              "  </tbody>\n",
              "</table>\n",
              "<p>5 rows × 10000 columns</p>\n",
              "</div>\n",
              "      <button class=\"colab-df-convert\" onclick=\"convertToInteractive('df-c1715ec3-fd58-4331-b86a-dbc3a07a2993')\"\n",
              "              title=\"Convert this dataframe to an interactive table.\"\n",
              "              style=\"display:none;\">\n",
              "        \n",
              "  <svg xmlns=\"http://www.w3.org/2000/svg\" height=\"24px\"viewBox=\"0 0 24 24\"\n",
              "       width=\"24px\">\n",
              "    <path d=\"M0 0h24v24H0V0z\" fill=\"none\"/>\n",
              "    <path d=\"M18.56 5.44l.94 2.06.94-2.06 2.06-.94-2.06-.94-.94-2.06-.94 2.06-2.06.94zm-11 1L8.5 8.5l.94-2.06 2.06-.94-2.06-.94L8.5 2.5l-.94 2.06-2.06.94zm10 10l.94 2.06.94-2.06 2.06-.94-2.06-.94-.94-2.06-.94 2.06-2.06.94z\"/><path d=\"M17.41 7.96l-1.37-1.37c-.4-.4-.92-.59-1.43-.59-.52 0-1.04.2-1.43.59L10.3 9.45l-7.72 7.72c-.78.78-.78 2.05 0 2.83L4 21.41c.39.39.9.59 1.41.59.51 0 1.02-.2 1.41-.59l7.78-7.78 2.81-2.81c.8-.78.8-2.07 0-2.86zM5.41 20L4 18.59l7.72-7.72 1.47 1.35L5.41 20z\"/>\n",
              "  </svg>\n",
              "      </button>\n",
              "      \n",
              "  <style>\n",
              "    .colab-df-container {\n",
              "      display:flex;\n",
              "      flex-wrap:wrap;\n",
              "      gap: 12px;\n",
              "    }\n",
              "\n",
              "    .colab-df-convert {\n",
              "      background-color: #E8F0FE;\n",
              "      border: none;\n",
              "      border-radius: 50%;\n",
              "      cursor: pointer;\n",
              "      display: none;\n",
              "      fill: #1967D2;\n",
              "      height: 32px;\n",
              "      padding: 0 0 0 0;\n",
              "      width: 32px;\n",
              "    }\n",
              "\n",
              "    .colab-df-convert:hover {\n",
              "      background-color: #E2EBFA;\n",
              "      box-shadow: 0px 1px 2px rgba(60, 64, 67, 0.3), 0px 1px 3px 1px rgba(60, 64, 67, 0.15);\n",
              "      fill: #174EA6;\n",
              "    }\n",
              "\n",
              "    [theme=dark] .colab-df-convert {\n",
              "      background-color: #3B4455;\n",
              "      fill: #D2E3FC;\n",
              "    }\n",
              "\n",
              "    [theme=dark] .colab-df-convert:hover {\n",
              "      background-color: #434B5C;\n",
              "      box-shadow: 0px 1px 3px 1px rgba(0, 0, 0, 0.15);\n",
              "      filter: drop-shadow(0px 1px 2px rgba(0, 0, 0, 0.3));\n",
              "      fill: #FFFFFF;\n",
              "    }\n",
              "  </style>\n",
              "\n",
              "      <script>\n",
              "        const buttonEl =\n",
              "          document.querySelector('#df-c1715ec3-fd58-4331-b86a-dbc3a07a2993 button.colab-df-convert');\n",
              "        buttonEl.style.display =\n",
              "          google.colab.kernel.accessAllowed ? 'block' : 'none';\n",
              "\n",
              "        async function convertToInteractive(key) {\n",
              "          const element = document.querySelector('#df-c1715ec3-fd58-4331-b86a-dbc3a07a2993');\n",
              "          const dataTable =\n",
              "            await google.colab.kernel.invokeFunction('convertToInteractive',\n",
              "                                                     [key], {});\n",
              "          if (!dataTable) return;\n",
              "\n",
              "          const docLinkHtml = 'Like what you see? Visit the ' +\n",
              "            '<a target=\"_blank\" href=https://colab.research.google.com/notebooks/data_table.ipynb>data table notebook</a>'\n",
              "            + ' to learn more about interactive tables.';\n",
              "          element.innerHTML = '';\n",
              "          dataTable['output_type'] = 'display_data';\n",
              "          await google.colab.output.renderOutput(dataTable, element);\n",
              "          const docLink = document.createElement('div');\n",
              "          docLink.innerHTML = docLinkHtml;\n",
              "          element.appendChild(docLink);\n",
              "        }\n",
              "      </script>\n",
              "    </div>\n",
              "  </div>\n",
              "  "
            ]
          },
          "metadata": {},
          "execution_count": 1
        }
      ],
      "source": [
        "import pandas as pd\n",
        "\n",
        "rows_num = pd.read_csv('/content/drive/MyDrive/train_data.csv', nrows = 1)\n",
        "features = []\n",
        "col_num = len(rows_num.columns)\n",
        "\n",
        "features = ['feature_' + str(n) for n in range (0, col_num)]\n",
        "\n",
        "X = pd.read_csv('/content/drive/MyDrive/train_data.csv', names = features)\n",
        "y = pd.read_csv('/content/drive/MyDrive/train_labels.csv', names = ['target'])\n",
        "\n",
        "X.head()"
      ]
    },
    {
      "cell_type": "code",
      "source": [
        "y.head()"
      ],
      "metadata": {
        "id": "VZRbYvPX5uIh",
        "colab": {
          "base_uri": "https://localhost:8080/",
          "height": 206
        },
        "outputId": "6c638035-5d5f-4e17-e63c-1fa379070b11"
      },
      "execution_count": null,
      "outputs": [
        {
          "output_type": "execute_result",
          "data": {
            "text/plain": [
              "   target\n",
              "0       1\n",
              "1       1\n",
              "2       1\n",
              "3       1\n",
              "4       1"
            ],
            "text/html": [
              "\n",
              "  <div id=\"df-25c5b456-c142-4033-a7f0-aa743b6031d4\">\n",
              "    <div class=\"colab-df-container\">\n",
              "      <div>\n",
              "<style scoped>\n",
              "    .dataframe tbody tr th:only-of-type {\n",
              "        vertical-align: middle;\n",
              "    }\n",
              "\n",
              "    .dataframe tbody tr th {\n",
              "        vertical-align: top;\n",
              "    }\n",
              "\n",
              "    .dataframe thead th {\n",
              "        text-align: right;\n",
              "    }\n",
              "</style>\n",
              "<table border=\"1\" class=\"dataframe\">\n",
              "  <thead>\n",
              "    <tr style=\"text-align: right;\">\n",
              "      <th></th>\n",
              "      <th>target</th>\n",
              "    </tr>\n",
              "  </thead>\n",
              "  <tbody>\n",
              "    <tr>\n",
              "      <th>0</th>\n",
              "      <td>1</td>\n",
              "    </tr>\n",
              "    <tr>\n",
              "      <th>1</th>\n",
              "      <td>1</td>\n",
              "    </tr>\n",
              "    <tr>\n",
              "      <th>2</th>\n",
              "      <td>1</td>\n",
              "    </tr>\n",
              "    <tr>\n",
              "      <th>3</th>\n",
              "      <td>1</td>\n",
              "    </tr>\n",
              "    <tr>\n",
              "      <th>4</th>\n",
              "      <td>1</td>\n",
              "    </tr>\n",
              "  </tbody>\n",
              "</table>\n",
              "</div>\n",
              "      <button class=\"colab-df-convert\" onclick=\"convertToInteractive('df-25c5b456-c142-4033-a7f0-aa743b6031d4')\"\n",
              "              title=\"Convert this dataframe to an interactive table.\"\n",
              "              style=\"display:none;\">\n",
              "        \n",
              "  <svg xmlns=\"http://www.w3.org/2000/svg\" height=\"24px\"viewBox=\"0 0 24 24\"\n",
              "       width=\"24px\">\n",
              "    <path d=\"M0 0h24v24H0V0z\" fill=\"none\"/>\n",
              "    <path d=\"M18.56 5.44l.94 2.06.94-2.06 2.06-.94-2.06-.94-.94-2.06-.94 2.06-2.06.94zm-11 1L8.5 8.5l.94-2.06 2.06-.94-2.06-.94L8.5 2.5l-.94 2.06-2.06.94zm10 10l.94 2.06.94-2.06 2.06-.94-2.06-.94-.94-2.06-.94 2.06-2.06.94z\"/><path d=\"M17.41 7.96l-1.37-1.37c-.4-.4-.92-.59-1.43-.59-.52 0-1.04.2-1.43.59L10.3 9.45l-7.72 7.72c-.78.78-.78 2.05 0 2.83L4 21.41c.39.39.9.59 1.41.59.51 0 1.02-.2 1.41-.59l7.78-7.78 2.81-2.81c.8-.78.8-2.07 0-2.86zM5.41 20L4 18.59l7.72-7.72 1.47 1.35L5.41 20z\"/>\n",
              "  </svg>\n",
              "      </button>\n",
              "      \n",
              "  <style>\n",
              "    .colab-df-container {\n",
              "      display:flex;\n",
              "      flex-wrap:wrap;\n",
              "      gap: 12px;\n",
              "    }\n",
              "\n",
              "    .colab-df-convert {\n",
              "      background-color: #E8F0FE;\n",
              "      border: none;\n",
              "      border-radius: 50%;\n",
              "      cursor: pointer;\n",
              "      display: none;\n",
              "      fill: #1967D2;\n",
              "      height: 32px;\n",
              "      padding: 0 0 0 0;\n",
              "      width: 32px;\n",
              "    }\n",
              "\n",
              "    .colab-df-convert:hover {\n",
              "      background-color: #E2EBFA;\n",
              "      box-shadow: 0px 1px 2px rgba(60, 64, 67, 0.3), 0px 1px 3px 1px rgba(60, 64, 67, 0.15);\n",
              "      fill: #174EA6;\n",
              "    }\n",
              "\n",
              "    [theme=dark] .colab-df-convert {\n",
              "      background-color: #3B4455;\n",
              "      fill: #D2E3FC;\n",
              "    }\n",
              "\n",
              "    [theme=dark] .colab-df-convert:hover {\n",
              "      background-color: #434B5C;\n",
              "      box-shadow: 0px 1px 3px 1px rgba(0, 0, 0, 0.15);\n",
              "      filter: drop-shadow(0px 1px 2px rgba(0, 0, 0, 0.3));\n",
              "      fill: #FFFFFF;\n",
              "    }\n",
              "  </style>\n",
              "\n",
              "      <script>\n",
              "        const buttonEl =\n",
              "          document.querySelector('#df-25c5b456-c142-4033-a7f0-aa743b6031d4 button.colab-df-convert');\n",
              "        buttonEl.style.display =\n",
              "          google.colab.kernel.accessAllowed ? 'block' : 'none';\n",
              "\n",
              "        async function convertToInteractive(key) {\n",
              "          const element = document.querySelector('#df-25c5b456-c142-4033-a7f0-aa743b6031d4');\n",
              "          const dataTable =\n",
              "            await google.colab.kernel.invokeFunction('convertToInteractive',\n",
              "                                                     [key], {});\n",
              "          if (!dataTable) return;\n",
              "\n",
              "          const docLinkHtml = 'Like what you see? Visit the ' +\n",
              "            '<a target=\"_blank\" href=https://colab.research.google.com/notebooks/data_table.ipynb>data table notebook</a>'\n",
              "            + ' to learn more about interactive tables.';\n",
              "          element.innerHTML = '';\n",
              "          dataTable['output_type'] = 'display_data';\n",
              "          await google.colab.output.renderOutput(dataTable, element);\n",
              "          const docLink = document.createElement('div');\n",
              "          docLink.innerHTML = docLinkHtml;\n",
              "          element.appendChild(docLink);\n",
              "        }\n",
              "      </script>\n",
              "    </div>\n",
              "  </div>\n",
              "  "
            ]
          },
          "metadata": {},
          "execution_count": 2
        }
      ]
    },
    {
      "cell_type": "markdown",
      "source": [
        "###SHAPE - ROWS AND COLUMNS"
      ],
      "metadata": {
        "id": "_bUWFuvFNnXM"
      }
    },
    {
      "cell_type": "code",
      "source": [
        "rows, columns = X.shape\n",
        "print(f'X rows: {rows}')\n",
        "print(f'X columns: {columns}')"
      ],
      "metadata": {
        "colab": {
          "base_uri": "https://localhost:8080/"
        },
        "id": "PNIHj0gz_awZ",
        "outputId": "49101abe-c93c-4a1f-8b96-5292ff4fe903"
      },
      "execution_count": null,
      "outputs": [
        {
          "output_type": "stream",
          "name": "stdout",
          "text": [
            "X rows: 3750\n",
            "X columns: 10000\n"
          ]
        }
      ]
    },
    {
      "cell_type": "code",
      "source": [
        "rows, columns = y.shape\n",
        "print(f'X rows: {rows}')\n",
        "print(f'X columns: {columns}')"
      ],
      "metadata": {
        "id": "_2_MuMFv54Lt",
        "colab": {
          "base_uri": "https://localhost:8080/"
        },
        "outputId": "93d04f97-c466-4b75-b140-cb293eb3a22f"
      },
      "execution_count": null,
      "outputs": [
        {
          "output_type": "stream",
          "name": "stdout",
          "text": [
            "X rows: 3750\n",
            "X columns: 1\n"
          ]
        }
      ]
    },
    {
      "cell_type": "markdown",
      "source": [
        "###DATA TYPES"
      ],
      "metadata": {
        "id": "pA5GRAKDdFgE"
      }
    },
    {
      "cell_type": "code",
      "source": [
        "X_data_types = X.columns.to_series().groupby(X.dtypes).groups\n",
        "X_data_types.keys()"
      ],
      "metadata": {
        "colab": {
          "base_uri": "https://localhost:8080/"
        },
        "id": "N71V4CtxdHdI",
        "outputId": "7fa47ce0-56d4-402d-d60b-2a4875c328e2"
      },
      "execution_count": null,
      "outputs": [
        {
          "output_type": "execute_result",
          "data": {
            "text/plain": [
              "dict_keys([dtype('float64')])"
            ]
          },
          "metadata": {},
          "execution_count": 7
        }
      ]
    },
    {
      "cell_type": "code",
      "source": [
        "y_data_types = y.columns.to_series().groupby(y.dtypes).groups\n",
        "y_data_types.keys()"
      ],
      "metadata": {
        "colab": {
          "base_uri": "https://localhost:8080/"
        },
        "id": "mIH34qL71Xre",
        "outputId": "d7222171-1d32-4a8a-ed15-b72929a79015"
      },
      "execution_count": null,
      "outputs": [
        {
          "output_type": "execute_result",
          "data": {
            "text/plain": [
              "dict_keys([dtype('int64')])"
            ]
          },
          "metadata": {},
          "execution_count": 8
        }
      ]
    },
    {
      "cell_type": "markdown",
      "source": [
        "###MISSING VALUES"
      ],
      "metadata": {
        "id": "K11aVbyJNqwY"
      }
    },
    {
      "cell_type": "code",
      "source": [
        "# Checking the missing values\n",
        "print ('Missing values total for X: ', X.isnull().sum().sum())"
      ],
      "metadata": {
        "colab": {
          "base_uri": "https://localhost:8080/"
        },
        "id": "iRdAnMX59a5O",
        "outputId": "cead3950-5168-425d-bb5b-959003dd0437"
      },
      "execution_count": null,
      "outputs": [
        {
          "output_type": "stream",
          "name": "stdout",
          "text": [
            "Missing values total for X:  0\n"
          ]
        }
      ]
    },
    {
      "cell_type": "code",
      "source": [
        "# Checking the missing values\n",
        "print ('Missing values total for y: ', y.isnull().sum().sum())"
      ],
      "metadata": {
        "colab": {
          "base_uri": "https://localhost:8080/"
        },
        "id": "Uu1jvKcQ1kkw",
        "outputId": "445bb556-3ebd-48f6-cb7a-8192b3e280c2"
      },
      "execution_count": null,
      "outputs": [
        {
          "output_type": "stream",
          "name": "stdout",
          "text": [
            "Missing values total for y:  0\n"
          ]
        }
      ]
    },
    {
      "cell_type": "markdown",
      "source": [
        "###DESCRIPTIVE STATISTICS"
      ],
      "metadata": {
        "id": "Uu98k029Nt_M"
      }
    },
    {
      "cell_type": "code",
      "source": [
        "X_desc = X.describe().T\n",
        "X.describe().T"
      ],
      "metadata": {
        "id": "4AEZxf1092iq",
        "colab": {
          "base_uri": "https://localhost:8080/",
          "height": 424
        },
        "outputId": "e268099b-ff1f-4b7f-a6c3-542178c86202"
      },
      "execution_count": null,
      "outputs": [
        {
          "output_type": "execute_result",
          "data": {
            "text/plain": [
              "               count        mean           std         min          25%  \\\n",
              "feature_0     3750.0   30.644135    286.172414    -989.450   -163.78175   \n",
              "feature_1     3750.0    9.080955    213.166659    -859.922   -135.34350   \n",
              "feature_2     3750.0  169.679419  43665.003613 -163336.428 -29284.11950   \n",
              "feature_3     3750.0  811.083532  57123.457110 -243844.632 -38028.42900   \n",
              "feature_4     3750.0 -186.008805  21942.466227  -77566.109 -14426.79950   \n",
              "...              ...         ...           ...         ...          ...   \n",
              "feature_9995  3750.0   -1.426345    655.666258   -2165.769   -432.00075   \n",
              "feature_9996  3750.0    9.597250    204.731554    -739.205   -129.07625   \n",
              "feature_9997  3750.0   -2.031243    793.022407   -2731.037   -561.30400   \n",
              "feature_9998  3750.0   -2.841237    629.128655   -2223.909   -424.19275   \n",
              "feature_9999  3750.0   38.071903    768.405732   -2565.513   -462.82800   \n",
              "\n",
              "                    50%          75%         max  \n",
              "feature_0       35.4785    215.78050    1224.394  \n",
              "feature_1        2.6805    156.09575     722.868  \n",
              "feature_2     1181.6985  29630.91450  177744.241  \n",
              "feature_3      980.5880  40561.96025  215372.854  \n",
              "feature_4     -154.8350  14515.83300   86287.955  \n",
              "...                 ...          ...         ...  \n",
              "feature_9995    -3.7965    425.33800    2562.331  \n",
              "feature_9996     8.6005    149.85575     685.176  \n",
              "feature_9997    -4.2430    539.55000    3123.617  \n",
              "feature_9998    -7.6280    427.79450    2204.527  \n",
              "feature_9999    28.1070    552.17350    2664.074  \n",
              "\n",
              "[10000 rows x 8 columns]"
            ],
            "text/html": [
              "\n",
              "  <div id=\"df-714a516f-9fae-44fe-a1b8-6efa6a46a128\">\n",
              "    <div class=\"colab-df-container\">\n",
              "      <div>\n",
              "<style scoped>\n",
              "    .dataframe tbody tr th:only-of-type {\n",
              "        vertical-align: middle;\n",
              "    }\n",
              "\n",
              "    .dataframe tbody tr th {\n",
              "        vertical-align: top;\n",
              "    }\n",
              "\n",
              "    .dataframe thead th {\n",
              "        text-align: right;\n",
              "    }\n",
              "</style>\n",
              "<table border=\"1\" class=\"dataframe\">\n",
              "  <thead>\n",
              "    <tr style=\"text-align: right;\">\n",
              "      <th></th>\n",
              "      <th>count</th>\n",
              "      <th>mean</th>\n",
              "      <th>std</th>\n",
              "      <th>min</th>\n",
              "      <th>25%</th>\n",
              "      <th>50%</th>\n",
              "      <th>75%</th>\n",
              "      <th>max</th>\n",
              "    </tr>\n",
              "  </thead>\n",
              "  <tbody>\n",
              "    <tr>\n",
              "      <th>feature_0</th>\n",
              "      <td>3750.0</td>\n",
              "      <td>30.644135</td>\n",
              "      <td>286.172414</td>\n",
              "      <td>-989.450</td>\n",
              "      <td>-163.78175</td>\n",
              "      <td>35.4785</td>\n",
              "      <td>215.78050</td>\n",
              "      <td>1224.394</td>\n",
              "    </tr>\n",
              "    <tr>\n",
              "      <th>feature_1</th>\n",
              "      <td>3750.0</td>\n",
              "      <td>9.080955</td>\n",
              "      <td>213.166659</td>\n",
              "      <td>-859.922</td>\n",
              "      <td>-135.34350</td>\n",
              "      <td>2.6805</td>\n",
              "      <td>156.09575</td>\n",
              "      <td>722.868</td>\n",
              "    </tr>\n",
              "    <tr>\n",
              "      <th>feature_2</th>\n",
              "      <td>3750.0</td>\n",
              "      <td>169.679419</td>\n",
              "      <td>43665.003613</td>\n",
              "      <td>-163336.428</td>\n",
              "      <td>-29284.11950</td>\n",
              "      <td>1181.6985</td>\n",
              "      <td>29630.91450</td>\n",
              "      <td>177744.241</td>\n",
              "    </tr>\n",
              "    <tr>\n",
              "      <th>feature_3</th>\n",
              "      <td>3750.0</td>\n",
              "      <td>811.083532</td>\n",
              "      <td>57123.457110</td>\n",
              "      <td>-243844.632</td>\n",
              "      <td>-38028.42900</td>\n",
              "      <td>980.5880</td>\n",
              "      <td>40561.96025</td>\n",
              "      <td>215372.854</td>\n",
              "    </tr>\n",
              "    <tr>\n",
              "      <th>feature_4</th>\n",
              "      <td>3750.0</td>\n",
              "      <td>-186.008805</td>\n",
              "      <td>21942.466227</td>\n",
              "      <td>-77566.109</td>\n",
              "      <td>-14426.79950</td>\n",
              "      <td>-154.8350</td>\n",
              "      <td>14515.83300</td>\n",
              "      <td>86287.955</td>\n",
              "    </tr>\n",
              "    <tr>\n",
              "      <th>...</th>\n",
              "      <td>...</td>\n",
              "      <td>...</td>\n",
              "      <td>...</td>\n",
              "      <td>...</td>\n",
              "      <td>...</td>\n",
              "      <td>...</td>\n",
              "      <td>...</td>\n",
              "      <td>...</td>\n",
              "    </tr>\n",
              "    <tr>\n",
              "      <th>feature_9995</th>\n",
              "      <td>3750.0</td>\n",
              "      <td>-1.426345</td>\n",
              "      <td>655.666258</td>\n",
              "      <td>-2165.769</td>\n",
              "      <td>-432.00075</td>\n",
              "      <td>-3.7965</td>\n",
              "      <td>425.33800</td>\n",
              "      <td>2562.331</td>\n",
              "    </tr>\n",
              "    <tr>\n",
              "      <th>feature_9996</th>\n",
              "      <td>3750.0</td>\n",
              "      <td>9.597250</td>\n",
              "      <td>204.731554</td>\n",
              "      <td>-739.205</td>\n",
              "      <td>-129.07625</td>\n",
              "      <td>8.6005</td>\n",
              "      <td>149.85575</td>\n",
              "      <td>685.176</td>\n",
              "    </tr>\n",
              "    <tr>\n",
              "      <th>feature_9997</th>\n",
              "      <td>3750.0</td>\n",
              "      <td>-2.031243</td>\n",
              "      <td>793.022407</td>\n",
              "      <td>-2731.037</td>\n",
              "      <td>-561.30400</td>\n",
              "      <td>-4.2430</td>\n",
              "      <td>539.55000</td>\n",
              "      <td>3123.617</td>\n",
              "    </tr>\n",
              "    <tr>\n",
              "      <th>feature_9998</th>\n",
              "      <td>3750.0</td>\n",
              "      <td>-2.841237</td>\n",
              "      <td>629.128655</td>\n",
              "      <td>-2223.909</td>\n",
              "      <td>-424.19275</td>\n",
              "      <td>-7.6280</td>\n",
              "      <td>427.79450</td>\n",
              "      <td>2204.527</td>\n",
              "    </tr>\n",
              "    <tr>\n",
              "      <th>feature_9999</th>\n",
              "      <td>3750.0</td>\n",
              "      <td>38.071903</td>\n",
              "      <td>768.405732</td>\n",
              "      <td>-2565.513</td>\n",
              "      <td>-462.82800</td>\n",
              "      <td>28.1070</td>\n",
              "      <td>552.17350</td>\n",
              "      <td>2664.074</td>\n",
              "    </tr>\n",
              "  </tbody>\n",
              "</table>\n",
              "<p>10000 rows × 8 columns</p>\n",
              "</div>\n",
              "      <button class=\"colab-df-convert\" onclick=\"convertToInteractive('df-714a516f-9fae-44fe-a1b8-6efa6a46a128')\"\n",
              "              title=\"Convert this dataframe to an interactive table.\"\n",
              "              style=\"display:none;\">\n",
              "        \n",
              "  <svg xmlns=\"http://www.w3.org/2000/svg\" height=\"24px\"viewBox=\"0 0 24 24\"\n",
              "       width=\"24px\">\n",
              "    <path d=\"M0 0h24v24H0V0z\" fill=\"none\"/>\n",
              "    <path d=\"M18.56 5.44l.94 2.06.94-2.06 2.06-.94-2.06-.94-.94-2.06-.94 2.06-2.06.94zm-11 1L8.5 8.5l.94-2.06 2.06-.94-2.06-.94L8.5 2.5l-.94 2.06-2.06.94zm10 10l.94 2.06.94-2.06 2.06-.94-2.06-.94-.94-2.06-.94 2.06-2.06.94z\"/><path d=\"M17.41 7.96l-1.37-1.37c-.4-.4-.92-.59-1.43-.59-.52 0-1.04.2-1.43.59L10.3 9.45l-7.72 7.72c-.78.78-.78 2.05 0 2.83L4 21.41c.39.39.9.59 1.41.59.51 0 1.02-.2 1.41-.59l7.78-7.78 2.81-2.81c.8-.78.8-2.07 0-2.86zM5.41 20L4 18.59l7.72-7.72 1.47 1.35L5.41 20z\"/>\n",
              "  </svg>\n",
              "      </button>\n",
              "      \n",
              "  <style>\n",
              "    .colab-df-container {\n",
              "      display:flex;\n",
              "      flex-wrap:wrap;\n",
              "      gap: 12px;\n",
              "    }\n",
              "\n",
              "    .colab-df-convert {\n",
              "      background-color: #E8F0FE;\n",
              "      border: none;\n",
              "      border-radius: 50%;\n",
              "      cursor: pointer;\n",
              "      display: none;\n",
              "      fill: #1967D2;\n",
              "      height: 32px;\n",
              "      padding: 0 0 0 0;\n",
              "      width: 32px;\n",
              "    }\n",
              "\n",
              "    .colab-df-convert:hover {\n",
              "      background-color: #E2EBFA;\n",
              "      box-shadow: 0px 1px 2px rgba(60, 64, 67, 0.3), 0px 1px 3px 1px rgba(60, 64, 67, 0.15);\n",
              "      fill: #174EA6;\n",
              "    }\n",
              "\n",
              "    [theme=dark] .colab-df-convert {\n",
              "      background-color: #3B4455;\n",
              "      fill: #D2E3FC;\n",
              "    }\n",
              "\n",
              "    [theme=dark] .colab-df-convert:hover {\n",
              "      background-color: #434B5C;\n",
              "      box-shadow: 0px 1px 3px 1px rgba(0, 0, 0, 0.15);\n",
              "      filter: drop-shadow(0px 1px 2px rgba(0, 0, 0, 0.3));\n",
              "      fill: #FFFFFF;\n",
              "    }\n",
              "  </style>\n",
              "\n",
              "      <script>\n",
              "        const buttonEl =\n",
              "          document.querySelector('#df-714a516f-9fae-44fe-a1b8-6efa6a46a128 button.colab-df-convert');\n",
              "        buttonEl.style.display =\n",
              "          google.colab.kernel.accessAllowed ? 'block' : 'none';\n",
              "\n",
              "        async function convertToInteractive(key) {\n",
              "          const element = document.querySelector('#df-714a516f-9fae-44fe-a1b8-6efa6a46a128');\n",
              "          const dataTable =\n",
              "            await google.colab.kernel.invokeFunction('convertToInteractive',\n",
              "                                                     [key], {});\n",
              "          if (!dataTable) return;\n",
              "\n",
              "          const docLinkHtml = 'Like what you see? Visit the ' +\n",
              "            '<a target=\"_blank\" href=https://colab.research.google.com/notebooks/data_table.ipynb>data table notebook</a>'\n",
              "            + ' to learn more about interactive tables.';\n",
              "          element.innerHTML = '';\n",
              "          dataTable['output_type'] = 'display_data';\n",
              "          await google.colab.output.renderOutput(dataTable, element);\n",
              "          const docLink = document.createElement('div');\n",
              "          docLink.innerHTML = docLinkHtml;\n",
              "          element.appendChild(docLink);\n",
              "        }\n",
              "      </script>\n",
              "    </div>\n",
              "  </div>\n",
              "  "
            ]
          },
          "metadata": {},
          "execution_count": 9
        }
      ]
    },
    {
      "cell_type": "markdown",
      "source": [
        "###BIN COUNT FOR TARGET"
      ],
      "metadata": {
        "id": "rE3SLXzw182u"
      }
    },
    {
      "cell_type": "code",
      "source": [
        "y.groupby(['target'])['target'].count()"
      ],
      "metadata": {
        "colab": {
          "base_uri": "https://localhost:8080/"
        },
        "id": "JBN3zOEH18hg",
        "outputId": "109283f2-e1c2-40d4-e2ec-3222beb54298"
      },
      "execution_count": null,
      "outputs": [
        {
          "output_type": "execute_result",
          "data": {
            "text/plain": [
              "target\n",
              "-1     375\n",
              " 1    3375\n",
              "Name: target, dtype: int64"
            ]
          },
          "metadata": {},
          "execution_count": 11
        }
      ]
    },
    {
      "cell_type": "markdown",
      "source": [
        "###INTERCORRELATIONS\n",
        "Analiza interkorelacji\n",
        "\n",
        "https://www.projectpro.io/recipes/drop-out-highly-correlated-features-in-python\n",
        "https://chrisalbon.com/code/machine_learning/feature_selection/drop_highly_correlated_features/"
      ],
      "metadata": {
        "id": "zEHciZNKNxRV"
      }
    },
    {
      "cell_type": "code",
      "source": [
        "cor_matrix = X.corr().abs()\n",
        "print(cor_matrix)"
      ],
      "metadata": {
        "colab": {
          "base_uri": "https://localhost:8080/"
        },
        "id": "REfWu9AeCgvb",
        "outputId": "a61dde92-933a-4675-ba17-5919102b0eb5"
      },
      "execution_count": null,
      "outputs": [
        {
          "output_type": "stream",
          "name": "stdout",
          "text": [
            "              feature_0  feature_1  feature_2  feature_3  feature_4  \\\n",
            "feature_0      1.000000   0.009717   0.007823   0.010449   0.023684   \n",
            "feature_1      0.009717   1.000000   0.014160   0.023034   0.003338   \n",
            "feature_2      0.007823   0.014160   1.000000   0.010302   0.015079   \n",
            "feature_3      0.010449   0.023034   0.010302   1.000000   0.024708   \n",
            "feature_4      0.023684   0.003338   0.015079   0.024708   1.000000   \n",
            "...                 ...        ...        ...        ...        ...   \n",
            "feature_9995   0.005980   0.017223   0.025339   0.006347   0.019803   \n",
            "feature_9996   0.004817   0.004058   0.032476   0.013508   0.004072   \n",
            "feature_9997   0.002374   0.002938   0.018478   0.010463   0.029769   \n",
            "feature_9998   0.004539   0.012621   0.017792   0.003039   0.000157   \n",
            "feature_9999   0.037154   0.016903   0.021163   0.015791   0.005128   \n",
            "\n",
            "              feature_5  feature_6  feature_7  feature_8  feature_9  ...  \\\n",
            "feature_0      0.007333   0.015694   0.013918   0.018783   0.003965  ...   \n",
            "feature_1      0.001651   0.001523   0.002178   0.001311   0.012276  ...   \n",
            "feature_2      0.018820   0.012610   0.011906   0.027900   0.017817  ...   \n",
            "feature_3      0.000070   0.007635   0.006952   0.002488   0.000677  ...   \n",
            "feature_4      0.017415   0.018771   0.003130   0.004630   0.026460  ...   \n",
            "...                 ...        ...        ...        ...        ...  ...   \n",
            "feature_9995   0.022484   0.001115   0.024465   0.010103   0.012017  ...   \n",
            "feature_9996   0.020380   0.004446   0.021117   0.002743   0.027519  ...   \n",
            "feature_9997   0.012821   0.003756   0.019836   0.010723   0.000662  ...   \n",
            "feature_9998   0.008822   0.003015   0.022031   0.013158   0.001864  ...   \n",
            "feature_9999   0.017924   0.010467   0.016271   0.018773   0.007452  ...   \n",
            "\n",
            "              feature_9990  feature_9991  feature_9992  feature_9993  \\\n",
            "feature_0         0.026716      0.022556      0.002033      0.002774   \n",
            "feature_1         0.019026      0.000439      0.007821      0.021165   \n",
            "feature_2         0.005629      0.004751      0.012520      0.006561   \n",
            "feature_3         0.041789      0.006706      0.036258      0.031660   \n",
            "feature_4         0.026909      0.029244      0.010195      0.009255   \n",
            "...                    ...           ...           ...           ...   \n",
            "feature_9995      0.000334      0.024582      0.011104      0.007001   \n",
            "feature_9996      0.003704      0.004205      0.009812      0.010792   \n",
            "feature_9997      0.002803      0.011812      0.026363      0.014296   \n",
            "feature_9998      0.014078      0.002885      0.015858      0.008329   \n",
            "feature_9999      0.011643      0.025583      0.010233      0.015585   \n",
            "\n",
            "              feature_9994  feature_9995  feature_9996  feature_9997  \\\n",
            "feature_0         0.006228      0.005980      0.004817      0.002374   \n",
            "feature_1         0.001081      0.017223      0.004058      0.002938   \n",
            "feature_2         0.035548      0.025339      0.032476      0.018478   \n",
            "feature_3         0.014701      0.006347      0.013508      0.010463   \n",
            "feature_4         0.001838      0.019803      0.004072      0.029769   \n",
            "...                    ...           ...           ...           ...   \n",
            "feature_9995      0.013349      1.000000      0.014523      0.020255   \n",
            "feature_9996      0.007482      0.014523      1.000000      0.003054   \n",
            "feature_9997      0.022679      0.020255      0.003054      1.000000   \n",
            "feature_9998      0.005671      0.011118      0.002754      0.022022   \n",
            "feature_9999      0.024727      0.000510      0.003309      0.005820   \n",
            "\n",
            "              feature_9998  feature_9999  \n",
            "feature_0         0.004539      0.037154  \n",
            "feature_1         0.012621      0.016903  \n",
            "feature_2         0.017792      0.021163  \n",
            "feature_3         0.003039      0.015791  \n",
            "feature_4         0.000157      0.005128  \n",
            "...                    ...           ...  \n",
            "feature_9995      0.011118      0.000510  \n",
            "feature_9996      0.002754      0.003309  \n",
            "feature_9997      0.022022      0.005820  \n",
            "feature_9998      1.000000      0.024653  \n",
            "feature_9999      0.024653      1.000000  \n",
            "\n",
            "[10000 rows x 10000 columns]\n"
          ]
        }
      ]
    },
    {
      "cell_type": "code",
      "source": [
        "import numpy as np\n",
        "\n",
        "upper_tri = cor_matrix.where(np.triu(np.ones(cor_matrix.shape),k=1).astype(np.bool))\n",
        "print(upper_tri)"
      ],
      "metadata": {
        "colab": {
          "base_uri": "https://localhost:8080/"
        },
        "id": "0ZcH9B56C-TM",
        "outputId": "945c3e44-945e-4e49-8a87-4cfd4c14d423"
      },
      "execution_count": null,
      "outputs": [
        {
          "output_type": "stream",
          "name": "stderr",
          "text": [
            "/usr/local/lib/python3.7/dist-packages/ipykernel_launcher.py:3: DeprecationWarning: `np.bool` is a deprecated alias for the builtin `bool`. To silence this warning, use `bool` by itself. Doing this will not modify any behavior and is safe. If you specifically wanted the numpy scalar type, use `np.bool_` here.\n",
            "Deprecated in NumPy 1.20; for more details and guidance: https://numpy.org/devdocs/release/1.20.0-notes.html#deprecations\n",
            "  This is separate from the ipykernel package so we can avoid doing imports until\n"
          ]
        },
        {
          "output_type": "stream",
          "name": "stdout",
          "text": [
            "              feature_0  feature_1  feature_2  feature_3  feature_4  \\\n",
            "feature_0           NaN   0.009717   0.007823   0.010449   0.023684   \n",
            "feature_1           NaN        NaN   0.014160   0.023034   0.003338   \n",
            "feature_2           NaN        NaN        NaN   0.010302   0.015079   \n",
            "feature_3           NaN        NaN        NaN        NaN   0.024708   \n",
            "feature_4           NaN        NaN        NaN        NaN        NaN   \n",
            "...                 ...        ...        ...        ...        ...   \n",
            "feature_9995        NaN        NaN        NaN        NaN        NaN   \n",
            "feature_9996        NaN        NaN        NaN        NaN        NaN   \n",
            "feature_9997        NaN        NaN        NaN        NaN        NaN   \n",
            "feature_9998        NaN        NaN        NaN        NaN        NaN   \n",
            "feature_9999        NaN        NaN        NaN        NaN        NaN   \n",
            "\n",
            "              feature_5  feature_6  feature_7  feature_8  feature_9  ...  \\\n",
            "feature_0      0.007333   0.015694   0.013918   0.018783   0.003965  ...   \n",
            "feature_1      0.001651   0.001523   0.002178   0.001311   0.012276  ...   \n",
            "feature_2      0.018820   0.012610   0.011906   0.027900   0.017817  ...   \n",
            "feature_3      0.000070   0.007635   0.006952   0.002488   0.000677  ...   \n",
            "feature_4      0.017415   0.018771   0.003130   0.004630   0.026460  ...   \n",
            "...                 ...        ...        ...        ...        ...  ...   \n",
            "feature_9995        NaN        NaN        NaN        NaN        NaN  ...   \n",
            "feature_9996        NaN        NaN        NaN        NaN        NaN  ...   \n",
            "feature_9997        NaN        NaN        NaN        NaN        NaN  ...   \n",
            "feature_9998        NaN        NaN        NaN        NaN        NaN  ...   \n",
            "feature_9999        NaN        NaN        NaN        NaN        NaN  ...   \n",
            "\n",
            "              feature_9990  feature_9991  feature_9992  feature_9993  \\\n",
            "feature_0         0.026716      0.022556      0.002033      0.002774   \n",
            "feature_1         0.019026      0.000439      0.007821      0.021165   \n",
            "feature_2         0.005629      0.004751      0.012520      0.006561   \n",
            "feature_3         0.041789      0.006706      0.036258      0.031660   \n",
            "feature_4         0.026909      0.029244      0.010195      0.009255   \n",
            "...                    ...           ...           ...           ...   \n",
            "feature_9995           NaN           NaN           NaN           NaN   \n",
            "feature_9996           NaN           NaN           NaN           NaN   \n",
            "feature_9997           NaN           NaN           NaN           NaN   \n",
            "feature_9998           NaN           NaN           NaN           NaN   \n",
            "feature_9999           NaN           NaN           NaN           NaN   \n",
            "\n",
            "              feature_9994  feature_9995  feature_9996  feature_9997  \\\n",
            "feature_0         0.006228      0.005980      0.004817      0.002374   \n",
            "feature_1         0.001081      0.017223      0.004058      0.002938   \n",
            "feature_2         0.035548      0.025339      0.032476      0.018478   \n",
            "feature_3         0.014701      0.006347      0.013508      0.010463   \n",
            "feature_4         0.001838      0.019803      0.004072      0.029769   \n",
            "...                    ...           ...           ...           ...   \n",
            "feature_9995           NaN           NaN      0.014523      0.020255   \n",
            "feature_9996           NaN           NaN           NaN      0.003054   \n",
            "feature_9997           NaN           NaN           NaN           NaN   \n",
            "feature_9998           NaN           NaN           NaN           NaN   \n",
            "feature_9999           NaN           NaN           NaN           NaN   \n",
            "\n",
            "              feature_9998  feature_9999  \n",
            "feature_0         0.004539      0.037154  \n",
            "feature_1         0.012621      0.016903  \n",
            "feature_2         0.017792      0.021163  \n",
            "feature_3         0.003039      0.015791  \n",
            "feature_4         0.000157      0.005128  \n",
            "...                    ...           ...  \n",
            "feature_9995      0.011118      0.000510  \n",
            "feature_9996      0.002754      0.003309  \n",
            "feature_9997      0.022022      0.005820  \n",
            "feature_9998           NaN      0.024653  \n",
            "feature_9999           NaN           NaN  \n",
            "\n",
            "[10000 rows x 10000 columns]\n"
          ]
        }
      ]
    },
    {
      "cell_type": "code",
      "source": [
        "to_drop = [column for column in upper_tri.columns if any(upper_tri[column] > 0.7)]\n",
        "print(); print(to_drop)"
      ],
      "metadata": {
        "colab": {
          "base_uri": "https://localhost:8080/"
        },
        "id": "TJqHSIsJDDkk",
        "outputId": "4a8a896f-f94f-4d0d-c1dc-0ecd97a7c798"
      },
      "execution_count": null,
      "outputs": [
        {
          "output_type": "stream",
          "name": "stdout",
          "text": [
            "\n",
            "['feature_5432']\n"
          ]
        }
      ]
    },
    {
      "cell_type": "markdown",
      "source": [
        "###OUTLIERS DETECTION"
      ],
      "metadata": {
        "id": "SCNuaKIP0Hzc"
      }
    },
    {
      "cell_type": "code",
      "source": [
        ""
      ],
      "metadata": {
        "id": "afvM7Eb50Ll3"
      },
      "execution_count": null,
      "outputs": []
    },
    {
      "cell_type": "markdown",
      "source": [
        "##2.STANDARIZATION\n"
      ],
      "metadata": {
        "id": "ZCszAKPDA9yH"
      }
    },
    {
      "cell_type": "markdown",
      "source": [
        "###STANDARD SCALER"
      ],
      "metadata": {
        "id": "U4GzchD6BGYB"
      }
    },
    {
      "cell_type": "code",
      "source": [
        "from sklearn.preprocessing import StandardScaler\n",
        "\n",
        "scaler = StandardScaler()\n",
        "X = scaler.fit_transform(X)\n"
      ],
      "metadata": {
        "id": "MNCuxKjz2uAz"
      },
      "execution_count": 2,
      "outputs": []
    },
    {
      "cell_type": "code",
      "source": [
        "pd.DataFrame(data = X, columns = features)"
      ],
      "metadata": {
        "colab": {
          "base_uri": "https://localhost:8080/",
          "height": 488
        },
        "id": "HrqFWEqJ24w9",
        "outputId": "13724a51-5799-4120-a2a3-e4ee85280919"
      },
      "execution_count": 3,
      "outputs": [
        {
          "output_type": "execute_result",
          "data": {
            "text/plain": [
              "      feature_0  feature_1  feature_2  feature_3  feature_4  feature_5  \\\n",
              "0      0.956603  -2.090995  -0.779319  -1.705003  -0.679182  -1.152735   \n",
              "1      0.081790   0.380063  -0.007431  -0.086273   1.757154  -0.864456   \n",
              "2      0.844093  -0.989109   0.092602  -0.173940  -1.606071  -1.482817   \n",
              "3      0.487054   0.279889   1.110703   0.506412  -0.625261   1.221940   \n",
              "4      0.196247   0.802160  -1.140956   0.029840   1.202957  -0.608846   \n",
              "...         ...        ...        ...        ...        ...        ...   \n",
              "3745   1.076050  -0.503415  -0.862558  -0.055282  -0.004800   0.741343   \n",
              "3746   0.261649  -0.828331   1.243216  -0.680494  -0.556439   0.963510   \n",
              "3747   0.218575  -0.771185  -0.383086  -0.199883  -0.129528  -0.149292   \n",
              "3748   2.888231   0.418043  -0.907012   0.444785  -0.058312  -0.514735   \n",
              "3749  -0.699106   0.554546  -0.568757   0.633969  -0.788796   0.029225   \n",
              "\n",
              "      feature_6  feature_7  feature_8  feature_9  ...  feature_9990  \\\n",
              "0     -0.520916   0.328344  -0.407837  -2.204406  ...      0.302007   \n",
              "1      1.214323   0.293748   1.502145   0.643388  ...     -0.707085   \n",
              "2     -0.591553  -0.570965  -1.099315  -0.744593  ...      1.142062   \n",
              "3     -0.314777  -0.955742  -1.326159  -0.196054  ...     -1.574800   \n",
              "4     -0.238682  -0.083731  -0.327290  -0.241897  ...     -0.430029   \n",
              "...         ...        ...        ...        ...  ...           ...   \n",
              "3745   1.132077   0.428989   1.880958   0.147017  ...      1.250072   \n",
              "3746   0.084122  -1.607334  -0.349195  -1.438059  ...     -0.034319   \n",
              "3747  -2.479446  -0.078812  -1.621631  -1.130816  ...     -1.325665   \n",
              "3748  -1.132560   1.118615   0.236770  -1.250731  ...      0.694050   \n",
              "3749   0.596378   0.156645  -0.436208  -1.957015  ...     -0.376119   \n",
              "\n",
              "      feature_9991  feature_9992  feature_9993  feature_9994  feature_9995  \\\n",
              "0        -0.046534     -1.034740      0.476194     -0.595632     -2.131212   \n",
              "1        -0.820444     -2.130636      0.163723     -0.142053     -0.421798   \n",
              "2        -0.728438      0.453446      1.796409     -0.166745     -0.263702   \n",
              "3         0.695451      1.096150      0.211454      2.165549      0.227377   \n",
              "4        -0.817988      0.055310     -0.703622      0.500416      0.023897   \n",
              "...            ...           ...           ...           ...           ...   \n",
              "3745     -1.153307      1.537867     -0.966474      0.066785      0.503467   \n",
              "3746     -0.055959      0.308261     -0.023961     -1.323867     -0.138543   \n",
              "3747     -0.317795     -0.057320      1.089051      0.732304     -0.868406   \n",
              "3748     -2.688472     -0.235554      0.803295     -0.250858     -0.819413   \n",
              "3749     -0.807665      0.759775     -0.183540     -0.386674     -0.248166   \n",
              "\n",
              "      feature_9996  feature_9997  feature_9998  feature_9999  \n",
              "0         0.161407      0.975154     -0.299314      1.715553  \n",
              "1        -0.529819     -1.465157      0.426158     -1.340783  \n",
              "2        -0.719131     -1.979327      1.082855      1.278390  \n",
              "3         0.106670     -0.987100      0.916110      1.843469  \n",
              "4         1.259157     -0.293257     -0.335370      1.087226  \n",
              "...            ...           ...           ...           ...  \n",
              "3745      0.468240     -0.462599      0.605455     -0.378908  \n",
              "3746      0.373772     -0.003662      0.693934     -0.511764  \n",
              "3747     -0.075266      1.008543     -0.455180     -2.685843  \n",
              "3748      0.643698      0.699954      0.497534      0.219981  \n",
              "3749      0.048205     -1.058161     -1.543720     -1.094909  \n",
              "\n",
              "[3750 rows x 10000 columns]"
            ],
            "text/html": [
              "\n",
              "  <div id=\"df-819331b3-a417-49e3-9c0d-1278224fd852\">\n",
              "    <div class=\"colab-df-container\">\n",
              "      <div>\n",
              "<style scoped>\n",
              "    .dataframe tbody tr th:only-of-type {\n",
              "        vertical-align: middle;\n",
              "    }\n",
              "\n",
              "    .dataframe tbody tr th {\n",
              "        vertical-align: top;\n",
              "    }\n",
              "\n",
              "    .dataframe thead th {\n",
              "        text-align: right;\n",
              "    }\n",
              "</style>\n",
              "<table border=\"1\" class=\"dataframe\">\n",
              "  <thead>\n",
              "    <tr style=\"text-align: right;\">\n",
              "      <th></th>\n",
              "      <th>feature_0</th>\n",
              "      <th>feature_1</th>\n",
              "      <th>feature_2</th>\n",
              "      <th>feature_3</th>\n",
              "      <th>feature_4</th>\n",
              "      <th>feature_5</th>\n",
              "      <th>feature_6</th>\n",
              "      <th>feature_7</th>\n",
              "      <th>feature_8</th>\n",
              "      <th>feature_9</th>\n",
              "      <th>...</th>\n",
              "      <th>feature_9990</th>\n",
              "      <th>feature_9991</th>\n",
              "      <th>feature_9992</th>\n",
              "      <th>feature_9993</th>\n",
              "      <th>feature_9994</th>\n",
              "      <th>feature_9995</th>\n",
              "      <th>feature_9996</th>\n",
              "      <th>feature_9997</th>\n",
              "      <th>feature_9998</th>\n",
              "      <th>feature_9999</th>\n",
              "    </tr>\n",
              "  </thead>\n",
              "  <tbody>\n",
              "    <tr>\n",
              "      <th>0</th>\n",
              "      <td>0.956603</td>\n",
              "      <td>-2.090995</td>\n",
              "      <td>-0.779319</td>\n",
              "      <td>-1.705003</td>\n",
              "      <td>-0.679182</td>\n",
              "      <td>-1.152735</td>\n",
              "      <td>-0.520916</td>\n",
              "      <td>0.328344</td>\n",
              "      <td>-0.407837</td>\n",
              "      <td>-2.204406</td>\n",
              "      <td>...</td>\n",
              "      <td>0.302007</td>\n",
              "      <td>-0.046534</td>\n",
              "      <td>-1.034740</td>\n",
              "      <td>0.476194</td>\n",
              "      <td>-0.595632</td>\n",
              "      <td>-2.131212</td>\n",
              "      <td>0.161407</td>\n",
              "      <td>0.975154</td>\n",
              "      <td>-0.299314</td>\n",
              "      <td>1.715553</td>\n",
              "    </tr>\n",
              "    <tr>\n",
              "      <th>1</th>\n",
              "      <td>0.081790</td>\n",
              "      <td>0.380063</td>\n",
              "      <td>-0.007431</td>\n",
              "      <td>-0.086273</td>\n",
              "      <td>1.757154</td>\n",
              "      <td>-0.864456</td>\n",
              "      <td>1.214323</td>\n",
              "      <td>0.293748</td>\n",
              "      <td>1.502145</td>\n",
              "      <td>0.643388</td>\n",
              "      <td>...</td>\n",
              "      <td>-0.707085</td>\n",
              "      <td>-0.820444</td>\n",
              "      <td>-2.130636</td>\n",
              "      <td>0.163723</td>\n",
              "      <td>-0.142053</td>\n",
              "      <td>-0.421798</td>\n",
              "      <td>-0.529819</td>\n",
              "      <td>-1.465157</td>\n",
              "      <td>0.426158</td>\n",
              "      <td>-1.340783</td>\n",
              "    </tr>\n",
              "    <tr>\n",
              "      <th>2</th>\n",
              "      <td>0.844093</td>\n",
              "      <td>-0.989109</td>\n",
              "      <td>0.092602</td>\n",
              "      <td>-0.173940</td>\n",
              "      <td>-1.606071</td>\n",
              "      <td>-1.482817</td>\n",
              "      <td>-0.591553</td>\n",
              "      <td>-0.570965</td>\n",
              "      <td>-1.099315</td>\n",
              "      <td>-0.744593</td>\n",
              "      <td>...</td>\n",
              "      <td>1.142062</td>\n",
              "      <td>-0.728438</td>\n",
              "      <td>0.453446</td>\n",
              "      <td>1.796409</td>\n",
              "      <td>-0.166745</td>\n",
              "      <td>-0.263702</td>\n",
              "      <td>-0.719131</td>\n",
              "      <td>-1.979327</td>\n",
              "      <td>1.082855</td>\n",
              "      <td>1.278390</td>\n",
              "    </tr>\n",
              "    <tr>\n",
              "      <th>3</th>\n",
              "      <td>0.487054</td>\n",
              "      <td>0.279889</td>\n",
              "      <td>1.110703</td>\n",
              "      <td>0.506412</td>\n",
              "      <td>-0.625261</td>\n",
              "      <td>1.221940</td>\n",
              "      <td>-0.314777</td>\n",
              "      <td>-0.955742</td>\n",
              "      <td>-1.326159</td>\n",
              "      <td>-0.196054</td>\n",
              "      <td>...</td>\n",
              "      <td>-1.574800</td>\n",
              "      <td>0.695451</td>\n",
              "      <td>1.096150</td>\n",
              "      <td>0.211454</td>\n",
              "      <td>2.165549</td>\n",
              "      <td>0.227377</td>\n",
              "      <td>0.106670</td>\n",
              "      <td>-0.987100</td>\n",
              "      <td>0.916110</td>\n",
              "      <td>1.843469</td>\n",
              "    </tr>\n",
              "    <tr>\n",
              "      <th>4</th>\n",
              "      <td>0.196247</td>\n",
              "      <td>0.802160</td>\n",
              "      <td>-1.140956</td>\n",
              "      <td>0.029840</td>\n",
              "      <td>1.202957</td>\n",
              "      <td>-0.608846</td>\n",
              "      <td>-0.238682</td>\n",
              "      <td>-0.083731</td>\n",
              "      <td>-0.327290</td>\n",
              "      <td>-0.241897</td>\n",
              "      <td>...</td>\n",
              "      <td>-0.430029</td>\n",
              "      <td>-0.817988</td>\n",
              "      <td>0.055310</td>\n",
              "      <td>-0.703622</td>\n",
              "      <td>0.500416</td>\n",
              "      <td>0.023897</td>\n",
              "      <td>1.259157</td>\n",
              "      <td>-0.293257</td>\n",
              "      <td>-0.335370</td>\n",
              "      <td>1.087226</td>\n",
              "    </tr>\n",
              "    <tr>\n",
              "      <th>...</th>\n",
              "      <td>...</td>\n",
              "      <td>...</td>\n",
              "      <td>...</td>\n",
              "      <td>...</td>\n",
              "      <td>...</td>\n",
              "      <td>...</td>\n",
              "      <td>...</td>\n",
              "      <td>...</td>\n",
              "      <td>...</td>\n",
              "      <td>...</td>\n",
              "      <td>...</td>\n",
              "      <td>...</td>\n",
              "      <td>...</td>\n",
              "      <td>...</td>\n",
              "      <td>...</td>\n",
              "      <td>...</td>\n",
              "      <td>...</td>\n",
              "      <td>...</td>\n",
              "      <td>...</td>\n",
              "      <td>...</td>\n",
              "      <td>...</td>\n",
              "    </tr>\n",
              "    <tr>\n",
              "      <th>3745</th>\n",
              "      <td>1.076050</td>\n",
              "      <td>-0.503415</td>\n",
              "      <td>-0.862558</td>\n",
              "      <td>-0.055282</td>\n",
              "      <td>-0.004800</td>\n",
              "      <td>0.741343</td>\n",
              "      <td>1.132077</td>\n",
              "      <td>0.428989</td>\n",
              "      <td>1.880958</td>\n",
              "      <td>0.147017</td>\n",
              "      <td>...</td>\n",
              "      <td>1.250072</td>\n",
              "      <td>-1.153307</td>\n",
              "      <td>1.537867</td>\n",
              "      <td>-0.966474</td>\n",
              "      <td>0.066785</td>\n",
              "      <td>0.503467</td>\n",
              "      <td>0.468240</td>\n",
              "      <td>-0.462599</td>\n",
              "      <td>0.605455</td>\n",
              "      <td>-0.378908</td>\n",
              "    </tr>\n",
              "    <tr>\n",
              "      <th>3746</th>\n",
              "      <td>0.261649</td>\n",
              "      <td>-0.828331</td>\n",
              "      <td>1.243216</td>\n",
              "      <td>-0.680494</td>\n",
              "      <td>-0.556439</td>\n",
              "      <td>0.963510</td>\n",
              "      <td>0.084122</td>\n",
              "      <td>-1.607334</td>\n",
              "      <td>-0.349195</td>\n",
              "      <td>-1.438059</td>\n",
              "      <td>...</td>\n",
              "      <td>-0.034319</td>\n",
              "      <td>-0.055959</td>\n",
              "      <td>0.308261</td>\n",
              "      <td>-0.023961</td>\n",
              "      <td>-1.323867</td>\n",
              "      <td>-0.138543</td>\n",
              "      <td>0.373772</td>\n",
              "      <td>-0.003662</td>\n",
              "      <td>0.693934</td>\n",
              "      <td>-0.511764</td>\n",
              "    </tr>\n",
              "    <tr>\n",
              "      <th>3747</th>\n",
              "      <td>0.218575</td>\n",
              "      <td>-0.771185</td>\n",
              "      <td>-0.383086</td>\n",
              "      <td>-0.199883</td>\n",
              "      <td>-0.129528</td>\n",
              "      <td>-0.149292</td>\n",
              "      <td>-2.479446</td>\n",
              "      <td>-0.078812</td>\n",
              "      <td>-1.621631</td>\n",
              "      <td>-1.130816</td>\n",
              "      <td>...</td>\n",
              "      <td>-1.325665</td>\n",
              "      <td>-0.317795</td>\n",
              "      <td>-0.057320</td>\n",
              "      <td>1.089051</td>\n",
              "      <td>0.732304</td>\n",
              "      <td>-0.868406</td>\n",
              "      <td>-0.075266</td>\n",
              "      <td>1.008543</td>\n",
              "      <td>-0.455180</td>\n",
              "      <td>-2.685843</td>\n",
              "    </tr>\n",
              "    <tr>\n",
              "      <th>3748</th>\n",
              "      <td>2.888231</td>\n",
              "      <td>0.418043</td>\n",
              "      <td>-0.907012</td>\n",
              "      <td>0.444785</td>\n",
              "      <td>-0.058312</td>\n",
              "      <td>-0.514735</td>\n",
              "      <td>-1.132560</td>\n",
              "      <td>1.118615</td>\n",
              "      <td>0.236770</td>\n",
              "      <td>-1.250731</td>\n",
              "      <td>...</td>\n",
              "      <td>0.694050</td>\n",
              "      <td>-2.688472</td>\n",
              "      <td>-0.235554</td>\n",
              "      <td>0.803295</td>\n",
              "      <td>-0.250858</td>\n",
              "      <td>-0.819413</td>\n",
              "      <td>0.643698</td>\n",
              "      <td>0.699954</td>\n",
              "      <td>0.497534</td>\n",
              "      <td>0.219981</td>\n",
              "    </tr>\n",
              "    <tr>\n",
              "      <th>3749</th>\n",
              "      <td>-0.699106</td>\n",
              "      <td>0.554546</td>\n",
              "      <td>-0.568757</td>\n",
              "      <td>0.633969</td>\n",
              "      <td>-0.788796</td>\n",
              "      <td>0.029225</td>\n",
              "      <td>0.596378</td>\n",
              "      <td>0.156645</td>\n",
              "      <td>-0.436208</td>\n",
              "      <td>-1.957015</td>\n",
              "      <td>...</td>\n",
              "      <td>-0.376119</td>\n",
              "      <td>-0.807665</td>\n",
              "      <td>0.759775</td>\n",
              "      <td>-0.183540</td>\n",
              "      <td>-0.386674</td>\n",
              "      <td>-0.248166</td>\n",
              "      <td>0.048205</td>\n",
              "      <td>-1.058161</td>\n",
              "      <td>-1.543720</td>\n",
              "      <td>-1.094909</td>\n",
              "    </tr>\n",
              "  </tbody>\n",
              "</table>\n",
              "<p>3750 rows × 10000 columns</p>\n",
              "</div>\n",
              "      <button class=\"colab-df-convert\" onclick=\"convertToInteractive('df-819331b3-a417-49e3-9c0d-1278224fd852')\"\n",
              "              title=\"Convert this dataframe to an interactive table.\"\n",
              "              style=\"display:none;\">\n",
              "        \n",
              "  <svg xmlns=\"http://www.w3.org/2000/svg\" height=\"24px\"viewBox=\"0 0 24 24\"\n",
              "       width=\"24px\">\n",
              "    <path d=\"M0 0h24v24H0V0z\" fill=\"none\"/>\n",
              "    <path d=\"M18.56 5.44l.94 2.06.94-2.06 2.06-.94-2.06-.94-.94-2.06-.94 2.06-2.06.94zm-11 1L8.5 8.5l.94-2.06 2.06-.94-2.06-.94L8.5 2.5l-.94 2.06-2.06.94zm10 10l.94 2.06.94-2.06 2.06-.94-2.06-.94-.94-2.06-.94 2.06-2.06.94z\"/><path d=\"M17.41 7.96l-1.37-1.37c-.4-.4-.92-.59-1.43-.59-.52 0-1.04.2-1.43.59L10.3 9.45l-7.72 7.72c-.78.78-.78 2.05 0 2.83L4 21.41c.39.39.9.59 1.41.59.51 0 1.02-.2 1.41-.59l7.78-7.78 2.81-2.81c.8-.78.8-2.07 0-2.86zM5.41 20L4 18.59l7.72-7.72 1.47 1.35L5.41 20z\"/>\n",
              "  </svg>\n",
              "      </button>\n",
              "      \n",
              "  <style>\n",
              "    .colab-df-container {\n",
              "      display:flex;\n",
              "      flex-wrap:wrap;\n",
              "      gap: 12px;\n",
              "    }\n",
              "\n",
              "    .colab-df-convert {\n",
              "      background-color: #E8F0FE;\n",
              "      border: none;\n",
              "      border-radius: 50%;\n",
              "      cursor: pointer;\n",
              "      display: none;\n",
              "      fill: #1967D2;\n",
              "      height: 32px;\n",
              "      padding: 0 0 0 0;\n",
              "      width: 32px;\n",
              "    }\n",
              "\n",
              "    .colab-df-convert:hover {\n",
              "      background-color: #E2EBFA;\n",
              "      box-shadow: 0px 1px 2px rgba(60, 64, 67, 0.3), 0px 1px 3px 1px rgba(60, 64, 67, 0.15);\n",
              "      fill: #174EA6;\n",
              "    }\n",
              "\n",
              "    [theme=dark] .colab-df-convert {\n",
              "      background-color: #3B4455;\n",
              "      fill: #D2E3FC;\n",
              "    }\n",
              "\n",
              "    [theme=dark] .colab-df-convert:hover {\n",
              "      background-color: #434B5C;\n",
              "      box-shadow: 0px 1px 3px 1px rgba(0, 0, 0, 0.15);\n",
              "      filter: drop-shadow(0px 1px 2px rgba(0, 0, 0, 0.3));\n",
              "      fill: #FFFFFF;\n",
              "    }\n",
              "  </style>\n",
              "\n",
              "      <script>\n",
              "        const buttonEl =\n",
              "          document.querySelector('#df-819331b3-a417-49e3-9c0d-1278224fd852 button.colab-df-convert');\n",
              "        buttonEl.style.display =\n",
              "          google.colab.kernel.accessAllowed ? 'block' : 'none';\n",
              "\n",
              "        async function convertToInteractive(key) {\n",
              "          const element = document.querySelector('#df-819331b3-a417-49e3-9c0d-1278224fd852');\n",
              "          const dataTable =\n",
              "            await google.colab.kernel.invokeFunction('convertToInteractive',\n",
              "                                                     [key], {});\n",
              "          if (!dataTable) return;\n",
              "\n",
              "          const docLinkHtml = 'Like what you see? Visit the ' +\n",
              "            '<a target=\"_blank\" href=https://colab.research.google.com/notebooks/data_table.ipynb>data table notebook</a>'\n",
              "            + ' to learn more about interactive tables.';\n",
              "          element.innerHTML = '';\n",
              "          dataTable['output_type'] = 'display_data';\n",
              "          await google.colab.output.renderOutput(dataTable, element);\n",
              "          const docLink = document.createElement('div');\n",
              "          docLink.innerHTML = docLinkHtml;\n",
              "          element.appendChild(docLink);\n",
              "        }\n",
              "      </script>\n",
              "    </div>\n",
              "  </div>\n",
              "  "
            ]
          },
          "metadata": {},
          "execution_count": 3
        }
      ]
    },
    {
      "cell_type": "markdown",
      "source": [
        "##3.BASELINE"
      ],
      "metadata": {
        "id": "mOONYs9rzylT"
      }
    },
    {
      "cell_type": "code",
      "source": [
        "from sklearn.dummy import DummyClassifier\n",
        "\n",
        "methods = [\"most_frequent\", \"prior\", \"stratified\", \"uniform\"]\n",
        "scores = {}\n",
        "\n",
        "for method in methods:\n",
        "  dummy_clf = DummyClassifier(strategy=method)\n",
        "  dummy_clf.fit(X, y)\n",
        "  dummy_clf.predict(X)\n",
        "  scores[method] = dummy_clf.score(X, y)\n",
        "\n",
        "scores"
      ],
      "metadata": {
        "colab": {
          "base_uri": "https://localhost:8080/"
        },
        "id": "01SJRKyjz4yY",
        "outputId": "73c3e22a-4787-4839-8ada-1a1f8a63bbdb"
      },
      "execution_count": 4,
      "outputs": [
        {
          "output_type": "execute_result",
          "data": {
            "text/plain": [
              "{'most_frequent': 0.9,\n",
              " 'prior': 0.9,\n",
              " 'stratified': 0.8178666666666666,\n",
              " 'uniform': 0.4978666666666667}"
            ]
          },
          "metadata": {},
          "execution_count": 4
        }
      ]
    },
    {
      "cell_type": "markdown",
      "source": [
        "##4.ENCODING"
      ],
      "metadata": {
        "id": "wMb-zduaz56w"
      }
    },
    {
      "cell_type": "code",
      "source": [
        "# Loading dataset for the first time and saving dataframe as a pickle\n",
        "from sklearn.preprocessing import binarize\n",
        "y = pd.DataFrame(binarize(y))\n",
        "y"
      ],
      "metadata": {
        "id": "sRCcXiwsz9JB",
        "colab": {
          "base_uri": "https://localhost:8080/",
          "height": 424
        },
        "outputId": "b00ca848-a890-4711-df78-e83fb81e8aec"
      },
      "execution_count": 5,
      "outputs": [
        {
          "output_type": "execute_result",
          "data": {
            "text/plain": [
              "      0\n",
              "0     1\n",
              "1     1\n",
              "2     1\n",
              "3     1\n",
              "4     1\n",
              "...  ..\n",
              "3745  0\n",
              "3746  1\n",
              "3747  1\n",
              "3748  1\n",
              "3749  1\n",
              "\n",
              "[3750 rows x 1 columns]"
            ],
            "text/html": [
              "\n",
              "  <div id=\"df-cd80a22f-1c55-4c54-a9e5-ac4a5517af0e\">\n",
              "    <div class=\"colab-df-container\">\n",
              "      <div>\n",
              "<style scoped>\n",
              "    .dataframe tbody tr th:only-of-type {\n",
              "        vertical-align: middle;\n",
              "    }\n",
              "\n",
              "    .dataframe tbody tr th {\n",
              "        vertical-align: top;\n",
              "    }\n",
              "\n",
              "    .dataframe thead th {\n",
              "        text-align: right;\n",
              "    }\n",
              "</style>\n",
              "<table border=\"1\" class=\"dataframe\">\n",
              "  <thead>\n",
              "    <tr style=\"text-align: right;\">\n",
              "      <th></th>\n",
              "      <th>0</th>\n",
              "    </tr>\n",
              "  </thead>\n",
              "  <tbody>\n",
              "    <tr>\n",
              "      <th>0</th>\n",
              "      <td>1</td>\n",
              "    </tr>\n",
              "    <tr>\n",
              "      <th>1</th>\n",
              "      <td>1</td>\n",
              "    </tr>\n",
              "    <tr>\n",
              "      <th>2</th>\n",
              "      <td>1</td>\n",
              "    </tr>\n",
              "    <tr>\n",
              "      <th>3</th>\n",
              "      <td>1</td>\n",
              "    </tr>\n",
              "    <tr>\n",
              "      <th>4</th>\n",
              "      <td>1</td>\n",
              "    </tr>\n",
              "    <tr>\n",
              "      <th>...</th>\n",
              "      <td>...</td>\n",
              "    </tr>\n",
              "    <tr>\n",
              "      <th>3745</th>\n",
              "      <td>0</td>\n",
              "    </tr>\n",
              "    <tr>\n",
              "      <th>3746</th>\n",
              "      <td>1</td>\n",
              "    </tr>\n",
              "    <tr>\n",
              "      <th>3747</th>\n",
              "      <td>1</td>\n",
              "    </tr>\n",
              "    <tr>\n",
              "      <th>3748</th>\n",
              "      <td>1</td>\n",
              "    </tr>\n",
              "    <tr>\n",
              "      <th>3749</th>\n",
              "      <td>1</td>\n",
              "    </tr>\n",
              "  </tbody>\n",
              "</table>\n",
              "<p>3750 rows × 1 columns</p>\n",
              "</div>\n",
              "      <button class=\"colab-df-convert\" onclick=\"convertToInteractive('df-cd80a22f-1c55-4c54-a9e5-ac4a5517af0e')\"\n",
              "              title=\"Convert this dataframe to an interactive table.\"\n",
              "              style=\"display:none;\">\n",
              "        \n",
              "  <svg xmlns=\"http://www.w3.org/2000/svg\" height=\"24px\"viewBox=\"0 0 24 24\"\n",
              "       width=\"24px\">\n",
              "    <path d=\"M0 0h24v24H0V0z\" fill=\"none\"/>\n",
              "    <path d=\"M18.56 5.44l.94 2.06.94-2.06 2.06-.94-2.06-.94-.94-2.06-.94 2.06-2.06.94zm-11 1L8.5 8.5l.94-2.06 2.06-.94-2.06-.94L8.5 2.5l-.94 2.06-2.06.94zm10 10l.94 2.06.94-2.06 2.06-.94-2.06-.94-.94-2.06-.94 2.06-2.06.94z\"/><path d=\"M17.41 7.96l-1.37-1.37c-.4-.4-.92-.59-1.43-.59-.52 0-1.04.2-1.43.59L10.3 9.45l-7.72 7.72c-.78.78-.78 2.05 0 2.83L4 21.41c.39.39.9.59 1.41.59.51 0 1.02-.2 1.41-.59l7.78-7.78 2.81-2.81c.8-.78.8-2.07 0-2.86zM5.41 20L4 18.59l7.72-7.72 1.47 1.35L5.41 20z\"/>\n",
              "  </svg>\n",
              "      </button>\n",
              "      \n",
              "  <style>\n",
              "    .colab-df-container {\n",
              "      display:flex;\n",
              "      flex-wrap:wrap;\n",
              "      gap: 12px;\n",
              "    }\n",
              "\n",
              "    .colab-df-convert {\n",
              "      background-color: #E8F0FE;\n",
              "      border: none;\n",
              "      border-radius: 50%;\n",
              "      cursor: pointer;\n",
              "      display: none;\n",
              "      fill: #1967D2;\n",
              "      height: 32px;\n",
              "      padding: 0 0 0 0;\n",
              "      width: 32px;\n",
              "    }\n",
              "\n",
              "    .colab-df-convert:hover {\n",
              "      background-color: #E2EBFA;\n",
              "      box-shadow: 0px 1px 2px rgba(60, 64, 67, 0.3), 0px 1px 3px 1px rgba(60, 64, 67, 0.15);\n",
              "      fill: #174EA6;\n",
              "    }\n",
              "\n",
              "    [theme=dark] .colab-df-convert {\n",
              "      background-color: #3B4455;\n",
              "      fill: #D2E3FC;\n",
              "    }\n",
              "\n",
              "    [theme=dark] .colab-df-convert:hover {\n",
              "      background-color: #434B5C;\n",
              "      box-shadow: 0px 1px 3px 1px rgba(0, 0, 0, 0.15);\n",
              "      filter: drop-shadow(0px 1px 2px rgba(0, 0, 0, 0.3));\n",
              "      fill: #FFFFFF;\n",
              "    }\n",
              "  </style>\n",
              "\n",
              "      <script>\n",
              "        const buttonEl =\n",
              "          document.querySelector('#df-cd80a22f-1c55-4c54-a9e5-ac4a5517af0e button.colab-df-convert');\n",
              "        buttonEl.style.display =\n",
              "          google.colab.kernel.accessAllowed ? 'block' : 'none';\n",
              "\n",
              "        async function convertToInteractive(key) {\n",
              "          const element = document.querySelector('#df-cd80a22f-1c55-4c54-a9e5-ac4a5517af0e');\n",
              "          const dataTable =\n",
              "            await google.colab.kernel.invokeFunction('convertToInteractive',\n",
              "                                                     [key], {});\n",
              "          if (!dataTable) return;\n",
              "\n",
              "          const docLinkHtml = 'Like what you see? Visit the ' +\n",
              "            '<a target=\"_blank\" href=https://colab.research.google.com/notebooks/data_table.ipynb>data table notebook</a>'\n",
              "            + ' to learn more about interactive tables.';\n",
              "          element.innerHTML = '';\n",
              "          dataTable['output_type'] = 'display_data';\n",
              "          await google.colab.output.renderOutput(dataTable, element);\n",
              "          const docLink = document.createElement('div');\n",
              "          docLink.innerHTML = docLinkHtml;\n",
              "          element.appendChild(docLink);\n",
              "        }\n",
              "      </script>\n",
              "    </div>\n",
              "  </div>\n",
              "  "
            ]
          },
          "metadata": {},
          "execution_count": 5
        }
      ]
    },
    {
      "cell_type": "markdown",
      "source": [
        "##5.STRATIFIED KFOLD"
      ],
      "metadata": {
        "id": "ArlNG27L45DI"
      }
    },
    {
      "cell_type": "code",
      "source": [
        "from sklearn.model_selection import StratifiedKFold\n",
        "from sklearn.neighbors import KNeighborsClassifier\n",
        "import numpy as np\n",
        "\n",
        "splits = 10\n",
        "skf = StratifiedKFold(n_splits=splits, shuffle=True, random_state=42)\n",
        "\n",
        "\n",
        "for fold_nb, (train_index, test_index) in enumerate(skf.split(X, y)):\n",
        "    X_train, X_test = X[train_index], X[test_index]\n",
        "    y_train, y_test = y.iloc[train_index], y.iloc[test_index]\n",
        "    knn = KNeighborsClassifier(n_neighbors=3) \n",
        "    knn.fit(X_train, y_train)"
      ],
      "metadata": {
        "id": "5iJE-AY35f-w",
        "colab": {
          "base_uri": "https://localhost:8080/"
        },
        "outputId": "2f77dd6f-bd44-4384-8ae1-b8fa726cc772"
      },
      "execution_count": 6,
      "outputs": [
        {
          "output_type": "stream",
          "name": "stderr",
          "text": [
            "/usr/local/lib/python3.7/dist-packages/sklearn/neighbors/_classification.py:198: DataConversionWarning: A column-vector y was passed when a 1d array was expected. Please change the shape of y to (n_samples,), for example using ravel().\n",
            "  return self._fit(X, y)\n"
          ]
        },
        {
          "output_type": "stream",
          "name": "stdout",
          "text": [
            "Fold nb: 0\n",
            "X train shape: (3375, 10000)\n",
            "Score: 0.9075555555555556\n",
            "X test shape: (375, 10000)\n",
            "Score: 0.8773333333333333\n"
          ]
        },
        {
          "output_type": "stream",
          "name": "stderr",
          "text": [
            "/usr/local/lib/python3.7/dist-packages/sklearn/neighbors/_classification.py:198: DataConversionWarning: A column-vector y was passed when a 1d array was expected. Please change the shape of y to (n_samples,), for example using ravel().\n",
            "  return self._fit(X, y)\n"
          ]
        },
        {
          "output_type": "stream",
          "name": "stdout",
          "text": [
            "Fold nb: 1\n",
            "X train shape: (3375, 10000)\n",
            "Score: 0.9081481481481481\n",
            "X test shape: (375, 10000)\n",
            "Score: 0.88\n",
            "Fold nb: 2\n",
            "X train shape: (3375, 10000)\n"
          ]
        },
        {
          "output_type": "stream",
          "name": "stderr",
          "text": [
            "/usr/local/lib/python3.7/dist-packages/sklearn/neighbors/_classification.py:198: DataConversionWarning: A column-vector y was passed when a 1d array was expected. Please change the shape of y to (n_samples,), for example using ravel().\n",
            "  return self._fit(X, y)\n"
          ]
        },
        {
          "output_type": "stream",
          "name": "stdout",
          "text": [
            "Score: 0.906962962962963\n",
            "X test shape: (375, 10000)\n",
            "Score: 0.88\n",
            "Fold nb: 3\n",
            "X train shape: (3375, 10000)\n"
          ]
        },
        {
          "output_type": "stream",
          "name": "stderr",
          "text": [
            "/usr/local/lib/python3.7/dist-packages/sklearn/neighbors/_classification.py:198: DataConversionWarning: A column-vector y was passed when a 1d array was expected. Please change the shape of y to (n_samples,), for example using ravel().\n",
            "  return self._fit(X, y)\n"
          ]
        },
        {
          "output_type": "stream",
          "name": "stdout",
          "text": [
            "Score: 0.9081481481481481\n",
            "X test shape: (375, 10000)\n",
            "Score: 0.8853333333333333\n",
            "Fold nb: 4\n",
            "X train shape: (3375, 10000)\n"
          ]
        },
        {
          "output_type": "stream",
          "name": "stderr",
          "text": [
            "/usr/local/lib/python3.7/dist-packages/sklearn/neighbors/_classification.py:198: DataConversionWarning: A column-vector y was passed when a 1d array was expected. Please change the shape of y to (n_samples,), for example using ravel().\n",
            "  return self._fit(X, y)\n"
          ]
        },
        {
          "output_type": "stream",
          "name": "stdout",
          "text": [
            "Score: 0.9105185185185185\n",
            "X test shape: (375, 10000)\n",
            "Score: 0.88\n",
            "Fold nb: 5\n",
            "X train shape: (3375, 10000)\n"
          ]
        },
        {
          "output_type": "stream",
          "name": "stderr",
          "text": [
            "/usr/local/lib/python3.7/dist-packages/sklearn/neighbors/_classification.py:198: DataConversionWarning: A column-vector y was passed when a 1d array was expected. Please change the shape of y to (n_samples,), for example using ravel().\n",
            "  return self._fit(X, y)\n"
          ]
        },
        {
          "output_type": "stream",
          "name": "stdout",
          "text": [
            "Score: 0.9057777777777778\n",
            "X test shape: (375, 10000)\n",
            "Score: 0.8506666666666667\n",
            "Fold nb: 6\n",
            "X train shape: (3375, 10000)\n"
          ]
        },
        {
          "output_type": "stream",
          "name": "stderr",
          "text": [
            "/usr/local/lib/python3.7/dist-packages/sklearn/neighbors/_classification.py:198: DataConversionWarning: A column-vector y was passed when a 1d array was expected. Please change the shape of y to (n_samples,), for example using ravel().\n",
            "  return self._fit(X, y)\n"
          ]
        },
        {
          "output_type": "stream",
          "name": "stdout",
          "text": [
            "Score: 0.9066666666666666\n",
            "X test shape: (375, 10000)\n",
            "Score: 0.8773333333333333\n",
            "Fold nb: 7\n",
            "X train shape: (3375, 10000)\n"
          ]
        },
        {
          "output_type": "stream",
          "name": "stderr",
          "text": [
            "/usr/local/lib/python3.7/dist-packages/sklearn/neighbors/_classification.py:198: DataConversionWarning: A column-vector y was passed when a 1d array was expected. Please change the shape of y to (n_samples,), for example using ravel().\n",
            "  return self._fit(X, y)\n"
          ]
        },
        {
          "output_type": "stream",
          "name": "stdout",
          "text": [
            "Score: 0.9084444444444445\n",
            "X test shape: (375, 10000)\n",
            "Score: 0.8613333333333333\n",
            "Fold nb: 8\n",
            "X train shape: (3375, 10000)\n"
          ]
        },
        {
          "output_type": "stream",
          "name": "stderr",
          "text": [
            "/usr/local/lib/python3.7/dist-packages/sklearn/neighbors/_classification.py:198: DataConversionWarning: A column-vector y was passed when a 1d array was expected. Please change the shape of y to (n_samples,), for example using ravel().\n",
            "  return self._fit(X, y)\n"
          ]
        },
        {
          "output_type": "stream",
          "name": "stdout",
          "text": [
            "Score: 0.9063703703703704\n",
            "X test shape: (375, 10000)\n",
            "Score: 0.872\n",
            "Fold nb: 9\n",
            "X train shape: (3375, 10000)\n"
          ]
        },
        {
          "output_type": "stream",
          "name": "stderr",
          "text": [
            "/usr/local/lib/python3.7/dist-packages/sklearn/neighbors/_classification.py:198: DataConversionWarning: A column-vector y was passed when a 1d array was expected. Please change the shape of y to (n_samples,), for example using ravel().\n",
            "  return self._fit(X, y)\n"
          ]
        },
        {
          "output_type": "stream",
          "name": "stdout",
          "text": [
            "Score: 0.9096296296296297\n",
            "X test shape: (375, 10000)\n",
            "Score: 0.88\n"
          ]
        }
      ]
    },
    {
      "cell_type": "markdown",
      "source": [
        "##6.DIMENSIONALITY REDUCTION\n",
        "\n",
        "\n",
        "\n",
        "\n",
        "\n"
      ],
      "metadata": {
        "id": "vrPLKfiVN8bA"
      }
    },
    {
      "cell_type": "markdown",
      "source": [
        "###PCA \n",
        "https://towardsdatascience.com/pca-using-python-scikit-learn-e653f8989e60\n",
        "\n",
        "https://www.datacamp.com/tutorial/principal-component-analysis-in-python"
      ],
      "metadata": {
        "id": "UUl5C7bhNagc"
      }
    },
    {
      "cell_type": "code",
      "source": [
        "from sklearn.decomposition import PCA\n",
        "\n",
        "# Create a PCA that will retain 95% of the variance\n",
        "pca = PCA(n_components=0.95, whiten=True)\n",
        "\n",
        "# Conduct PCA\n",
        "X_pca = pca.fit_transform(X)\n",
        "\n",
        "print('Original number of features:', X.shape[1])\n",
        "print('Reduced number of features:', X_pca.shape[1])"
      ],
      "metadata": {
        "colab": {
          "base_uri": "https://localhost:8080/"
        },
        "id": "ZmuMLa7PbUSL",
        "outputId": "e99e305e-a515-490e-b2e5-e6eef0035c8a"
      },
      "execution_count": null,
      "outputs": [
        {
          "output_type": "stream",
          "name": "stdout",
          "text": [
            "Original number of features: 10000\n",
            "Reduced number of features: 3074\n"
          ]
        }
      ]
    }
  ]
}