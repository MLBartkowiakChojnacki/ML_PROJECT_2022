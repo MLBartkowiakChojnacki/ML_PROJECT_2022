{
 "cells": [
  {
   "cell_type": "code",
   "execution_count": 6,
   "metadata": {},
   "outputs": [],
   "source": [
    "from sklearn.preprocessing import StandardScaler\n",
    "import pandas as pd\n",
    "from instructions import load_df_from_pkl, save_df_as_pkl\n",
    "\n",
    "\n",
    "data_directory_vsc = 'C:/Users/Marta/Desktop/Studia/CDV/IV semestr 2022L/Wykorzystanie Pythona w uczeniu maszynowym/ml_project/project/ML_PROJECT_2022/data/raw'\n",
    "data_directory_colab = '/content/project/data'\n",
    "data_directory = data_directory_vsc\n",
    "\n",
    "std = StandardScaler()"
   ]
  },
  {
   "cell_type": "code",
   "execution_count": 4,
   "metadata": {},
   "outputs": [],
   "source": [
    "# loading data & standardization\n",
    "X = load_df_from_pkl(data_directory, 'X')\n",
    "X_std = std.fit_transform(X)\n",
    "X_std = pd.DataFrame(X_std)"
   ]
  },
  {
   "cell_type": "code",
   "execution_count": 7,
   "metadata": {},
   "outputs": [
    {
     "name": "stdout",
     "output_type": "stream",
     "text": [
      "Dataframe 'X_std.pkl' saved as a pickle.\n"
     ]
    }
   ],
   "source": [
    "# saving standardized data\n",
    "save_df_as_pkl(X_std, data_directory, 'X_std')"
   ]
  }
 ],
 "metadata": {
  "kernelspec": {
   "display_name": "Python 3.10.4 ('python_in_ml')",
   "language": "python",
   "name": "python3"
  },
  "language_info": {
   "codemirror_mode": {
    "name": "ipython",
    "version": 3
   },
   "file_extension": ".py",
   "mimetype": "text/x-python",
   "name": "python",
   "nbconvert_exporter": "python",
   "pygments_lexer": "ipython3",
   "version": "3.10.4"
  },
  "orig_nbformat": 4,
  "vscode": {
   "interpreter": {
    "hash": "2e3cc47668b018802626e3a416c19566715ed21c2b0a730c77eabf314b853671"
   }
  }
 },
 "nbformat": 4,
 "nbformat_minor": 2
}
