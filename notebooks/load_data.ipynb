{
 "cells": [
  {
   "cell_type": "code",
   "execution_count": 1,
   "metadata": {},
   "outputs": [],
   "source": [
    "import pandas as pd\n",
    "\n",
    "rows_num = pd.read_csv('C:/Users/Marta/Desktop/project/train_data.csv', nrows = 1)\n",
    "#rows_num = pd.read_csv('/content/drive/MyDrive/train_data.csv', nrows = 1)\n",
    "features = []\n",
    "col_num = len(rows_num.columns)\n",
    "\n",
    "for n in range (0, col_num):\n",
    "    features.append('feature_{}'.format(str(n)))"
   ]
  },
  {
   "cell_type": "code",
   "execution_count": 2,
   "metadata": {},
   "outputs": [],
   "source": [
    "#X = pd.read_csv('/content/drive/MyDrive/train_data.csv', names = features)\n",
    "X = pd.read_csv('C:/Users/Marta/Desktop/project/train_data.csv', names = features)\n",
    "X.to_pickle('data/raw/X.pkl')"
   ]
  },
  {
   "cell_type": "code",
   "execution_count": 3,
   "metadata": {},
   "outputs": [],
   "source": [
    "#y = pd.read_csv('/content/drive/MyDrive/train_labels.csv', names = ['target'])\n",
    "y = pd.read_csv('C:/Users/Marta/Desktop/project/train_labels.csv', names = ['target'])\n",
    "y.to_pickle('data/raw/y.pkl')"
   ]
  }
 ],
 "metadata": {
  "interpreter": {
   "hash": "2e3cc47668b018802626e3a416c19566715ed21c2b0a730c77eabf314b853671"
  },
  "kernelspec": {
   "display_name": "Python 3.10.4 ('python_in_ml')",
   "language": "python",
   "name": "python3"
  },
  "language_info": {
   "codemirror_mode": {
    "name": "ipython",
    "version": 3
   },
   "file_extension": ".py",
   "mimetype": "text/x-python",
   "name": "python",
   "nbconvert_exporter": "python",
   "pygments_lexer": "ipython3",
   "version": "3.10.4"
  },
  "orig_nbformat": 4
 },
 "nbformat": 4,
 "nbformat_minor": 2
}
