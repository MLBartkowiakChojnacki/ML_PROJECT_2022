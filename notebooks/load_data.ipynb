{
  "cells": [
    {
      "cell_type": "code",
      "execution_count": 20,
      "metadata": {
        "id": "ulUb5DdrW3bA"
      },
      "outputs": [],
      "source": [
        "import pandas as pd\n",
        "import numpy as np\n",
        "\n",
        "data_directory_vsc = 'C:/Users/Marta/Desktop/Studia/CDV/IV semestr 2022L/Wykorzystanie Pythona w uczeniu maszynowym/ml_project/project/ML_PROJECT_2022/data'\n",
        "data_directory_colab = '/content/project/data'\n",
        "\n",
        "#rows_num = pd.read_csv('C:/Users/Marta/Desktop/project/train_data.csv', nrows = 1)\n",
        "rows_num = pd.read_csv('/content/drive/MyDrive/train_data.csv', nrows = 1)\n",
        "features = []\n",
        "col_num = len(rows_num.columns)\n",
        "\n",
        "for n in range (0, col_num):\n",
        "    features.append('feature_{}'.format(str(n)))"
      ]
    },
    {
      "cell_type": "code",
      "execution_count": 2,
      "metadata": {
        "id": "9DRB9knRYKiZ"
      },
      "outputs": [],
      "source": [
        "#Saving dataset\n",
        "X = pd.read_csv('/content/drive/MyDrive/train_data.csv', names = features)\n",
        "X.to_pickle('{}/raw/X.pkl'.format(data_directory_colab))"
      ]
    },
    {
      "cell_type": "code",
      "execution_count": 25,
      "metadata": {
        "id": "8BU4l4JSYgjb"
      },
      "outputs": [],
      "source": [
        "from sklearn.preprocessing import binarize\n",
        "\n",
        "#y = pd.read_csv('C:/Users/Marta/Desktop/project/train_labels.csv', names = ['target'])\n",
        "y = pd.read_csv('/content/drive/MyDrive/train_labels.csv', names = ['target'])\n",
        "y = pd.DataFrame(binarize(y))\n",
        "\n",
        "y.to_pickle('{}/raw/y.pkl'.format(data_directory_colab))"
      ]
    },
    {
      "cell_type": "code",
      "execution_count": null,
      "metadata": {},
      "outputs": [],
      "source": [
        "# saving descriptive statistics\n",
        "X_desc = X.describe().T\n",
        "X_desc.to_pickle('{}/raw/X_desc.pkl'.format(data_directory_colab))"
      ]
    },
    {
      "cell_type": "code",
      "execution_count": null,
      "metadata": {},
      "outputs": [],
      "source": [
        "# saving corelation matrix\n",
        "cor_matrix = X.corr().abs()\n",
        "cor_matrix.to_pickle('{}/raw/cor_matrix.pkl'.format(data_directory_colab))"
      ]
    },
    {
      "cell_type": "code",
      "execution_count": null,
      "metadata": {},
      "outputs": [],
      "source": [
        "# saving upper triangle\n",
        "upper_tri = cor_matrix.where(np.triu(np.ones(cor_matrix.shape),k=1).astype(bool))\n",
        "upper_tri.to_pickle('{}/raw/upper_tri.pkl'.format(data_directory_colab))"
      ]
    }
  ],
  "metadata": {
    "colab": {
      "name": "Untitled0.ipynb",
      "provenance": []
    },
    "kernelspec": {
      "display_name": "Python 3",
      "name": "python3"
    },
    "language_info": {
      "name": "python"
    }
  },
  "nbformat": 4,
  "nbformat_minor": 0
}
