{
  "nbformat": 4,
  "nbformat_minor": 0,
  "metadata": {
    "colab": {
      "name": "Untitled0.ipynb",
      "provenance": []
    },
    "kernelspec": {
      "name": "python3",
      "display_name": "Python 3"
    },
    "language_info": {
      "name": "python"
    }
  },
  "cells": [
    {
      "cell_type": "code",
      "execution_count": 1,
      "metadata": {
        "id": "ulUb5DdrW3bA"
      },
      "outputs": [],
      "source": [
        "import pandas as pd\n",
        "\n",
        "\n",
        "#data_directory = 'C:/Users/Marta/Desktop/Studia/CDV/IV semestr 2022L/Wykorzystanie Pythona w uczeniu maszynowym/ml_project/project/ML_PROJECT_2022/data'\n",
        "\n",
        "#rows_num = pd.read_csv('C:/Users/Marta/Desktop/project/train_data.csv', nrows = 1)\n",
        "rows_num = pd.read_csv('/content/drive/MyDrive/train_data.csv', nrows = 1)\n",
        "features = []\n",
        "col_num = len(rows_num.columns)\n",
        "\n",
        "for n in range (0, col_num):\n",
        "    features.append('feature_{}'.format(str(n)))"
      ]
    },
    {
      "cell_type": "code",
      "source": [
        "#Saving dataset\n",
        "# Colab way\n",
        "X = pd.read_csv('/content/drive/MyDrive/train_data.csv', names = features)\n",
        "X.to_pickle('/content/project/data/raw/X.pkl')\n",
        "\n",
        "#VSCode way\n",
        "#X = pd.read_csv('C:/Users/Marta/Desktop/project/train_data.csv', names = features)\n",
        "#X.to_pickle('{}/raw/X.pkl'.format(data_directory))"
      ],
      "metadata": {
        "id": "9DRB9knRYKiZ"
      },
      "execution_count": 2,
      "outputs": []
    },
    {
      "cell_type": "code",
      "source": [
        "# Colab way\n",
        "y = pd.read_csv('/content/drive/MyDrive/train_labels.csv', names = ['target'])\n",
        "y.to_pickle('/content/project/data/raw/y.pkl')\n",
        "\n",
        "#VSCode way\n",
        "#y = pd.read_csv('C:/Users/Marta/Desktop/project/train_labels.csv', names = ['target'])\n",
        "#y.to_pickle('{}/raw/y.pkl'.format(data_directory))"
      ],
      "metadata": {
        "id": "8BU4l4JSYgjb"
      },
      "execution_count": 3,
      "outputs": []
    }
  ]
}