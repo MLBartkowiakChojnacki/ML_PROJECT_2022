{
  "cells": [
    {
      "cell_type": "code",
      "execution_count": 7,
      "metadata": {},
      "outputs": [],
      "source": [
        "import numpy as np\n",
        "import pandas as pd\n",
        "from sklearn.preprocessing import binarize\n",
        "from instructions import load_csv, save_df_as_pkl\n",
        "import os"
      ]
    },
    {
      "cell_type": "code",
      "execution_count": 8,
      "metadata": {},
      "outputs": [
        {
          "data": {
            "text/plain": [
              "'c:\\\\Users\\\\Marta\\\\Desktop\\\\Studia\\\\CDV\\\\IV semestr 2022L\\\\Wykorzystanie Pythona w uczeniu maszynowym\\\\ml_project\\\\project\\\\ML_PROJECT_2022\\\\data\\\\raw'"
            ]
          },
          "execution_count": 8,
          "metadata": {},
          "output_type": "execute_result"
        }
      ],
      "source": [
        "path = os.path.split(os.getcwd())\n",
        "data_directory = os.path.join(path[0], 'data\\\\raw')\n",
        "data_directory"
      ]
    },
    {
      "cell_type": "code",
      "execution_count": 24,
      "metadata": {
        "id": "9DRB9knRYKiZ"
      },
      "outputs": [
        {
          "name": "stdout",
          "output_type": "stream",
          "text": [
            "Dataframe 'X.pkl' saved as a pickle.\n"
          ]
        }
      ],
      "source": [
        "# Loading dataset for the first time and saving train_data dataframe as a pickle\n",
        "X = load_csv(data_directory, 'train_data')\n",
        "save_df_as_pkl(X, data_directory, 'X')"
      ]
    },
    {
      "cell_type": "code",
      "execution_count": null,
      "metadata": {},
      "outputs": [],
      "source": [
        "# Loading dataset for the first time and saving test_data dataframe as a pickle\n",
        "X_test = load_csv(data_directory, 'test_data')\n",
        "save_df_as_pkl(X_test, data_directory, 'X_test')"
      ]
    },
    {
      "cell_type": "code",
      "execution_count": 9,
      "metadata": {},
      "outputs": [],
      "source": [
        "# Loading dataset for the first time and saving dataframe as a pickle\n",
        "y = load_csv(data_directory, 'train_labels')\n",
        "y = pd.DataFrame(binarize(y))\n",
        "save_df_as_pkl(y, data_directory, 'y')"
      ]
    },
    {
      "cell_type": "code",
      "execution_count": null,
      "metadata": {},
      "outputs": [],
      "source": [
        "# saving descriptive statistics as a pickle\n",
        "X_desc = X.describe().T\n",
        "save_df_as_pkl(X_desc, data_directory, 'X_desc')"
      ]
    },
    {
      "cell_type": "code",
      "execution_count": 28,
      "metadata": {},
      "outputs": [],
      "source": [
        "# saving corelation matrix as a pickle\n",
        "cor_matrix = X.corr().abs()\n",
        "save_df_as_pkl(cor_matrix, data_directory, 'cor_matrix')"
      ]
    },
    {
      "cell_type": "code",
      "execution_count": 29,
      "metadata": {},
      "outputs": [],
      "source": [
        "# saving upper triangle as a pickle\n",
        "upper_tri = cor_matrix.where(np.triu(np.ones(cor_matrix.shape),k=1).astype(bool))\n",
        "save_df_as_pkl(upper_tri, data_directory, 'upper_tri')"
      ]
    }
  ],
  "metadata": {
    "colab": {
      "name": "Untitled0.ipynb",
      "provenance": []
    },
    "kernelspec": {
      "display_name": "Python 3.10.4 ('python_in_ml')",
      "language": "python",
      "name": "python3"
    },
    "language_info": {
      "codemirror_mode": {
        "name": "ipython",
        "version": 3
      },
      "file_extension": ".py",
      "mimetype": "text/x-python",
      "name": "python",
      "nbconvert_exporter": "python",
      "pygments_lexer": "ipython3",
      "version": "3.10.4"
    },
    "vscode": {
      "interpreter": {
        "hash": "2e3cc47668b018802626e3a416c19566715ed21c2b0a730c77eabf314b853671"
      }
    }
  },
  "nbformat": 4,
  "nbformat_minor": 0
}
